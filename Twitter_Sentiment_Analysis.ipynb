{
  "metadata": {
    "kernelspec": {
      "language": "python",
      "display_name": "Python 3",
      "name": "python3"
    },
    "language_info": {
      "name": "python",
      "version": "3.7.12",
      "mimetype": "text/x-python",
      "codemirror_mode": {
        "name": "ipython",
        "version": 3
      },
      "pygments_lexer": "ipython3",
      "nbconvert_exporter": "python",
      "file_extension": ".py"
    },
    "colab": {
      "name": "Twitter-Sentiment Analysis.ipynb",
      "provenance": []
    },
    "accelerator": "GPU"
  },
  "nbformat_minor": 0,
  "nbformat": 4,
  "cells": [
    {
      "cell_type": "code",
      "source": [
        "# Imports\n",
        "import torch\n",
        "import torch.nn as nn\n",
        "import torch.nn.functional as F\n",
        "from torch.utils.data import TensorDataset, DataLoader\n",
        "import pandas as pd "
      ],
      "metadata": {
        "id": "PaecEf7v5MKB",
        "execution": {
          "iopub.status.busy": "2022-06-02T18:37:24.831147Z",
          "iopub.execute_input": "2022-06-02T18:37:24.831519Z",
          "iopub.status.idle": "2022-06-02T18:37:26.498001Z",
          "shell.execute_reply.started": "2022-06-02T18:37:24.831443Z",
          "shell.execute_reply": "2022-06-02T18:37:26.496996Z"
        },
        "trusted": true
      },
      "execution_count": null,
      "outputs": []
    },
    {
      "cell_type": "markdown",
      "source": [
        "Downloads of dataset"
      ],
      "metadata": {
        "id": "En53Getck-3n"
      }
    },
    {
      "cell_type": "code",
      "source": [
        "pip install gdown"
      ],
      "metadata": {
        "id": "P--voy60Wmgj",
        "execution": {
          "iopub.status.busy": "2022-06-02T18:37:54.338589Z",
          "iopub.execute_input": "2022-06-02T18:37:54.339475Z",
          "iopub.status.idle": "2022-06-02T18:38:26.075210Z",
          "shell.execute_reply.started": "2022-06-02T18:37:54.339438Z",
          "shell.execute_reply": "2022-06-02T18:38:26.074145Z"
        },
        "trusted": true,
        "colab": {
          "base_uri": "https://localhost:8080/"
        },
        "outputId": "8fb2b4ab-a1dd-42f3-9f39-bbbd25c4600e"
      },
      "execution_count": null,
      "outputs": [
        {
          "output_type": "stream",
          "name": "stdout",
          "text": [
            "Looking in indexes: https://pypi.org/simple, https://us-python.pkg.dev/colab-wheels/public/simple/\n",
            "Requirement already satisfied: gdown in /usr/local/lib/python3.7/dist-packages (4.4.0)\n",
            "Requirement already satisfied: filelock in /usr/local/lib/python3.7/dist-packages (from gdown) (3.7.0)\n",
            "Requirement already satisfied: tqdm in /usr/local/lib/python3.7/dist-packages (from gdown) (4.64.0)\n",
            "Requirement already satisfied: requests[socks] in /usr/local/lib/python3.7/dist-packages (from gdown) (2.23.0)\n",
            "Requirement already satisfied: six in /usr/local/lib/python3.7/dist-packages (from gdown) (1.15.0)\n",
            "Requirement already satisfied: beautifulsoup4 in /usr/local/lib/python3.7/dist-packages (from gdown) (4.6.3)\n",
            "Requirement already satisfied: certifi>=2017.4.17 in /usr/local/lib/python3.7/dist-packages (from requests[socks]->gdown) (2022.5.18.1)\n",
            "Requirement already satisfied: urllib3!=1.25.0,!=1.25.1,<1.26,>=1.21.1 in /usr/local/lib/python3.7/dist-packages (from requests[socks]->gdown) (1.24.3)\n",
            "Requirement already satisfied: idna<3,>=2.5 in /usr/local/lib/python3.7/dist-packages (from requests[socks]->gdown) (2.10)\n",
            "Requirement already satisfied: chardet<4,>=3.0.2 in /usr/local/lib/python3.7/dist-packages (from requests[socks]->gdown) (3.0.4)\n",
            "Requirement already satisfied: PySocks!=1.5.7,>=1.5.6 in /usr/local/lib/python3.7/dist-packages (from requests[socks]->gdown) (1.7.1)\n"
          ]
        }
      ]
    },
    {
      "cell_type": "code",
      "source": [
        "!gdown 1o5MUso55NfTymcO_KsWAaLLd7py4yU6Q"
      ],
      "metadata": {
        "id": "xBA6bnm7Vq5V",
        "outputId": "155e10cb-9160-4870-8194-5ea5c93efb17",
        "execution": {
          "iopub.status.busy": "2022-06-02T18:38:26.077202Z",
          "iopub.execute_input": "2022-06-02T18:38:26.077611Z",
          "iopub.status.idle": "2022-06-02T18:38:34.047561Z",
          "shell.execute_reply.started": "2022-06-02T18:38:26.077568Z",
          "shell.execute_reply": "2022-06-02T18:38:34.046591Z"
        },
        "trusted": true,
        "colab": {
          "base_uri": "https://localhost:8080/"
        }
      },
      "execution_count": null,
      "outputs": [
        {
          "output_type": "stream",
          "name": "stdout",
          "text": [
            "Downloading...\n",
            "From: https://drive.google.com/uc?id=1o5MUso55NfTymcO_KsWAaLLd7py4yU6Q\n",
            "To: /content/TwitterDataset.zip\n",
            "\r  0% 0.00/2.10M [00:00<?, ?B/s]\r100% 2.10M/2.10M [00:00<00:00, 211MB/s]\n"
          ]
        }
      ]
    },
    {
      "cell_type": "code",
      "source": [
        "!unzip /content/TwitterDataset.zip"
      ],
      "metadata": {
        "id": "xPBedLGmVq5X",
        "outputId": "10de5738-996d-462f-c5df-9c9fd285c5b9",
        "execution": {
          "iopub.status.busy": "2022-06-02T18:38:45.762817Z",
          "iopub.execute_input": "2022-06-02T18:38:45.763577Z",
          "iopub.status.idle": "2022-06-02T18:38:46.501689Z",
          "shell.execute_reply.started": "2022-06-02T18:38:45.763528Z",
          "shell.execute_reply": "2022-06-02T18:38:46.500442Z"
        },
        "trusted": true,
        "colab": {
          "base_uri": "https://localhost:8080/"
        }
      },
      "execution_count": null,
      "outputs": [
        {
          "output_type": "stream",
          "name": "stdout",
          "text": [
            "Archive:  /content/TwitterDataset.zip\n",
            "  inflating: HW2/twitter_test.csv    \n",
            "  inflating: HW2/twitter_training.csv  \n"
          ]
        }
      ]
    },
    {
      "cell_type": "markdown",
      "source": [
        "Preprocessing of the Training and the Test Set"
      ],
      "metadata": {
        "id": "BeK-S-B7Icbt"
      }
    },
    {
      "cell_type": "code",
      "source": [
        "columns = [\"Id\",\"Entity\",\"Target\",\"Text\"]\n",
        "data_train = pd.read_csv(\"/content/HW2/twitter_training.csv\",\n",
        "                   names=columns,header=None)"
      ],
      "metadata": {
        "id": "p505EE9n590M",
        "execution": {
          "iopub.status.busy": "2022-06-02T18:57:26.313047Z",
          "iopub.execute_input": "2022-06-02T18:57:26.313412Z",
          "iopub.status.idle": "2022-06-02T18:57:26.483007Z",
          "shell.execute_reply.started": "2022-06-02T18:57:26.313361Z",
          "shell.execute_reply": "2022-06-02T18:57:26.482198Z"
        },
        "trusted": true
      },
      "execution_count": null,
      "outputs": []
    },
    {
      "cell_type": "code",
      "source": [
        "columns = [\"Id\",\"Entity\",\"Target\",\"Text\"]\n",
        "data_test = pd.read_csv(\"/content/HW2/twitter_test.csv\",\n",
        "                   names=columns,header=None)"
      ],
      "metadata": {
        "id": "Y_b7rRVcDtYg",
        "execution": {
          "iopub.status.busy": "2022-06-02T18:57:27.245561Z",
          "iopub.execute_input": "2022-06-02T18:57:27.245922Z",
          "iopub.status.idle": "2022-06-02T18:57:27.257440Z",
          "shell.execute_reply.started": "2022-06-02T18:57:27.245891Z",
          "shell.execute_reply": "2022-06-02T18:57:27.256671Z"
        },
        "trusted": true
      },
      "execution_count": null,
      "outputs": []
    },
    {
      "cell_type": "code",
      "source": [
        "data_train.head(50)"
      ],
      "metadata": {
        "id": "bxPgnuflB-Y9",
        "outputId": "c3bc8dcb-70c0-4b20-c3ac-5b81e2acfcda",
        "execution": {
          "iopub.status.busy": "2022-06-02T18:57:28.027741Z",
          "iopub.execute_input": "2022-06-02T18:57:28.028616Z",
          "iopub.status.idle": "2022-06-02T18:57:28.045613Z",
          "shell.execute_reply.started": "2022-06-02T18:57:28.028568Z",
          "shell.execute_reply": "2022-06-02T18:57:28.044870Z"
        },
        "trusted": true,
        "colab": {
          "base_uri": "https://localhost:8080/",
          "height": 1000
        }
      },
      "execution_count": null,
      "outputs": [
        {
          "output_type": "execute_result",
          "data": {
            "text/plain": [
              "      Id       Entity    Target  \\\n",
              "0   2401  Borderlands  Positive   \n",
              "1   2401  Borderlands  Positive   \n",
              "2   2401  Borderlands  Positive   \n",
              "3   2401  Borderlands  Positive   \n",
              "4   2401  Borderlands  Positive   \n",
              "5   2401  Borderlands  Positive   \n",
              "6   2402  Borderlands  Positive   \n",
              "7   2402  Borderlands  Positive   \n",
              "8   2402  Borderlands  Positive   \n",
              "9   2402  Borderlands  Positive   \n",
              "10  2402  Borderlands  Positive   \n",
              "11  2402  Borderlands  Positive   \n",
              "12  2403  Borderlands   Neutral   \n",
              "13  2403  Borderlands   Neutral   \n",
              "14  2403  Borderlands   Neutral   \n",
              "15  2403  Borderlands   Neutral   \n",
              "16  2403  Borderlands   Neutral   \n",
              "17  2403  Borderlands   Neutral   \n",
              "18  2404  Borderlands  Positive   \n",
              "19  2404  Borderlands  Positive   \n",
              "20  2404  Borderlands  Positive   \n",
              "21  2404  Borderlands  Positive   \n",
              "22  2404  Borderlands  Positive   \n",
              "23  2404  Borderlands  Positive   \n",
              "24  2405  Borderlands  Negative   \n",
              "25  2405  Borderlands  Negative   \n",
              "26  2405  Borderlands  Negative   \n",
              "27  2405  Borderlands  Negative   \n",
              "28  2405  Borderlands  Negative   \n",
              "29  2405  Borderlands  Negative   \n",
              "30  2406  Borderlands  Positive   \n",
              "31  2406  Borderlands  Positive   \n",
              "32  2406  Borderlands  Positive   \n",
              "33  2406  Borderlands  Positive   \n",
              "34  2406  Borderlands  Positive   \n",
              "35  2406  Borderlands  Positive   \n",
              "36  2407  Borderlands  Negative   \n",
              "37  2407  Borderlands  Negative   \n",
              "38  2407  Borderlands  Negative   \n",
              "39  2407  Borderlands  Negative   \n",
              "40  2407  Borderlands  Negative   \n",
              "41  2407  Borderlands  Negative   \n",
              "42  2408  Borderlands   Neutral   \n",
              "43  2408  Borderlands   Neutral   \n",
              "44  2408  Borderlands   Neutral   \n",
              "45  2408  Borderlands   Neutral   \n",
              "46  2408  Borderlands   Neutral   \n",
              "47  2408  Borderlands   Neutral   \n",
              "48  2409  Borderlands   Neutral   \n",
              "49  2409  Borderlands   Neutral   \n",
              "\n",
              "                                                 Text  \n",
              "0   im getting on borderlands and i will murder yo...  \n",
              "1   I am coming to the borders and I will kill you...  \n",
              "2   im getting on borderlands and i will kill you ...  \n",
              "3   im coming on borderlands and i will murder you...  \n",
              "4   im getting on borderlands 2 and i will murder ...  \n",
              "5   im getting into borderlands and i can murder y...  \n",
              "6   So I spent a few hours making something for fu...  \n",
              "7   So I spent a couple of hours doing something f...  \n",
              "8   So I spent a few hours doing something for fun...  \n",
              "9   So I spent a few hours making something for fu...  \n",
              "10  2010 So I spent a few hours making something f...  \n",
              "11                                                was  \n",
              "12  Rock-Hard La Varlope, RARE & POWERFUL, HANDSOM...  \n",
              "13  Rock-Hard La Varlope, RARE & POWERFUL, HANDSOM...  \n",
              "14  Rock-Hard La Varlope, RARE & POWERFUL, HANDSOM...  \n",
              "15  Rock-Hard La Vita, RARE BUT POWERFUL, HANDSOME...  \n",
              "16  Live Rock - Hard music La la Varlope, RARE & t...  \n",
              "17  I-Hard like me, RARE LONDON DE, HANDSOME 2011,...  \n",
              "18  that was the first borderlands session in a lo...  \n",
              "19  this was the first Borderlands session in a lo...  \n",
              "20  that was the first borderlands session in a lo...  \n",
              "21  that was the first borderlands session in a lo...  \n",
              "22  that I was the first real borderlands session ...  \n",
              "23  that was the first borderlands session in a ho...  \n",
              "24  the biggest dissappoinment in my life came out...  \n",
              "25  The biggest disappointment of my life came a y...  \n",
              "26  The biggest disappointment of my life came a y...  \n",
              "27  the biggest dissappoinment in my life coming o...  \n",
              "28  For the biggest male dissappoinment in my life...  \n",
              "29  the biggest dissappoinment in my life came bac...  \n",
              "30  WE FINISHED BORDERLANDS 3 FINALLY YAS! Thank y...  \n",
              "31  WE FINALLY FINALLY FIND BORDERLANDS 3 YES! Tha...  \n",
              "32  Thank you for hanging up everyone! It was fun....  \n",
              "33  WE FINISHED BORDERLANDS 3 UPDATE YAS! Thank yo...  \n",
              "34  WE FINISHED BORDERLANDS 3 AND FINALLY YAS! Tha...  \n",
              "35  WE FINISHED BORDERLANDS 3 FINALLY YAS! Hey you...  \n",
              "36  Man Gearbox really needs to fix this dissapoin...  \n",
              "37  Man Gearbox really needs to fix these disappoi...  \n",
              "38  Man Gearbox really needs to fix this disssapoi...  \n",
              "39  Man Bethesda really needs to fix this dissapoi...  \n",
              "40  Man Gearbox really needs to fix this dissapoin...  \n",
              "41  <unk> Gearbox really time to fix this 10 drops...  \n",
              "42                   Check out this epic streamer!.    \n",
              "43                     Check out this epic streamer!.  \n",
              "44                       Watch this epic striptease!.  \n",
              "45                      Check out our epic streamer!.  \n",
              "46                 Check out this big epic streamer!.  \n",
              "47                    Check<unk> this epic streamer!.  \n",
              "48  Blaming Sight for Tardiness! A little bit of b...  \n",
              "49  A bit of borderland. I was called to work tomo...  "
            ],
            "text/html": [
              "\n",
              "  <div id=\"df-695605c0-8f21-4dbb-ba48-c57921d2c217\">\n",
              "    <div class=\"colab-df-container\">\n",
              "      <div>\n",
              "<style scoped>\n",
              "    .dataframe tbody tr th:only-of-type {\n",
              "        vertical-align: middle;\n",
              "    }\n",
              "\n",
              "    .dataframe tbody tr th {\n",
              "        vertical-align: top;\n",
              "    }\n",
              "\n",
              "    .dataframe thead th {\n",
              "        text-align: right;\n",
              "    }\n",
              "</style>\n",
              "<table border=\"1\" class=\"dataframe\">\n",
              "  <thead>\n",
              "    <tr style=\"text-align: right;\">\n",
              "      <th></th>\n",
              "      <th>Id</th>\n",
              "      <th>Entity</th>\n",
              "      <th>Target</th>\n",
              "      <th>Text</th>\n",
              "    </tr>\n",
              "  </thead>\n",
              "  <tbody>\n",
              "    <tr>\n",
              "      <th>0</th>\n",
              "      <td>2401</td>\n",
              "      <td>Borderlands</td>\n",
              "      <td>Positive</td>\n",
              "      <td>im getting on borderlands and i will murder yo...</td>\n",
              "    </tr>\n",
              "    <tr>\n",
              "      <th>1</th>\n",
              "      <td>2401</td>\n",
              "      <td>Borderlands</td>\n",
              "      <td>Positive</td>\n",
              "      <td>I am coming to the borders and I will kill you...</td>\n",
              "    </tr>\n",
              "    <tr>\n",
              "      <th>2</th>\n",
              "      <td>2401</td>\n",
              "      <td>Borderlands</td>\n",
              "      <td>Positive</td>\n",
              "      <td>im getting on borderlands and i will kill you ...</td>\n",
              "    </tr>\n",
              "    <tr>\n",
              "      <th>3</th>\n",
              "      <td>2401</td>\n",
              "      <td>Borderlands</td>\n",
              "      <td>Positive</td>\n",
              "      <td>im coming on borderlands and i will murder you...</td>\n",
              "    </tr>\n",
              "    <tr>\n",
              "      <th>4</th>\n",
              "      <td>2401</td>\n",
              "      <td>Borderlands</td>\n",
              "      <td>Positive</td>\n",
              "      <td>im getting on borderlands 2 and i will murder ...</td>\n",
              "    </tr>\n",
              "    <tr>\n",
              "      <th>5</th>\n",
              "      <td>2401</td>\n",
              "      <td>Borderlands</td>\n",
              "      <td>Positive</td>\n",
              "      <td>im getting into borderlands and i can murder y...</td>\n",
              "    </tr>\n",
              "    <tr>\n",
              "      <th>6</th>\n",
              "      <td>2402</td>\n",
              "      <td>Borderlands</td>\n",
              "      <td>Positive</td>\n",
              "      <td>So I spent a few hours making something for fu...</td>\n",
              "    </tr>\n",
              "    <tr>\n",
              "      <th>7</th>\n",
              "      <td>2402</td>\n",
              "      <td>Borderlands</td>\n",
              "      <td>Positive</td>\n",
              "      <td>So I spent a couple of hours doing something f...</td>\n",
              "    </tr>\n",
              "    <tr>\n",
              "      <th>8</th>\n",
              "      <td>2402</td>\n",
              "      <td>Borderlands</td>\n",
              "      <td>Positive</td>\n",
              "      <td>So I spent a few hours doing something for fun...</td>\n",
              "    </tr>\n",
              "    <tr>\n",
              "      <th>9</th>\n",
              "      <td>2402</td>\n",
              "      <td>Borderlands</td>\n",
              "      <td>Positive</td>\n",
              "      <td>So I spent a few hours making something for fu...</td>\n",
              "    </tr>\n",
              "    <tr>\n",
              "      <th>10</th>\n",
              "      <td>2402</td>\n",
              "      <td>Borderlands</td>\n",
              "      <td>Positive</td>\n",
              "      <td>2010 So I spent a few hours making something f...</td>\n",
              "    </tr>\n",
              "    <tr>\n",
              "      <th>11</th>\n",
              "      <td>2402</td>\n",
              "      <td>Borderlands</td>\n",
              "      <td>Positive</td>\n",
              "      <td>was</td>\n",
              "    </tr>\n",
              "    <tr>\n",
              "      <th>12</th>\n",
              "      <td>2403</td>\n",
              "      <td>Borderlands</td>\n",
              "      <td>Neutral</td>\n",
              "      <td>Rock-Hard La Varlope, RARE &amp; POWERFUL, HANDSOM...</td>\n",
              "    </tr>\n",
              "    <tr>\n",
              "      <th>13</th>\n",
              "      <td>2403</td>\n",
              "      <td>Borderlands</td>\n",
              "      <td>Neutral</td>\n",
              "      <td>Rock-Hard La Varlope, RARE &amp; POWERFUL, HANDSOM...</td>\n",
              "    </tr>\n",
              "    <tr>\n",
              "      <th>14</th>\n",
              "      <td>2403</td>\n",
              "      <td>Borderlands</td>\n",
              "      <td>Neutral</td>\n",
              "      <td>Rock-Hard La Varlope, RARE &amp; POWERFUL, HANDSOM...</td>\n",
              "    </tr>\n",
              "    <tr>\n",
              "      <th>15</th>\n",
              "      <td>2403</td>\n",
              "      <td>Borderlands</td>\n",
              "      <td>Neutral</td>\n",
              "      <td>Rock-Hard La Vita, RARE BUT POWERFUL, HANDSOME...</td>\n",
              "    </tr>\n",
              "    <tr>\n",
              "      <th>16</th>\n",
              "      <td>2403</td>\n",
              "      <td>Borderlands</td>\n",
              "      <td>Neutral</td>\n",
              "      <td>Live Rock - Hard music La la Varlope, RARE &amp; t...</td>\n",
              "    </tr>\n",
              "    <tr>\n",
              "      <th>17</th>\n",
              "      <td>2403</td>\n",
              "      <td>Borderlands</td>\n",
              "      <td>Neutral</td>\n",
              "      <td>I-Hard like me, RARE LONDON DE, HANDSOME 2011,...</td>\n",
              "    </tr>\n",
              "    <tr>\n",
              "      <th>18</th>\n",
              "      <td>2404</td>\n",
              "      <td>Borderlands</td>\n",
              "      <td>Positive</td>\n",
              "      <td>that was the first borderlands session in a lo...</td>\n",
              "    </tr>\n",
              "    <tr>\n",
              "      <th>19</th>\n",
              "      <td>2404</td>\n",
              "      <td>Borderlands</td>\n",
              "      <td>Positive</td>\n",
              "      <td>this was the first Borderlands session in a lo...</td>\n",
              "    </tr>\n",
              "    <tr>\n",
              "      <th>20</th>\n",
              "      <td>2404</td>\n",
              "      <td>Borderlands</td>\n",
              "      <td>Positive</td>\n",
              "      <td>that was the first borderlands session in a lo...</td>\n",
              "    </tr>\n",
              "    <tr>\n",
              "      <th>21</th>\n",
              "      <td>2404</td>\n",
              "      <td>Borderlands</td>\n",
              "      <td>Positive</td>\n",
              "      <td>that was the first borderlands session in a lo...</td>\n",
              "    </tr>\n",
              "    <tr>\n",
              "      <th>22</th>\n",
              "      <td>2404</td>\n",
              "      <td>Borderlands</td>\n",
              "      <td>Positive</td>\n",
              "      <td>that I was the first real borderlands session ...</td>\n",
              "    </tr>\n",
              "    <tr>\n",
              "      <th>23</th>\n",
              "      <td>2404</td>\n",
              "      <td>Borderlands</td>\n",
              "      <td>Positive</td>\n",
              "      <td>that was the first borderlands session in a ho...</td>\n",
              "    </tr>\n",
              "    <tr>\n",
              "      <th>24</th>\n",
              "      <td>2405</td>\n",
              "      <td>Borderlands</td>\n",
              "      <td>Negative</td>\n",
              "      <td>the biggest dissappoinment in my life came out...</td>\n",
              "    </tr>\n",
              "    <tr>\n",
              "      <th>25</th>\n",
              "      <td>2405</td>\n",
              "      <td>Borderlands</td>\n",
              "      <td>Negative</td>\n",
              "      <td>The biggest disappointment of my life came a y...</td>\n",
              "    </tr>\n",
              "    <tr>\n",
              "      <th>26</th>\n",
              "      <td>2405</td>\n",
              "      <td>Borderlands</td>\n",
              "      <td>Negative</td>\n",
              "      <td>The biggest disappointment of my life came a y...</td>\n",
              "    </tr>\n",
              "    <tr>\n",
              "      <th>27</th>\n",
              "      <td>2405</td>\n",
              "      <td>Borderlands</td>\n",
              "      <td>Negative</td>\n",
              "      <td>the biggest dissappoinment in my life coming o...</td>\n",
              "    </tr>\n",
              "    <tr>\n",
              "      <th>28</th>\n",
              "      <td>2405</td>\n",
              "      <td>Borderlands</td>\n",
              "      <td>Negative</td>\n",
              "      <td>For the biggest male dissappoinment in my life...</td>\n",
              "    </tr>\n",
              "    <tr>\n",
              "      <th>29</th>\n",
              "      <td>2405</td>\n",
              "      <td>Borderlands</td>\n",
              "      <td>Negative</td>\n",
              "      <td>the biggest dissappoinment in my life came bac...</td>\n",
              "    </tr>\n",
              "    <tr>\n",
              "      <th>30</th>\n",
              "      <td>2406</td>\n",
              "      <td>Borderlands</td>\n",
              "      <td>Positive</td>\n",
              "      <td>WE FINISHED BORDERLANDS 3 FINALLY YAS! Thank y...</td>\n",
              "    </tr>\n",
              "    <tr>\n",
              "      <th>31</th>\n",
              "      <td>2406</td>\n",
              "      <td>Borderlands</td>\n",
              "      <td>Positive</td>\n",
              "      <td>WE FINALLY FINALLY FIND BORDERLANDS 3 YES! Tha...</td>\n",
              "    </tr>\n",
              "    <tr>\n",
              "      <th>32</th>\n",
              "      <td>2406</td>\n",
              "      <td>Borderlands</td>\n",
              "      <td>Positive</td>\n",
              "      <td>Thank you for hanging up everyone! It was fun....</td>\n",
              "    </tr>\n",
              "    <tr>\n",
              "      <th>33</th>\n",
              "      <td>2406</td>\n",
              "      <td>Borderlands</td>\n",
              "      <td>Positive</td>\n",
              "      <td>WE FINISHED BORDERLANDS 3 UPDATE YAS! Thank yo...</td>\n",
              "    </tr>\n",
              "    <tr>\n",
              "      <th>34</th>\n",
              "      <td>2406</td>\n",
              "      <td>Borderlands</td>\n",
              "      <td>Positive</td>\n",
              "      <td>WE FINISHED BORDERLANDS 3 AND FINALLY YAS! Tha...</td>\n",
              "    </tr>\n",
              "    <tr>\n",
              "      <th>35</th>\n",
              "      <td>2406</td>\n",
              "      <td>Borderlands</td>\n",
              "      <td>Positive</td>\n",
              "      <td>WE FINISHED BORDERLANDS 3 FINALLY YAS! Hey you...</td>\n",
              "    </tr>\n",
              "    <tr>\n",
              "      <th>36</th>\n",
              "      <td>2407</td>\n",
              "      <td>Borderlands</td>\n",
              "      <td>Negative</td>\n",
              "      <td>Man Gearbox really needs to fix this dissapoin...</td>\n",
              "    </tr>\n",
              "    <tr>\n",
              "      <th>37</th>\n",
              "      <td>2407</td>\n",
              "      <td>Borderlands</td>\n",
              "      <td>Negative</td>\n",
              "      <td>Man Gearbox really needs to fix these disappoi...</td>\n",
              "    </tr>\n",
              "    <tr>\n",
              "      <th>38</th>\n",
              "      <td>2407</td>\n",
              "      <td>Borderlands</td>\n",
              "      <td>Negative</td>\n",
              "      <td>Man Gearbox really needs to fix this disssapoi...</td>\n",
              "    </tr>\n",
              "    <tr>\n",
              "      <th>39</th>\n",
              "      <td>2407</td>\n",
              "      <td>Borderlands</td>\n",
              "      <td>Negative</td>\n",
              "      <td>Man Bethesda really needs to fix this dissapoi...</td>\n",
              "    </tr>\n",
              "    <tr>\n",
              "      <th>40</th>\n",
              "      <td>2407</td>\n",
              "      <td>Borderlands</td>\n",
              "      <td>Negative</td>\n",
              "      <td>Man Gearbox really needs to fix this dissapoin...</td>\n",
              "    </tr>\n",
              "    <tr>\n",
              "      <th>41</th>\n",
              "      <td>2407</td>\n",
              "      <td>Borderlands</td>\n",
              "      <td>Negative</td>\n",
              "      <td>&lt;unk&gt; Gearbox really time to fix this 10 drops...</td>\n",
              "    </tr>\n",
              "    <tr>\n",
              "      <th>42</th>\n",
              "      <td>2408</td>\n",
              "      <td>Borderlands</td>\n",
              "      <td>Neutral</td>\n",
              "      <td>Check out this epic streamer!.</td>\n",
              "    </tr>\n",
              "    <tr>\n",
              "      <th>43</th>\n",
              "      <td>2408</td>\n",
              "      <td>Borderlands</td>\n",
              "      <td>Neutral</td>\n",
              "      <td>Check out this epic streamer!.</td>\n",
              "    </tr>\n",
              "    <tr>\n",
              "      <th>44</th>\n",
              "      <td>2408</td>\n",
              "      <td>Borderlands</td>\n",
              "      <td>Neutral</td>\n",
              "      <td>Watch this epic striptease!.</td>\n",
              "    </tr>\n",
              "    <tr>\n",
              "      <th>45</th>\n",
              "      <td>2408</td>\n",
              "      <td>Borderlands</td>\n",
              "      <td>Neutral</td>\n",
              "      <td>Check out our epic streamer!.</td>\n",
              "    </tr>\n",
              "    <tr>\n",
              "      <th>46</th>\n",
              "      <td>2408</td>\n",
              "      <td>Borderlands</td>\n",
              "      <td>Neutral</td>\n",
              "      <td>Check out this big epic streamer!.</td>\n",
              "    </tr>\n",
              "    <tr>\n",
              "      <th>47</th>\n",
              "      <td>2408</td>\n",
              "      <td>Borderlands</td>\n",
              "      <td>Neutral</td>\n",
              "      <td>Check&lt;unk&gt; this epic streamer!.</td>\n",
              "    </tr>\n",
              "    <tr>\n",
              "      <th>48</th>\n",
              "      <td>2409</td>\n",
              "      <td>Borderlands</td>\n",
              "      <td>Neutral</td>\n",
              "      <td>Blaming Sight for Tardiness! A little bit of b...</td>\n",
              "    </tr>\n",
              "    <tr>\n",
              "      <th>49</th>\n",
              "      <td>2409</td>\n",
              "      <td>Borderlands</td>\n",
              "      <td>Neutral</td>\n",
              "      <td>A bit of borderland. I was called to work tomo...</td>\n",
              "    </tr>\n",
              "  </tbody>\n",
              "</table>\n",
              "</div>\n",
              "      <button class=\"colab-df-convert\" onclick=\"convertToInteractive('df-695605c0-8f21-4dbb-ba48-c57921d2c217')\"\n",
              "              title=\"Convert this dataframe to an interactive table.\"\n",
              "              style=\"display:none;\">\n",
              "        \n",
              "  <svg xmlns=\"http://www.w3.org/2000/svg\" height=\"24px\"viewBox=\"0 0 24 24\"\n",
              "       width=\"24px\">\n",
              "    <path d=\"M0 0h24v24H0V0z\" fill=\"none\"/>\n",
              "    <path d=\"M18.56 5.44l.94 2.06.94-2.06 2.06-.94-2.06-.94-.94-2.06-.94 2.06-2.06.94zm-11 1L8.5 8.5l.94-2.06 2.06-.94-2.06-.94L8.5 2.5l-.94 2.06-2.06.94zm10 10l.94 2.06.94-2.06 2.06-.94-2.06-.94-.94-2.06-.94 2.06-2.06.94z\"/><path d=\"M17.41 7.96l-1.37-1.37c-.4-.4-.92-.59-1.43-.59-.52 0-1.04.2-1.43.59L10.3 9.45l-7.72 7.72c-.78.78-.78 2.05 0 2.83L4 21.41c.39.39.9.59 1.41.59.51 0 1.02-.2 1.41-.59l7.78-7.78 2.81-2.81c.8-.78.8-2.07 0-2.86zM5.41 20L4 18.59l7.72-7.72 1.47 1.35L5.41 20z\"/>\n",
              "  </svg>\n",
              "      </button>\n",
              "      \n",
              "  <style>\n",
              "    .colab-df-container {\n",
              "      display:flex;\n",
              "      flex-wrap:wrap;\n",
              "      gap: 12px;\n",
              "    }\n",
              "\n",
              "    .colab-df-convert {\n",
              "      background-color: #E8F0FE;\n",
              "      border: none;\n",
              "      border-radius: 50%;\n",
              "      cursor: pointer;\n",
              "      display: none;\n",
              "      fill: #1967D2;\n",
              "      height: 32px;\n",
              "      padding: 0 0 0 0;\n",
              "      width: 32px;\n",
              "    }\n",
              "\n",
              "    .colab-df-convert:hover {\n",
              "      background-color: #E2EBFA;\n",
              "      box-shadow: 0px 1px 2px rgba(60, 64, 67, 0.3), 0px 1px 3px 1px rgba(60, 64, 67, 0.15);\n",
              "      fill: #174EA6;\n",
              "    }\n",
              "\n",
              "    [theme=dark] .colab-df-convert {\n",
              "      background-color: #3B4455;\n",
              "      fill: #D2E3FC;\n",
              "    }\n",
              "\n",
              "    [theme=dark] .colab-df-convert:hover {\n",
              "      background-color: #434B5C;\n",
              "      box-shadow: 0px 1px 3px 1px rgba(0, 0, 0, 0.15);\n",
              "      filter: drop-shadow(0px 1px 2px rgba(0, 0, 0, 0.3));\n",
              "      fill: #FFFFFF;\n",
              "    }\n",
              "  </style>\n",
              "\n",
              "      <script>\n",
              "        const buttonEl =\n",
              "          document.querySelector('#df-695605c0-8f21-4dbb-ba48-c57921d2c217 button.colab-df-convert');\n",
              "        buttonEl.style.display =\n",
              "          google.colab.kernel.accessAllowed ? 'block' : 'none';\n",
              "\n",
              "        async function convertToInteractive(key) {\n",
              "          const element = document.querySelector('#df-695605c0-8f21-4dbb-ba48-c57921d2c217');\n",
              "          const dataTable =\n",
              "            await google.colab.kernel.invokeFunction('convertToInteractive',\n",
              "                                                     [key], {});\n",
              "          if (!dataTable) return;\n",
              "\n",
              "          const docLinkHtml = 'Like what you see? Visit the ' +\n",
              "            '<a target=\"_blank\" href=https://colab.research.google.com/notebooks/data_table.ipynb>data table notebook</a>'\n",
              "            + ' to learn more about interactive tables.';\n",
              "          element.innerHTML = '';\n",
              "          dataTable['output_type'] = 'display_data';\n",
              "          await google.colab.output.renderOutput(dataTable, element);\n",
              "          const docLink = document.createElement('div');\n",
              "          docLink.innerHTML = docLinkHtml;\n",
              "          element.appendChild(docLink);\n",
              "        }\n",
              "      </script>\n",
              "    </div>\n",
              "  </div>\n",
              "  "
            ]
          },
          "metadata": {},
          "execution_count": 7
        }
      ]
    },
    {
      "cell_type": "code",
      "source": [
        "#We take only the column \"Text\" and \"Target\"\n",
        "df_train = data_train[[\"Text\",\"Target\"]]"
      ],
      "metadata": {
        "id": "EAILRsXxAHG-",
        "execution": {
          "iopub.status.busy": "2022-06-02T18:57:28.308865Z",
          "iopub.execute_input": "2022-06-02T18:57:28.309498Z",
          "iopub.status.idle": "2022-06-02T18:57:28.317907Z",
          "shell.execute_reply.started": "2022-06-02T18:57:28.309464Z",
          "shell.execute_reply": "2022-06-02T18:57:28.317076Z"
        },
        "trusted": true
      },
      "execution_count": null,
      "outputs": []
    },
    {
      "cell_type": "code",
      "source": [
        "df_train.head()"
      ],
      "metadata": {
        "id": "EUVbEatXCIxG",
        "outputId": "c1e26f34-b96b-4006-e6eb-4207a27ff2fe",
        "execution": {
          "iopub.status.busy": "2022-06-02T18:57:28.507556Z",
          "iopub.execute_input": "2022-06-02T18:57:28.508364Z",
          "iopub.status.idle": "2022-06-02T18:57:28.517503Z",
          "shell.execute_reply.started": "2022-06-02T18:57:28.508326Z",
          "shell.execute_reply": "2022-06-02T18:57:28.516739Z"
        },
        "trusted": true,
        "colab": {
          "base_uri": "https://localhost:8080/",
          "height": 206
        }
      },
      "execution_count": null,
      "outputs": [
        {
          "output_type": "execute_result",
          "data": {
            "text/plain": [
              "                                                Text    Target\n",
              "0  im getting on borderlands and i will murder yo...  Positive\n",
              "1  I am coming to the borders and I will kill you...  Positive\n",
              "2  im getting on borderlands and i will kill you ...  Positive\n",
              "3  im coming on borderlands and i will murder you...  Positive\n",
              "4  im getting on borderlands 2 and i will murder ...  Positive"
            ],
            "text/html": [
              "\n",
              "  <div id=\"df-c8ab3738-7573-43a3-b975-a54b89689514\">\n",
              "    <div class=\"colab-df-container\">\n",
              "      <div>\n",
              "<style scoped>\n",
              "    .dataframe tbody tr th:only-of-type {\n",
              "        vertical-align: middle;\n",
              "    }\n",
              "\n",
              "    .dataframe tbody tr th {\n",
              "        vertical-align: top;\n",
              "    }\n",
              "\n",
              "    .dataframe thead th {\n",
              "        text-align: right;\n",
              "    }\n",
              "</style>\n",
              "<table border=\"1\" class=\"dataframe\">\n",
              "  <thead>\n",
              "    <tr style=\"text-align: right;\">\n",
              "      <th></th>\n",
              "      <th>Text</th>\n",
              "      <th>Target</th>\n",
              "    </tr>\n",
              "  </thead>\n",
              "  <tbody>\n",
              "    <tr>\n",
              "      <th>0</th>\n",
              "      <td>im getting on borderlands and i will murder yo...</td>\n",
              "      <td>Positive</td>\n",
              "    </tr>\n",
              "    <tr>\n",
              "      <th>1</th>\n",
              "      <td>I am coming to the borders and I will kill you...</td>\n",
              "      <td>Positive</td>\n",
              "    </tr>\n",
              "    <tr>\n",
              "      <th>2</th>\n",
              "      <td>im getting on borderlands and i will kill you ...</td>\n",
              "      <td>Positive</td>\n",
              "    </tr>\n",
              "    <tr>\n",
              "      <th>3</th>\n",
              "      <td>im coming on borderlands and i will murder you...</td>\n",
              "      <td>Positive</td>\n",
              "    </tr>\n",
              "    <tr>\n",
              "      <th>4</th>\n",
              "      <td>im getting on borderlands 2 and i will murder ...</td>\n",
              "      <td>Positive</td>\n",
              "    </tr>\n",
              "  </tbody>\n",
              "</table>\n",
              "</div>\n",
              "      <button class=\"colab-df-convert\" onclick=\"convertToInteractive('df-c8ab3738-7573-43a3-b975-a54b89689514')\"\n",
              "              title=\"Convert this dataframe to an interactive table.\"\n",
              "              style=\"display:none;\">\n",
              "        \n",
              "  <svg xmlns=\"http://www.w3.org/2000/svg\" height=\"24px\"viewBox=\"0 0 24 24\"\n",
              "       width=\"24px\">\n",
              "    <path d=\"M0 0h24v24H0V0z\" fill=\"none\"/>\n",
              "    <path d=\"M18.56 5.44l.94 2.06.94-2.06 2.06-.94-2.06-.94-.94-2.06-.94 2.06-2.06.94zm-11 1L8.5 8.5l.94-2.06 2.06-.94-2.06-.94L8.5 2.5l-.94 2.06-2.06.94zm10 10l.94 2.06.94-2.06 2.06-.94-2.06-.94-.94-2.06-.94 2.06-2.06.94z\"/><path d=\"M17.41 7.96l-1.37-1.37c-.4-.4-.92-.59-1.43-.59-.52 0-1.04.2-1.43.59L10.3 9.45l-7.72 7.72c-.78.78-.78 2.05 0 2.83L4 21.41c.39.39.9.59 1.41.59.51 0 1.02-.2 1.41-.59l7.78-7.78 2.81-2.81c.8-.78.8-2.07 0-2.86zM5.41 20L4 18.59l7.72-7.72 1.47 1.35L5.41 20z\"/>\n",
              "  </svg>\n",
              "      </button>\n",
              "      \n",
              "  <style>\n",
              "    .colab-df-container {\n",
              "      display:flex;\n",
              "      flex-wrap:wrap;\n",
              "      gap: 12px;\n",
              "    }\n",
              "\n",
              "    .colab-df-convert {\n",
              "      background-color: #E8F0FE;\n",
              "      border: none;\n",
              "      border-radius: 50%;\n",
              "      cursor: pointer;\n",
              "      display: none;\n",
              "      fill: #1967D2;\n",
              "      height: 32px;\n",
              "      padding: 0 0 0 0;\n",
              "      width: 32px;\n",
              "    }\n",
              "\n",
              "    .colab-df-convert:hover {\n",
              "      background-color: #E2EBFA;\n",
              "      box-shadow: 0px 1px 2px rgba(60, 64, 67, 0.3), 0px 1px 3px 1px rgba(60, 64, 67, 0.15);\n",
              "      fill: #174EA6;\n",
              "    }\n",
              "\n",
              "    [theme=dark] .colab-df-convert {\n",
              "      background-color: #3B4455;\n",
              "      fill: #D2E3FC;\n",
              "    }\n",
              "\n",
              "    [theme=dark] .colab-df-convert:hover {\n",
              "      background-color: #434B5C;\n",
              "      box-shadow: 0px 1px 3px 1px rgba(0, 0, 0, 0.15);\n",
              "      filter: drop-shadow(0px 1px 2px rgba(0, 0, 0, 0.3));\n",
              "      fill: #FFFFFF;\n",
              "    }\n",
              "  </style>\n",
              "\n",
              "      <script>\n",
              "        const buttonEl =\n",
              "          document.querySelector('#df-c8ab3738-7573-43a3-b975-a54b89689514 button.colab-df-convert');\n",
              "        buttonEl.style.display =\n",
              "          google.colab.kernel.accessAllowed ? 'block' : 'none';\n",
              "\n",
              "        async function convertToInteractive(key) {\n",
              "          const element = document.querySelector('#df-c8ab3738-7573-43a3-b975-a54b89689514');\n",
              "          const dataTable =\n",
              "            await google.colab.kernel.invokeFunction('convertToInteractive',\n",
              "                                                     [key], {});\n",
              "          if (!dataTable) return;\n",
              "\n",
              "          const docLinkHtml = 'Like what you see? Visit the ' +\n",
              "            '<a target=\"_blank\" href=https://colab.research.google.com/notebooks/data_table.ipynb>data table notebook</a>'\n",
              "            + ' to learn more about interactive tables.';\n",
              "          element.innerHTML = '';\n",
              "          dataTable['output_type'] = 'display_data';\n",
              "          await google.colab.output.renderOutput(dataTable, element);\n",
              "          const docLink = document.createElement('div');\n",
              "          docLink.innerHTML = docLinkHtml;\n",
              "          element.appendChild(docLink);\n",
              "        }\n",
              "      </script>\n",
              "    </div>\n",
              "  </div>\n",
              "  "
            ]
          },
          "metadata": {},
          "execution_count": 9
        }
      ]
    },
    {
      "cell_type": "code",
      "source": [
        "df_train.shape"
      ],
      "metadata": {
        "id": "PlsJVc5iCZ89",
        "outputId": "0a9967be-adf3-445f-e107-c04eac14f1aa",
        "execution": {
          "iopub.status.busy": "2022-06-02T18:57:28.664759Z",
          "iopub.execute_input": "2022-06-02T18:57:28.665558Z",
          "iopub.status.idle": "2022-06-02T18:57:28.672074Z",
          "shell.execute_reply.started": "2022-06-02T18:57:28.665522Z",
          "shell.execute_reply": "2022-06-02T18:57:28.671317Z"
        },
        "trusted": true,
        "colab": {
          "base_uri": "https://localhost:8080/"
        }
      },
      "execution_count": null,
      "outputs": [
        {
          "output_type": "execute_result",
          "data": {
            "text/plain": [
              "(74682, 2)"
            ]
          },
          "metadata": {},
          "execution_count": 10
        }
      ]
    },
    {
      "cell_type": "code",
      "source": [
        "df_test = data_test[[\"Text\",\"Target\"]]"
      ],
      "metadata": {
        "id": "4o-CCK-4EB4R",
        "execution": {
          "iopub.status.busy": "2022-06-02T18:57:28.923694Z",
          "iopub.execute_input": "2022-06-02T18:57:28.924352Z",
          "iopub.status.idle": "2022-06-02T18:57:28.929679Z",
          "shell.execute_reply.started": "2022-06-02T18:57:28.924318Z",
          "shell.execute_reply": "2022-06-02T18:57:28.928550Z"
        },
        "trusted": true
      },
      "execution_count": null,
      "outputs": []
    },
    {
      "cell_type": "code",
      "source": [
        "df_test.head()"
      ],
      "metadata": {
        "id": "uwcEgXqsEB7T",
        "outputId": "efcbc3ba-8bbd-460a-d79c-fadb0b3559b0",
        "execution": {
          "iopub.status.busy": "2022-06-02T18:57:29.255464Z",
          "iopub.execute_input": "2022-06-02T18:57:29.256011Z",
          "iopub.status.idle": "2022-06-02T18:57:29.267456Z",
          "shell.execute_reply.started": "2022-06-02T18:57:29.255978Z",
          "shell.execute_reply": "2022-06-02T18:57:29.266406Z"
        },
        "trusted": true,
        "colab": {
          "base_uri": "https://localhost:8080/",
          "height": 206
        }
      },
      "execution_count": null,
      "outputs": [
        {
          "output_type": "execute_result",
          "data": {
            "text/plain": [
              "                                                Text      Target\n",
              "0  I mentioned on Facebook that I was struggling ...  Irrelevant\n",
              "1  BBC News - Amazon boss Jeff Bezos rejects clai...     Neutral\n",
              "2  @Microsoft Why do I pay for WORD when it funct...    Negative\n",
              "3  CSGO matchmaking is so full of closet hacking,...    Negative\n",
              "4  Now the President is slapping Americans in the...     Neutral"
            ],
            "text/html": [
              "\n",
              "  <div id=\"df-a4ac2cc3-7919-4df9-8e4e-58049be5d8c4\">\n",
              "    <div class=\"colab-df-container\">\n",
              "      <div>\n",
              "<style scoped>\n",
              "    .dataframe tbody tr th:only-of-type {\n",
              "        vertical-align: middle;\n",
              "    }\n",
              "\n",
              "    .dataframe tbody tr th {\n",
              "        vertical-align: top;\n",
              "    }\n",
              "\n",
              "    .dataframe thead th {\n",
              "        text-align: right;\n",
              "    }\n",
              "</style>\n",
              "<table border=\"1\" class=\"dataframe\">\n",
              "  <thead>\n",
              "    <tr style=\"text-align: right;\">\n",
              "      <th></th>\n",
              "      <th>Text</th>\n",
              "      <th>Target</th>\n",
              "    </tr>\n",
              "  </thead>\n",
              "  <tbody>\n",
              "    <tr>\n",
              "      <th>0</th>\n",
              "      <td>I mentioned on Facebook that I was struggling ...</td>\n",
              "      <td>Irrelevant</td>\n",
              "    </tr>\n",
              "    <tr>\n",
              "      <th>1</th>\n",
              "      <td>BBC News - Amazon boss Jeff Bezos rejects clai...</td>\n",
              "      <td>Neutral</td>\n",
              "    </tr>\n",
              "    <tr>\n",
              "      <th>2</th>\n",
              "      <td>@Microsoft Why do I pay for WORD when it funct...</td>\n",
              "      <td>Negative</td>\n",
              "    </tr>\n",
              "    <tr>\n",
              "      <th>3</th>\n",
              "      <td>CSGO matchmaking is so full of closet hacking,...</td>\n",
              "      <td>Negative</td>\n",
              "    </tr>\n",
              "    <tr>\n",
              "      <th>4</th>\n",
              "      <td>Now the President is slapping Americans in the...</td>\n",
              "      <td>Neutral</td>\n",
              "    </tr>\n",
              "  </tbody>\n",
              "</table>\n",
              "</div>\n",
              "      <button class=\"colab-df-convert\" onclick=\"convertToInteractive('df-a4ac2cc3-7919-4df9-8e4e-58049be5d8c4')\"\n",
              "              title=\"Convert this dataframe to an interactive table.\"\n",
              "              style=\"display:none;\">\n",
              "        \n",
              "  <svg xmlns=\"http://www.w3.org/2000/svg\" height=\"24px\"viewBox=\"0 0 24 24\"\n",
              "       width=\"24px\">\n",
              "    <path d=\"M0 0h24v24H0V0z\" fill=\"none\"/>\n",
              "    <path d=\"M18.56 5.44l.94 2.06.94-2.06 2.06-.94-2.06-.94-.94-2.06-.94 2.06-2.06.94zm-11 1L8.5 8.5l.94-2.06 2.06-.94-2.06-.94L8.5 2.5l-.94 2.06-2.06.94zm10 10l.94 2.06.94-2.06 2.06-.94-2.06-.94-.94-2.06-.94 2.06-2.06.94z\"/><path d=\"M17.41 7.96l-1.37-1.37c-.4-.4-.92-.59-1.43-.59-.52 0-1.04.2-1.43.59L10.3 9.45l-7.72 7.72c-.78.78-.78 2.05 0 2.83L4 21.41c.39.39.9.59 1.41.59.51 0 1.02-.2 1.41-.59l7.78-7.78 2.81-2.81c.8-.78.8-2.07 0-2.86zM5.41 20L4 18.59l7.72-7.72 1.47 1.35L5.41 20z\"/>\n",
              "  </svg>\n",
              "      </button>\n",
              "      \n",
              "  <style>\n",
              "    .colab-df-container {\n",
              "      display:flex;\n",
              "      flex-wrap:wrap;\n",
              "      gap: 12px;\n",
              "    }\n",
              "\n",
              "    .colab-df-convert {\n",
              "      background-color: #E8F0FE;\n",
              "      border: none;\n",
              "      border-radius: 50%;\n",
              "      cursor: pointer;\n",
              "      display: none;\n",
              "      fill: #1967D2;\n",
              "      height: 32px;\n",
              "      padding: 0 0 0 0;\n",
              "      width: 32px;\n",
              "    }\n",
              "\n",
              "    .colab-df-convert:hover {\n",
              "      background-color: #E2EBFA;\n",
              "      box-shadow: 0px 1px 2px rgba(60, 64, 67, 0.3), 0px 1px 3px 1px rgba(60, 64, 67, 0.15);\n",
              "      fill: #174EA6;\n",
              "    }\n",
              "\n",
              "    [theme=dark] .colab-df-convert {\n",
              "      background-color: #3B4455;\n",
              "      fill: #D2E3FC;\n",
              "    }\n",
              "\n",
              "    [theme=dark] .colab-df-convert:hover {\n",
              "      background-color: #434B5C;\n",
              "      box-shadow: 0px 1px 3px 1px rgba(0, 0, 0, 0.15);\n",
              "      filter: drop-shadow(0px 1px 2px rgba(0, 0, 0, 0.3));\n",
              "      fill: #FFFFFF;\n",
              "    }\n",
              "  </style>\n",
              "\n",
              "      <script>\n",
              "        const buttonEl =\n",
              "          document.querySelector('#df-a4ac2cc3-7919-4df9-8e4e-58049be5d8c4 button.colab-df-convert');\n",
              "        buttonEl.style.display =\n",
              "          google.colab.kernel.accessAllowed ? 'block' : 'none';\n",
              "\n",
              "        async function convertToInteractive(key) {\n",
              "          const element = document.querySelector('#df-a4ac2cc3-7919-4df9-8e4e-58049be5d8c4');\n",
              "          const dataTable =\n",
              "            await google.colab.kernel.invokeFunction('convertToInteractive',\n",
              "                                                     [key], {});\n",
              "          if (!dataTable) return;\n",
              "\n",
              "          const docLinkHtml = 'Like what you see? Visit the ' +\n",
              "            '<a target=\"_blank\" href=https://colab.research.google.com/notebooks/data_table.ipynb>data table notebook</a>'\n",
              "            + ' to learn more about interactive tables.';\n",
              "          element.innerHTML = '';\n",
              "          dataTable['output_type'] = 'display_data';\n",
              "          await google.colab.output.renderOutput(dataTable, element);\n",
              "          const docLink = document.createElement('div');\n",
              "          docLink.innerHTML = docLinkHtml;\n",
              "          element.appendChild(docLink);\n",
              "        }\n",
              "      </script>\n",
              "    </div>\n",
              "  </div>\n",
              "  "
            ]
          },
          "metadata": {},
          "execution_count": 12
        }
      ]
    },
    {
      "cell_type": "code",
      "source": [
        "df_test.shape"
      ],
      "metadata": {
        "id": "-zWVzt8UEB9_",
        "outputId": "3e7e0f75-01e0-48b5-cc04-f9ed09a4aa85",
        "execution": {
          "iopub.status.busy": "2022-06-02T18:57:29.406919Z",
          "iopub.execute_input": "2022-06-02T18:57:29.407564Z",
          "iopub.status.idle": "2022-06-02T18:57:29.412632Z",
          "shell.execute_reply.started": "2022-06-02T18:57:29.407534Z",
          "shell.execute_reply": "2022-06-02T18:57:29.411797Z"
        },
        "trusted": true,
        "colab": {
          "base_uri": "https://localhost:8080/"
        }
      },
      "execution_count": null,
      "outputs": [
        {
          "output_type": "execute_result",
          "data": {
            "text/plain": [
              "(1000, 2)"
            ]
          },
          "metadata": {},
          "execution_count": 13
        }
      ]
    },
    {
      "cell_type": "code",
      "source": [
        "df_toappend = df_train.sample(n = 6000, random_state=1)\n",
        "df_toappend"
      ],
      "metadata": {
        "execution": {
          "iopub.status.busy": "2022-06-02T18:57:29.565147Z",
          "iopub.execute_input": "2022-06-02T18:57:29.566029Z",
          "iopub.status.idle": "2022-06-02T18:57:29.580880Z",
          "shell.execute_reply.started": "2022-06-02T18:57:29.565990Z",
          "shell.execute_reply": "2022-06-02T18:57:29.580120Z"
        },
        "trusted": true,
        "colab": {
          "base_uri": "https://localhost:8080/",
          "height": 424
        },
        "id": "bnLKInhT9sej",
        "outputId": "ecf8079f-aab6-474f-d6fc-277b3b18c988"
      },
      "execution_count": null,
      "outputs": [
        {
          "output_type": "execute_result",
          "data": {
            "text/plain": [
              "                                                    Text    Target\n",
              "85                                        FICK YESSSSSS.  Positive\n",
              "36834  Why are people talking about microsoft buying ...  Negative\n",
              "74567  Nvidia's ready to announce the bad stuff.. Rea...   Neutral\n",
              "64449  Gee. I didn't realize Madden NFL needed QBs fo...  Negative\n",
              "28917                The game is an absolute shredder!!!  Positive\n",
              "...                                                  ...       ...\n",
              "68436                                              Nice!  Positive\n",
              "28536           @PlayApex FIX YOUR SERVERS WHAT THE HELL  Negative\n",
              "72330  @Ubisoft @GhostRecon your update that was supp...  Negative\n",
              "68435                I can’t wait for this book come out  Positive\n",
              "19705  Lazy doodle with flat colors because I wanted ...  Positive\n",
              "\n",
              "[6000 rows x 2 columns]"
            ],
            "text/html": [
              "\n",
              "  <div id=\"df-2fe1c0bb-f6c5-49ed-8ce9-23450102926d\">\n",
              "    <div class=\"colab-df-container\">\n",
              "      <div>\n",
              "<style scoped>\n",
              "    .dataframe tbody tr th:only-of-type {\n",
              "        vertical-align: middle;\n",
              "    }\n",
              "\n",
              "    .dataframe tbody tr th {\n",
              "        vertical-align: top;\n",
              "    }\n",
              "\n",
              "    .dataframe thead th {\n",
              "        text-align: right;\n",
              "    }\n",
              "</style>\n",
              "<table border=\"1\" class=\"dataframe\">\n",
              "  <thead>\n",
              "    <tr style=\"text-align: right;\">\n",
              "      <th></th>\n",
              "      <th>Text</th>\n",
              "      <th>Target</th>\n",
              "    </tr>\n",
              "  </thead>\n",
              "  <tbody>\n",
              "    <tr>\n",
              "      <th>85</th>\n",
              "      <td>FICK YESSSSSS.</td>\n",
              "      <td>Positive</td>\n",
              "    </tr>\n",
              "    <tr>\n",
              "      <th>36834</th>\n",
              "      <td>Why are people talking about microsoft buying ...</td>\n",
              "      <td>Negative</td>\n",
              "    </tr>\n",
              "    <tr>\n",
              "      <th>74567</th>\n",
              "      <td>Nvidia's ready to announce the bad stuff.. Rea...</td>\n",
              "      <td>Neutral</td>\n",
              "    </tr>\n",
              "    <tr>\n",
              "      <th>64449</th>\n",
              "      <td>Gee. I didn't realize Madden NFL needed QBs fo...</td>\n",
              "      <td>Negative</td>\n",
              "    </tr>\n",
              "    <tr>\n",
              "      <th>28917</th>\n",
              "      <td>The game is an absolute shredder!!!</td>\n",
              "      <td>Positive</td>\n",
              "    </tr>\n",
              "    <tr>\n",
              "      <th>...</th>\n",
              "      <td>...</td>\n",
              "      <td>...</td>\n",
              "    </tr>\n",
              "    <tr>\n",
              "      <th>68436</th>\n",
              "      <td>Nice!</td>\n",
              "      <td>Positive</td>\n",
              "    </tr>\n",
              "    <tr>\n",
              "      <th>28536</th>\n",
              "      <td>@PlayApex FIX YOUR SERVERS WHAT THE HELL</td>\n",
              "      <td>Negative</td>\n",
              "    </tr>\n",
              "    <tr>\n",
              "      <th>72330</th>\n",
              "      <td>@Ubisoft @GhostRecon your update that was supp...</td>\n",
              "      <td>Negative</td>\n",
              "    </tr>\n",
              "    <tr>\n",
              "      <th>68435</th>\n",
              "      <td>I can’t wait for this book come out</td>\n",
              "      <td>Positive</td>\n",
              "    </tr>\n",
              "    <tr>\n",
              "      <th>19705</th>\n",
              "      <td>Lazy doodle with flat colors because I wanted ...</td>\n",
              "      <td>Positive</td>\n",
              "    </tr>\n",
              "  </tbody>\n",
              "</table>\n",
              "<p>6000 rows × 2 columns</p>\n",
              "</div>\n",
              "      <button class=\"colab-df-convert\" onclick=\"convertToInteractive('df-2fe1c0bb-f6c5-49ed-8ce9-23450102926d')\"\n",
              "              title=\"Convert this dataframe to an interactive table.\"\n",
              "              style=\"display:none;\">\n",
              "        \n",
              "  <svg xmlns=\"http://www.w3.org/2000/svg\" height=\"24px\"viewBox=\"0 0 24 24\"\n",
              "       width=\"24px\">\n",
              "    <path d=\"M0 0h24v24H0V0z\" fill=\"none\"/>\n",
              "    <path d=\"M18.56 5.44l.94 2.06.94-2.06 2.06-.94-2.06-.94-.94-2.06-.94 2.06-2.06.94zm-11 1L8.5 8.5l.94-2.06 2.06-.94-2.06-.94L8.5 2.5l-.94 2.06-2.06.94zm10 10l.94 2.06.94-2.06 2.06-.94-2.06-.94-.94-2.06-.94 2.06-2.06.94z\"/><path d=\"M17.41 7.96l-1.37-1.37c-.4-.4-.92-.59-1.43-.59-.52 0-1.04.2-1.43.59L10.3 9.45l-7.72 7.72c-.78.78-.78 2.05 0 2.83L4 21.41c.39.39.9.59 1.41.59.51 0 1.02-.2 1.41-.59l7.78-7.78 2.81-2.81c.8-.78.8-2.07 0-2.86zM5.41 20L4 18.59l7.72-7.72 1.47 1.35L5.41 20z\"/>\n",
              "  </svg>\n",
              "      </button>\n",
              "      \n",
              "  <style>\n",
              "    .colab-df-container {\n",
              "      display:flex;\n",
              "      flex-wrap:wrap;\n",
              "      gap: 12px;\n",
              "    }\n",
              "\n",
              "    .colab-df-convert {\n",
              "      background-color: #E8F0FE;\n",
              "      border: none;\n",
              "      border-radius: 50%;\n",
              "      cursor: pointer;\n",
              "      display: none;\n",
              "      fill: #1967D2;\n",
              "      height: 32px;\n",
              "      padding: 0 0 0 0;\n",
              "      width: 32px;\n",
              "    }\n",
              "\n",
              "    .colab-df-convert:hover {\n",
              "      background-color: #E2EBFA;\n",
              "      box-shadow: 0px 1px 2px rgba(60, 64, 67, 0.3), 0px 1px 3px 1px rgba(60, 64, 67, 0.15);\n",
              "      fill: #174EA6;\n",
              "    }\n",
              "\n",
              "    [theme=dark] .colab-df-convert {\n",
              "      background-color: #3B4455;\n",
              "      fill: #D2E3FC;\n",
              "    }\n",
              "\n",
              "    [theme=dark] .colab-df-convert:hover {\n",
              "      background-color: #434B5C;\n",
              "      box-shadow: 0px 1px 3px 1px rgba(0, 0, 0, 0.15);\n",
              "      filter: drop-shadow(0px 1px 2px rgba(0, 0, 0, 0.3));\n",
              "      fill: #FFFFFF;\n",
              "    }\n",
              "  </style>\n",
              "\n",
              "      <script>\n",
              "        const buttonEl =\n",
              "          document.querySelector('#df-2fe1c0bb-f6c5-49ed-8ce9-23450102926d button.colab-df-convert');\n",
              "        buttonEl.style.display =\n",
              "          google.colab.kernel.accessAllowed ? 'block' : 'none';\n",
              "\n",
              "        async function convertToInteractive(key) {\n",
              "          const element = document.querySelector('#df-2fe1c0bb-f6c5-49ed-8ce9-23450102926d');\n",
              "          const dataTable =\n",
              "            await google.colab.kernel.invokeFunction('convertToInteractive',\n",
              "                                                     [key], {});\n",
              "          if (!dataTable) return;\n",
              "\n",
              "          const docLinkHtml = 'Like what you see? Visit the ' +\n",
              "            '<a target=\"_blank\" href=https://colab.research.google.com/notebooks/data_table.ipynb>data table notebook</a>'\n",
              "            + ' to learn more about interactive tables.';\n",
              "          element.innerHTML = '';\n",
              "          dataTable['output_type'] = 'display_data';\n",
              "          await google.colab.output.renderOutput(dataTable, element);\n",
              "          const docLink = document.createElement('div');\n",
              "          docLink.innerHTML = docLinkHtml;\n",
              "          element.appendChild(docLink);\n",
              "        }\n",
              "      </script>\n",
              "    </div>\n",
              "  </div>\n",
              "  "
            ]
          },
          "metadata": {},
          "execution_count": 14
        }
      ]
    },
    {
      "cell_type": "code",
      "source": [
        "df_toappend.index"
      ],
      "metadata": {
        "execution": {
          "iopub.status.busy": "2022-06-02T18:57:29.652175Z",
          "iopub.execute_input": "2022-06-02T18:57:29.652553Z",
          "iopub.status.idle": "2022-06-02T18:57:29.657942Z",
          "shell.execute_reply.started": "2022-06-02T18:57:29.652525Z",
          "shell.execute_reply": "2022-06-02T18:57:29.657104Z"
        },
        "trusted": true,
        "colab": {
          "base_uri": "https://localhost:8080/"
        },
        "id": "bUXSooue9sek",
        "outputId": "10f074a9-b788-4285-a9e1-e3d2993ce6df"
      },
      "execution_count": null,
      "outputs": [
        {
          "output_type": "execute_result",
          "data": {
            "text/plain": [
              "Int64Index([   85, 36834, 74567, 64449, 28917, 43164, 29359, 66633, 65391,\n",
              "            62134,\n",
              "            ...\n",
              "            10870, 10064, 14434, 14852, 49728, 68436, 28536, 72330, 68435,\n",
              "            19705],\n",
              "           dtype='int64', length=6000)"
            ]
          },
          "metadata": {},
          "execution_count": 15
        }
      ]
    },
    {
      "cell_type": "code",
      "source": [
        "for r in df_train.index:\n",
        "    for i in df_toappend.index:\n",
        "        if r==i:\n",
        "            df_train = df_train.drop(index=[r])"
      ],
      "metadata": {
        "execution": {
          "iopub.status.busy": "2022-06-02T18:57:29.910909Z",
          "iopub.execute_input": "2022-06-02T18:57:29.911532Z",
          "iopub.status.idle": "2022-06-02T18:59:21.832234Z",
          "shell.execute_reply.started": "2022-06-02T18:57:29.911497Z",
          "shell.execute_reply": "2022-06-02T18:59:21.831349Z"
        },
        "trusted": true,
        "id": "MPNFVWNy9sek"
      },
      "execution_count": null,
      "outputs": []
    },
    {
      "cell_type": "code",
      "source": [
        "df_train"
      ],
      "metadata": {
        "execution": {
          "iopub.status.busy": "2022-06-02T18:59:21.833877Z",
          "iopub.execute_input": "2022-06-02T18:59:21.834238Z",
          "iopub.status.idle": "2022-06-02T18:59:21.846615Z",
          "shell.execute_reply.started": "2022-06-02T18:59:21.834208Z",
          "shell.execute_reply": "2022-06-02T18:59:21.845787Z"
        },
        "trusted": true,
        "colab": {
          "base_uri": "https://localhost:8080/",
          "height": 424
        },
        "id": "9crQvnTx9sek",
        "outputId": "d5cdf9c3-8247-4cad-a9e2-14d25f2bc3a4"
      },
      "execution_count": null,
      "outputs": [
        {
          "output_type": "execute_result",
          "data": {
            "text/plain": [
              "                                                    Text    Target\n",
              "0      im getting on borderlands and i will murder yo...  Positive\n",
              "1      I am coming to the borders and I will kill you...  Positive\n",
              "2      im getting on borderlands and i will kill you ...  Positive\n",
              "3      im coming on borderlands and i will murder you...  Positive\n",
              "4      im getting on borderlands 2 and i will murder ...  Positive\n",
              "...                                                  ...       ...\n",
              "74677  Just realized that the Windows partition of my...  Positive\n",
              "74678  Just realized that my Mac window partition is ...  Positive\n",
              "74679  Just realized the windows partition of my Mac ...  Positive\n",
              "74680  Just realized between the windows partition of...  Positive\n",
              "74681  Just like the windows partition of my Mac is l...  Positive\n",
              "\n",
              "[68682 rows x 2 columns]"
            ],
            "text/html": [
              "\n",
              "  <div id=\"df-92b186a0-f647-499d-9f5a-65762a7458f2\">\n",
              "    <div class=\"colab-df-container\">\n",
              "      <div>\n",
              "<style scoped>\n",
              "    .dataframe tbody tr th:only-of-type {\n",
              "        vertical-align: middle;\n",
              "    }\n",
              "\n",
              "    .dataframe tbody tr th {\n",
              "        vertical-align: top;\n",
              "    }\n",
              "\n",
              "    .dataframe thead th {\n",
              "        text-align: right;\n",
              "    }\n",
              "</style>\n",
              "<table border=\"1\" class=\"dataframe\">\n",
              "  <thead>\n",
              "    <tr style=\"text-align: right;\">\n",
              "      <th></th>\n",
              "      <th>Text</th>\n",
              "      <th>Target</th>\n",
              "    </tr>\n",
              "  </thead>\n",
              "  <tbody>\n",
              "    <tr>\n",
              "      <th>0</th>\n",
              "      <td>im getting on borderlands and i will murder yo...</td>\n",
              "      <td>Positive</td>\n",
              "    </tr>\n",
              "    <tr>\n",
              "      <th>1</th>\n",
              "      <td>I am coming to the borders and I will kill you...</td>\n",
              "      <td>Positive</td>\n",
              "    </tr>\n",
              "    <tr>\n",
              "      <th>2</th>\n",
              "      <td>im getting on borderlands and i will kill you ...</td>\n",
              "      <td>Positive</td>\n",
              "    </tr>\n",
              "    <tr>\n",
              "      <th>3</th>\n",
              "      <td>im coming on borderlands and i will murder you...</td>\n",
              "      <td>Positive</td>\n",
              "    </tr>\n",
              "    <tr>\n",
              "      <th>4</th>\n",
              "      <td>im getting on borderlands 2 and i will murder ...</td>\n",
              "      <td>Positive</td>\n",
              "    </tr>\n",
              "    <tr>\n",
              "      <th>...</th>\n",
              "      <td>...</td>\n",
              "      <td>...</td>\n",
              "    </tr>\n",
              "    <tr>\n",
              "      <th>74677</th>\n",
              "      <td>Just realized that the Windows partition of my...</td>\n",
              "      <td>Positive</td>\n",
              "    </tr>\n",
              "    <tr>\n",
              "      <th>74678</th>\n",
              "      <td>Just realized that my Mac window partition is ...</td>\n",
              "      <td>Positive</td>\n",
              "    </tr>\n",
              "    <tr>\n",
              "      <th>74679</th>\n",
              "      <td>Just realized the windows partition of my Mac ...</td>\n",
              "      <td>Positive</td>\n",
              "    </tr>\n",
              "    <tr>\n",
              "      <th>74680</th>\n",
              "      <td>Just realized between the windows partition of...</td>\n",
              "      <td>Positive</td>\n",
              "    </tr>\n",
              "    <tr>\n",
              "      <th>74681</th>\n",
              "      <td>Just like the windows partition of my Mac is l...</td>\n",
              "      <td>Positive</td>\n",
              "    </tr>\n",
              "  </tbody>\n",
              "</table>\n",
              "<p>68682 rows × 2 columns</p>\n",
              "</div>\n",
              "      <button class=\"colab-df-convert\" onclick=\"convertToInteractive('df-92b186a0-f647-499d-9f5a-65762a7458f2')\"\n",
              "              title=\"Convert this dataframe to an interactive table.\"\n",
              "              style=\"display:none;\">\n",
              "        \n",
              "  <svg xmlns=\"http://www.w3.org/2000/svg\" height=\"24px\"viewBox=\"0 0 24 24\"\n",
              "       width=\"24px\">\n",
              "    <path d=\"M0 0h24v24H0V0z\" fill=\"none\"/>\n",
              "    <path d=\"M18.56 5.44l.94 2.06.94-2.06 2.06-.94-2.06-.94-.94-2.06-.94 2.06-2.06.94zm-11 1L8.5 8.5l.94-2.06 2.06-.94-2.06-.94L8.5 2.5l-.94 2.06-2.06.94zm10 10l.94 2.06.94-2.06 2.06-.94-2.06-.94-.94-2.06-.94 2.06-2.06.94z\"/><path d=\"M17.41 7.96l-1.37-1.37c-.4-.4-.92-.59-1.43-.59-.52 0-1.04.2-1.43.59L10.3 9.45l-7.72 7.72c-.78.78-.78 2.05 0 2.83L4 21.41c.39.39.9.59 1.41.59.51 0 1.02-.2 1.41-.59l7.78-7.78 2.81-2.81c.8-.78.8-2.07 0-2.86zM5.41 20L4 18.59l7.72-7.72 1.47 1.35L5.41 20z\"/>\n",
              "  </svg>\n",
              "      </button>\n",
              "      \n",
              "  <style>\n",
              "    .colab-df-container {\n",
              "      display:flex;\n",
              "      flex-wrap:wrap;\n",
              "      gap: 12px;\n",
              "    }\n",
              "\n",
              "    .colab-df-convert {\n",
              "      background-color: #E8F0FE;\n",
              "      border: none;\n",
              "      border-radius: 50%;\n",
              "      cursor: pointer;\n",
              "      display: none;\n",
              "      fill: #1967D2;\n",
              "      height: 32px;\n",
              "      padding: 0 0 0 0;\n",
              "      width: 32px;\n",
              "    }\n",
              "\n",
              "    .colab-df-convert:hover {\n",
              "      background-color: #E2EBFA;\n",
              "      box-shadow: 0px 1px 2px rgba(60, 64, 67, 0.3), 0px 1px 3px 1px rgba(60, 64, 67, 0.15);\n",
              "      fill: #174EA6;\n",
              "    }\n",
              "\n",
              "    [theme=dark] .colab-df-convert {\n",
              "      background-color: #3B4455;\n",
              "      fill: #D2E3FC;\n",
              "    }\n",
              "\n",
              "    [theme=dark] .colab-df-convert:hover {\n",
              "      background-color: #434B5C;\n",
              "      box-shadow: 0px 1px 3px 1px rgba(0, 0, 0, 0.15);\n",
              "      filter: drop-shadow(0px 1px 2px rgba(0, 0, 0, 0.3));\n",
              "      fill: #FFFFFF;\n",
              "    }\n",
              "  </style>\n",
              "\n",
              "      <script>\n",
              "        const buttonEl =\n",
              "          document.querySelector('#df-92b186a0-f647-499d-9f5a-65762a7458f2 button.colab-df-convert');\n",
              "        buttonEl.style.display =\n",
              "          google.colab.kernel.accessAllowed ? 'block' : 'none';\n",
              "\n",
              "        async function convertToInteractive(key) {\n",
              "          const element = document.querySelector('#df-92b186a0-f647-499d-9f5a-65762a7458f2');\n",
              "          const dataTable =\n",
              "            await google.colab.kernel.invokeFunction('convertToInteractive',\n",
              "                                                     [key], {});\n",
              "          if (!dataTable) return;\n",
              "\n",
              "          const docLinkHtml = 'Like what you see? Visit the ' +\n",
              "            '<a target=\"_blank\" href=https://colab.research.google.com/notebooks/data_table.ipynb>data table notebook</a>'\n",
              "            + ' to learn more about interactive tables.';\n",
              "          element.innerHTML = '';\n",
              "          dataTable['output_type'] = 'display_data';\n",
              "          await google.colab.output.renderOutput(dataTable, element);\n",
              "          const docLink = document.createElement('div');\n",
              "          docLink.innerHTML = docLinkHtml;\n",
              "          element.appendChild(docLink);\n",
              "        }\n",
              "      </script>\n",
              "    </div>\n",
              "  </div>\n",
              "  "
            ]
          },
          "metadata": {},
          "execution_count": 17
        }
      ]
    },
    {
      "cell_type": "code",
      "source": [
        "df_test = df_test.append(df_toappend)\n",
        "df_test"
      ],
      "metadata": {
        "execution": {
          "iopub.status.busy": "2022-06-02T18:59:21.848472Z",
          "iopub.execute_input": "2022-06-02T18:59:21.849214Z",
          "iopub.status.idle": "2022-06-02T18:59:21.864780Z",
          "shell.execute_reply.started": "2022-06-02T18:59:21.849171Z",
          "shell.execute_reply": "2022-06-02T18:59:21.864030Z"
        },
        "trusted": true,
        "colab": {
          "base_uri": "https://localhost:8080/",
          "height": 424
        },
        "id": "VI7hSdCk9sek",
        "outputId": "e5620b3a-c135-4096-e51f-b9803992cb45"
      },
      "execution_count": null,
      "outputs": [
        {
          "output_type": "execute_result",
          "data": {
            "text/plain": [
              "                                                    Text      Target\n",
              "0      I mentioned on Facebook that I was struggling ...  Irrelevant\n",
              "1      BBC News - Amazon boss Jeff Bezos rejects clai...     Neutral\n",
              "2      @Microsoft Why do I pay for WORD when it funct...    Negative\n",
              "3      CSGO matchmaking is so full of closet hacking,...    Negative\n",
              "4      Now the President is slapping Americans in the...     Neutral\n",
              "...                                                  ...         ...\n",
              "68436                                              Nice!    Positive\n",
              "28536           @PlayApex FIX YOUR SERVERS WHAT THE HELL    Negative\n",
              "72330  @Ubisoft @GhostRecon your update that was supp...    Negative\n",
              "68435                I can’t wait for this book come out    Positive\n",
              "19705  Lazy doodle with flat colors because I wanted ...    Positive\n",
              "\n",
              "[7000 rows x 2 columns]"
            ],
            "text/html": [
              "\n",
              "  <div id=\"df-d28801f0-0496-4875-94be-0ef24b9baf46\">\n",
              "    <div class=\"colab-df-container\">\n",
              "      <div>\n",
              "<style scoped>\n",
              "    .dataframe tbody tr th:only-of-type {\n",
              "        vertical-align: middle;\n",
              "    }\n",
              "\n",
              "    .dataframe tbody tr th {\n",
              "        vertical-align: top;\n",
              "    }\n",
              "\n",
              "    .dataframe thead th {\n",
              "        text-align: right;\n",
              "    }\n",
              "</style>\n",
              "<table border=\"1\" class=\"dataframe\">\n",
              "  <thead>\n",
              "    <tr style=\"text-align: right;\">\n",
              "      <th></th>\n",
              "      <th>Text</th>\n",
              "      <th>Target</th>\n",
              "    </tr>\n",
              "  </thead>\n",
              "  <tbody>\n",
              "    <tr>\n",
              "      <th>0</th>\n",
              "      <td>I mentioned on Facebook that I was struggling ...</td>\n",
              "      <td>Irrelevant</td>\n",
              "    </tr>\n",
              "    <tr>\n",
              "      <th>1</th>\n",
              "      <td>BBC News - Amazon boss Jeff Bezos rejects clai...</td>\n",
              "      <td>Neutral</td>\n",
              "    </tr>\n",
              "    <tr>\n",
              "      <th>2</th>\n",
              "      <td>@Microsoft Why do I pay for WORD when it funct...</td>\n",
              "      <td>Negative</td>\n",
              "    </tr>\n",
              "    <tr>\n",
              "      <th>3</th>\n",
              "      <td>CSGO matchmaking is so full of closet hacking,...</td>\n",
              "      <td>Negative</td>\n",
              "    </tr>\n",
              "    <tr>\n",
              "      <th>4</th>\n",
              "      <td>Now the President is slapping Americans in the...</td>\n",
              "      <td>Neutral</td>\n",
              "    </tr>\n",
              "    <tr>\n",
              "      <th>...</th>\n",
              "      <td>...</td>\n",
              "      <td>...</td>\n",
              "    </tr>\n",
              "    <tr>\n",
              "      <th>68436</th>\n",
              "      <td>Nice!</td>\n",
              "      <td>Positive</td>\n",
              "    </tr>\n",
              "    <tr>\n",
              "      <th>28536</th>\n",
              "      <td>@PlayApex FIX YOUR SERVERS WHAT THE HELL</td>\n",
              "      <td>Negative</td>\n",
              "    </tr>\n",
              "    <tr>\n",
              "      <th>72330</th>\n",
              "      <td>@Ubisoft @GhostRecon your update that was supp...</td>\n",
              "      <td>Negative</td>\n",
              "    </tr>\n",
              "    <tr>\n",
              "      <th>68435</th>\n",
              "      <td>I can’t wait for this book come out</td>\n",
              "      <td>Positive</td>\n",
              "    </tr>\n",
              "    <tr>\n",
              "      <th>19705</th>\n",
              "      <td>Lazy doodle with flat colors because I wanted ...</td>\n",
              "      <td>Positive</td>\n",
              "    </tr>\n",
              "  </tbody>\n",
              "</table>\n",
              "<p>7000 rows × 2 columns</p>\n",
              "</div>\n",
              "      <button class=\"colab-df-convert\" onclick=\"convertToInteractive('df-d28801f0-0496-4875-94be-0ef24b9baf46')\"\n",
              "              title=\"Convert this dataframe to an interactive table.\"\n",
              "              style=\"display:none;\">\n",
              "        \n",
              "  <svg xmlns=\"http://www.w3.org/2000/svg\" height=\"24px\"viewBox=\"0 0 24 24\"\n",
              "       width=\"24px\">\n",
              "    <path d=\"M0 0h24v24H0V0z\" fill=\"none\"/>\n",
              "    <path d=\"M18.56 5.44l.94 2.06.94-2.06 2.06-.94-2.06-.94-.94-2.06-.94 2.06-2.06.94zm-11 1L8.5 8.5l.94-2.06 2.06-.94-2.06-.94L8.5 2.5l-.94 2.06-2.06.94zm10 10l.94 2.06.94-2.06 2.06-.94-2.06-.94-.94-2.06-.94 2.06-2.06.94z\"/><path d=\"M17.41 7.96l-1.37-1.37c-.4-.4-.92-.59-1.43-.59-.52 0-1.04.2-1.43.59L10.3 9.45l-7.72 7.72c-.78.78-.78 2.05 0 2.83L4 21.41c.39.39.9.59 1.41.59.51 0 1.02-.2 1.41-.59l7.78-7.78 2.81-2.81c.8-.78.8-2.07 0-2.86zM5.41 20L4 18.59l7.72-7.72 1.47 1.35L5.41 20z\"/>\n",
              "  </svg>\n",
              "      </button>\n",
              "      \n",
              "  <style>\n",
              "    .colab-df-container {\n",
              "      display:flex;\n",
              "      flex-wrap:wrap;\n",
              "      gap: 12px;\n",
              "    }\n",
              "\n",
              "    .colab-df-convert {\n",
              "      background-color: #E8F0FE;\n",
              "      border: none;\n",
              "      border-radius: 50%;\n",
              "      cursor: pointer;\n",
              "      display: none;\n",
              "      fill: #1967D2;\n",
              "      height: 32px;\n",
              "      padding: 0 0 0 0;\n",
              "      width: 32px;\n",
              "    }\n",
              "\n",
              "    .colab-df-convert:hover {\n",
              "      background-color: #E2EBFA;\n",
              "      box-shadow: 0px 1px 2px rgba(60, 64, 67, 0.3), 0px 1px 3px 1px rgba(60, 64, 67, 0.15);\n",
              "      fill: #174EA6;\n",
              "    }\n",
              "\n",
              "    [theme=dark] .colab-df-convert {\n",
              "      background-color: #3B4455;\n",
              "      fill: #D2E3FC;\n",
              "    }\n",
              "\n",
              "    [theme=dark] .colab-df-convert:hover {\n",
              "      background-color: #434B5C;\n",
              "      box-shadow: 0px 1px 3px 1px rgba(0, 0, 0, 0.15);\n",
              "      filter: drop-shadow(0px 1px 2px rgba(0, 0, 0, 0.3));\n",
              "      fill: #FFFFFF;\n",
              "    }\n",
              "  </style>\n",
              "\n",
              "      <script>\n",
              "        const buttonEl =\n",
              "          document.querySelector('#df-d28801f0-0496-4875-94be-0ef24b9baf46 button.colab-df-convert');\n",
              "        buttonEl.style.display =\n",
              "          google.colab.kernel.accessAllowed ? 'block' : 'none';\n",
              "\n",
              "        async function convertToInteractive(key) {\n",
              "          const element = document.querySelector('#df-d28801f0-0496-4875-94be-0ef24b9baf46');\n",
              "          const dataTable =\n",
              "            await google.colab.kernel.invokeFunction('convertToInteractive',\n",
              "                                                     [key], {});\n",
              "          if (!dataTable) return;\n",
              "\n",
              "          const docLinkHtml = 'Like what you see? Visit the ' +\n",
              "            '<a target=\"_blank\" href=https://colab.research.google.com/notebooks/data_table.ipynb>data table notebook</a>'\n",
              "            + ' to learn more about interactive tables.';\n",
              "          element.innerHTML = '';\n",
              "          dataTable['output_type'] = 'display_data';\n",
              "          await google.colab.output.renderOutput(dataTable, element);\n",
              "          const docLink = document.createElement('div');\n",
              "          docLink.innerHTML = docLinkHtml;\n",
              "          element.appendChild(docLink);\n",
              "        }\n",
              "      </script>\n",
              "    </div>\n",
              "  </div>\n",
              "  "
            ]
          },
          "metadata": {},
          "execution_count": 18
        }
      ]
    },
    {
      "cell_type": "code",
      "source": [
        "len(df_test)"
      ],
      "metadata": {
        "execution": {
          "iopub.status.busy": "2022-06-02T18:59:21.866656Z",
          "iopub.execute_input": "2022-06-02T18:59:21.867055Z",
          "iopub.status.idle": "2022-06-02T18:59:21.872629Z",
          "shell.execute_reply.started": "2022-06-02T18:59:21.867019Z",
          "shell.execute_reply": "2022-06-02T18:59:21.871750Z"
        },
        "trusted": true,
        "colab": {
          "base_uri": "https://localhost:8080/"
        },
        "id": "t4znjUFE9sel",
        "outputId": "154deb65-3256-4030-9323-525af5c9c48f"
      },
      "execution_count": null,
      "outputs": [
        {
          "output_type": "execute_result",
          "data": {
            "text/plain": [
              "7000"
            ]
          },
          "metadata": {},
          "execution_count": 19
        }
      ]
    },
    {
      "cell_type": "code",
      "source": [
        "for df in [\"df_train\", \"df_test\"]:\n",
        "  if df == \"df_train\":\n",
        "    df_train  = df_train.convert_dtypes()\n",
        "    df_train  = df_train.dropna()\n",
        "    print(\"The type of df_train: \\n \", df_train.dtypes)\n",
        "  else:\n",
        "    df_test  = df_test.convert_dtypes()\n",
        "    df_test  = df_test.dropna()\n",
        "    print(\"\\nThe type of df_test: \\n \", df_test.dtypes)"
      ],
      "metadata": {
        "id": "QXRajvIrEN1v",
        "outputId": "8e5750ed-f449-4689-cc5f-2d3c159276c5",
        "execution": {
          "iopub.status.busy": "2022-06-02T18:59:21.874132Z",
          "iopub.execute_input": "2022-06-02T18:59:21.874893Z",
          "iopub.status.idle": "2022-06-02T18:59:21.933791Z",
          "shell.execute_reply.started": "2022-06-02T18:59:21.874855Z",
          "shell.execute_reply": "2022-06-02T18:59:21.933033Z"
        },
        "trusted": true,
        "colab": {
          "base_uri": "https://localhost:8080/"
        }
      },
      "execution_count": null,
      "outputs": [
        {
          "output_type": "stream",
          "name": "stdout",
          "text": [
            "The type of df_train: \n",
            "  Text      string\n",
            "Target    string\n",
            "dtype: object\n",
            "\n",
            "The type of df_test: \n",
            "  Text      string\n",
            "Target    string\n",
            "dtype: object\n"
          ]
        }
      ]
    },
    {
      "cell_type": "markdown",
      "source": [
        "Processing the tweets"
      ],
      "metadata": {
        "id": "DSIxlvxWlTKa"
      }
    },
    {
      "cell_type": "code",
      "source": [
        "# Remove punctuaction\n",
        "from string import punctuation\n",
        "punctuation"
      ],
      "metadata": {
        "id": "GLcJFXYnIGl5",
        "outputId": "9c5b8bed-dfa0-4568-a993-17475ca62f71",
        "execution": {
          "iopub.status.busy": "2022-06-02T18:59:21.935058Z",
          "iopub.execute_input": "2022-06-02T18:59:21.935483Z",
          "iopub.status.idle": "2022-06-02T18:59:21.944271Z",
          "shell.execute_reply.started": "2022-06-02T18:59:21.935446Z",
          "shell.execute_reply": "2022-06-02T18:59:21.943340Z"
        },
        "trusted": true,
        "colab": {
          "base_uri": "https://localhost:8080/",
          "height": 36
        }
      },
      "execution_count": null,
      "outputs": [
        {
          "output_type": "execute_result",
          "data": {
            "text/plain": [
              "'!\"#$%&\\'()*+,-./:;<=>?@[\\\\]^_`{|}~'"
            ],
            "application/vnd.google.colaboratory.intrinsic+json": {
              "type": "string"
            }
          },
          "metadata": {},
          "execution_count": 21
        }
      ]
    },
    {
      "cell_type": "code",
      "source": [
        "pip install clean-text"
      ],
      "metadata": {
        "id": "CtN-dMhAJY7q",
        "outputId": "f29bf280-ceb4-4ae8-cedf-b67f48b72b3c",
        "execution": {
          "iopub.status.busy": "2022-06-02T18:59:21.945548Z",
          "iopub.execute_input": "2022-06-02T18:59:21.946464Z",
          "iopub.status.idle": "2022-06-02T18:59:30.703062Z",
          "shell.execute_reply.started": "2022-06-02T18:59:21.946424Z",
          "shell.execute_reply": "2022-06-02T18:59:30.702004Z"
        },
        "trusted": true,
        "colab": {
          "base_uri": "https://localhost:8080/"
        }
      },
      "execution_count": null,
      "outputs": [
        {
          "output_type": "stream",
          "name": "stdout",
          "text": [
            "Looking in indexes: https://pypi.org/simple, https://us-python.pkg.dev/colab-wheels/public/simple/\n",
            "Collecting clean-text\n",
            "  Downloading clean_text-0.6.0-py3-none-any.whl (11 kB)\n",
            "Collecting emoji<2.0.0,>=1.0.0\n",
            "  Downloading emoji-1.7.0.tar.gz (175 kB)\n",
            "\u001b[K     |████████████████████████████████| 175 kB 37.3 MB/s \n",
            "\u001b[?25hCollecting ftfy<7.0,>=6.0\n",
            "  Downloading ftfy-6.1.1-py3-none-any.whl (53 kB)\n",
            "\u001b[K     |████████████████████████████████| 53 kB 2.1 MB/s \n",
            "\u001b[?25hRequirement already satisfied: wcwidth>=0.2.5 in /usr/local/lib/python3.7/dist-packages (from ftfy<7.0,>=6.0->clean-text) (0.2.5)\n",
            "Building wheels for collected packages: emoji\n",
            "  Building wheel for emoji (setup.py) ... \u001b[?25l\u001b[?25hdone\n",
            "  Created wheel for emoji: filename=emoji-1.7.0-py3-none-any.whl size=171046 sha256=727dbd1ed4bb95be8f60aa78505a7d2d0e7ae6f9acee1281ea5dc80eff7053f4\n",
            "  Stored in directory: /root/.cache/pip/wheels/8a/4e/b6/57b01db010d17ef6ea9b40300af725ef3e210cb1acfb7ac8b6\n",
            "Successfully built emoji\n",
            "Installing collected packages: ftfy, emoji, clean-text\n",
            "Successfully installed clean-text-0.6.0 emoji-1.7.0 ftfy-6.1.1\n"
          ]
        }
      ]
    },
    {
      "cell_type": "code",
      "source": [
        "from cleantext import clean"
      ],
      "metadata": {
        "id": "d86366vxJdpC",
        "execution": {
          "iopub.status.busy": "2022-06-02T18:59:30.704464Z",
          "iopub.execute_input": "2022-06-02T18:59:30.704791Z",
          "iopub.status.idle": "2022-06-02T18:59:30.710929Z",
          "shell.execute_reply.started": "2022-06-02T18:59:30.704758Z",
          "shell.execute_reply": "2022-06-02T18:59:30.709541Z"
        },
        "trusted": true,
        "colab": {
          "base_uri": "https://localhost:8080/"
        },
        "outputId": "cf7d47ab-4b0c-4b61-cbf2-9cba39a21591"
      },
      "execution_count": null,
      "outputs": [
        {
          "output_type": "stream",
          "name": "stderr",
          "text": [
            "Since the GPL-licensed package `unidecode` is not installed, using Python's `unicodedata` package which yields worse results.\n"
          ]
        }
      ]
    },
    {
      "cell_type": "code",
      "source": [
        "for df in [\"df_train\", \"df_test\"]:\n",
        "  if df == \"df_train\":\n",
        "    tweets_train = df_train[\"Text\"]\n",
        "  else:\n",
        "    tweets_test = df_test[\"Text\"]\n"
      ],
      "metadata": {
        "id": "Myd07OtTEN4c",
        "execution": {
          "iopub.status.busy": "2022-06-02T18:59:30.712490Z",
          "iopub.execute_input": "2022-06-02T18:59:30.712914Z",
          "iopub.status.idle": "2022-06-02T18:59:30.733988Z",
          "shell.execute_reply.started": "2022-06-02T18:59:30.712879Z",
          "shell.execute_reply": "2022-06-02T18:59:30.733156Z"
        },
        "trusted": true
      },
      "execution_count": null,
      "outputs": []
    },
    {
      "cell_type": "code",
      "source": [
        "for df in [\"df_train\", \"df_test\"]:\n",
        "  if df == \"df_train\":\n",
        "    tweets_train = df_train[\"Text\"]\n",
        "  else:\n",
        "    tweets_test = df_test[\"Text\"]"
      ],
      "metadata": {
        "id": "Qe1F0GxyEN7K",
        "execution": {
          "iopub.status.busy": "2022-06-02T18:59:30.738533Z",
          "iopub.execute_input": "2022-06-02T18:59:30.740958Z",
          "iopub.status.idle": "2022-06-02T18:59:30.746257Z",
          "shell.execute_reply.started": "2022-06-02T18:59:30.740931Z",
          "shell.execute_reply": "2022-06-02T18:59:30.745387Z"
        },
        "trusted": true
      },
      "execution_count": null,
      "outputs": []
    },
    {
      "cell_type": "code",
      "source": [
        "for df in [\"tweets_train\", \"tweets_test\"]:\n",
        "  if df == \"tweets_train\":\n",
        "    list_characters = [[c for c in t if c not in punctuation] for t in tweets_train]\n",
        "    tweets_train = [\"\".join(t).lower() for t in list_characters]\n",
        "    tweets_train = [clean(t, no_emoji=True) for t in tweets_train]\n",
        "    print(\"The tweets for the train are: \", tweets_train[:50])\n",
        "    print(\"The lenght of tweets_train is: \",len(tweets_train))\n",
        "  else:\n",
        "    tweets_test = df_test[\"Text\"]\n",
        "    list_characters = [[c for c in t if c not in punctuation] for t in tweets_test]\n",
        "    tweets_test = [\"\".join(t).lower() for t in list_characters]\n",
        "    tweets_test = [clean(t, no_emoji=True) for t in tweets_test]\n",
        "    print(\"\\nThe tweets for the test are: \", tweets_test[:50])\n",
        "    print(\"The lenght of tweets_test is: \",len(tweets_test))"
      ],
      "metadata": {
        "id": "BhMcAq8h9Hpy",
        "execution": {
          "iopub.status.busy": "2022-06-02T18:59:30.748186Z",
          "iopub.execute_input": "2022-06-02T18:59:30.748907Z",
          "iopub.status.idle": "2022-06-02T18:59:40.856263Z",
          "shell.execute_reply.started": "2022-06-02T18:59:30.748864Z",
          "shell.execute_reply": "2022-06-02T18:59:40.855274Z"
        },
        "trusted": true,
        "colab": {
          "base_uri": "https://localhost:8080/"
        },
        "outputId": "afa76076-d566-42ac-df3a-c35c2c63796e"
      },
      "execution_count": null,
      "outputs": [
        {
          "output_type": "stream",
          "name": "stdout",
          "text": [
            "The tweets for the train are:  ['im getting on borderlands and i will murder you all', 'i am coming to the borders and i will kill you all', 'im getting on borderlands and i will kill you all', 'im coming on borderlands and i will murder you all', 'im getting on borderlands 2 and i will murder you me all', 'im getting into borderlands and i can murder you all', 'so i spent a few hours making something for fun if you dont know i am a huge borderlands fan and maya is one of my favorite characters so i decided to make myself a wallpaper for my pc here is the original image versus the creation i made enjoy pictwittercommlsi5wf9jg', 'so i spent a couple of hours doing something for fun if you dont know that im a huge borderlands fan and maya is one of my favorite characters i decided to make a wallpaper for my pc heres the original picture compared to the creation i made have fun pictwittercom mlsi5wf9jg', 'so i spent a few hours doing something for fun if you dont know im a huge borderlands fan and maya is one of my favorite characters', 'so i spent a few hours making something for fun if you dont know i am a huge rhandlerr fan and maya is one of my favorite characters so i decided to make myself a wallpaper for my pc here is the original image versus the creation i made enjoy pictwittercommlsi5wf9jg', '2010 so i spent a few hours making something for fun if you dont know i am a huge rhandlerr fan and maya is one of my favorite characters so i decided to make myself a wallpaper for my pc here is the original image versus the creation i made enjoy pictwittercommlsi5wf9jg', 'was', 'rockhard la varlope rare powerful handsome jackpot borderlands 3 xbox dlvritrmtrgf', 'rockhard la varlope rare powerful handsome jackpot borderlands 3 xbox dlvrit rmtrgf', 'rockhard la varlope rare powerful handsome jackpot borderlands 3 xbox dfrit rmtrgf', 'rockhard la vita rare but powerful handsome jackpot borderlands 1 xbox dlvritrmtrgf', 'live rock hard music la la varlope rare the powerful live handsome i jackpot borderlands 3 sega xbox dlvr from it e rmtrgf', 'ihard like me rare london de handsome 2011 borderlands 3 xbox dlvritrmtrgf', 'that was the first borderlands session in a long time where i actually had a really satisfying combat experience i got some really good kills', 'this was the first borderlands session in a long time where i actually had a really satisfying fighting experience i got some really good kills', 'that was the first borderlands session in a long time where i actually had a really satisfying combat experience i got some really good kills', 'that was the first borderlands session in a long time where i actually enjoyed a really satisfying combat experience i got some rather good kills', 'that i was the first real borderlands session in a nice long wait time where i actually had a really satisfying combat experience and i got some really good kills', 'that was the first borderlands session in a hot row where i actually had a really bad combat experience i did some really good kills', 'the biggest disappointment of my life came a year ago', 'the biggest dissappoinment in my life coming out a year ago fuck borderlands 3', 'for the biggest male dissappoinment in my life came hanging out a year time ago fuck borderlands 3', 'the biggest dissappoinment in my life came back last year ago fuck borderlands last', 'we finally finally find borderlands 3 yes thank you all for hanging out it was fun ill try to stream tomorrow but if not maybe some irl streams well see thanks for the raids mompou mumpow megamagwitch and kfdmitch', 'thank you for hanging up everyone it was fun ill try to get a haircut tomorrow but if it wasnt for me some irl streams would still be in hawaii well see thank you so much for the mompou mumpow megamagwife and fendmitch raids', 'we finished borderlands 3 update yas thank you for hanging out guys it was fun i will try to stream and even if not i might so some irl streams while awayu we shall go thank you so much for the raids mompoumumpow megamagwitch and hope', 'we finished borderlands 3 and finally yas thank you everyone for hanging out everyone it was fun i will try to make stream tomorrow but if not i might make so some irl streams while awayu 10 we never shall see thank you both so much for the raids mompoumumpow or megamagwitch and 4 kfdmitch', 'we finished borderlands 3 finally yas hey you for hanging out so it was fun i will try that stream tomorrow and if not i might use some irl streams from awayu we shall see thank you so much how many raids mompoumumpow did and their', 'man gearbox really needs to fix this dissapointing drops in the new borderlands 3 dlc cant be fine to farm bosses on mayhem 10 to get 1 legendary drop while anywhere else i get 610 drops really sucks alot', 'man gearbox really needs to fix these disappointing drops in the new borderlands 3 dlc for farm bosses on mayhem 10 to get a legendary drop while i get 610 drops elsewhere', 'man gearbox really needs to fix this disssapointing drops in the new borderlands 3 dlc cant be fine to farm bosses on mayhem 10 to get 1 legendary drop while elsewhere i get 610 drops really sucks alot', 'man bethesda really needs to fix this dissapointing drops and the new borderlands 3 it cant be fine to farm bosses on mayhem 10 to get 1 legendary drop while anywhere else i get 610 drops really sucks', 'man gearbox really needs to fix this dissapointing drops in the completely new borderlands 3 days dlc i cant e be fine having to be farm bosses on mayhem 10 to e get 1 legendary foot drop while anywhere else i get 6 10 drops it really sucks to alot', 'unk gearbox really time to fix this 10 drops in the new borderlands 3 dlc or be fine to force bosses on mayhem 10 to get a legendary drop while everyone else i get 610 drops really needs alot', 'check out this epic streamer', 'check out this epic streamer', 'watch this epic striptease', 'check out this big epic streamer', 'checkunk this epic streamer', 'blaming sight for tardiness a little bit of borderlands i got called in early for work tomorrow so i cant make up time sorry my loves twitchtvpunnisenpai', 'a bit of borderland i was called to work tomorrow morning so i cant catch up sorry my love twitchtv punnisenpai', 'guilty of sobriety a bit of a borderline i was called to work early tomorrow so i cant catch up', 'blaming sight for tardiness a little bit of borderlands i got called in early for work tomorrow so i cant make up time sorry my loves twitchtvpunnisenpai', 'for blaming sight for tardiness a little bit of borderlands i got called in early for work tomorrow so i cant make up time sorry my loves twitchtvpunnisenpai', 'all']\n",
            "The lenght of tweets_train is:  68047\n",
            "\n",
            "The tweets for the test are:  [\"i mentioned on facebook that i was struggling for motivation to go for a run the other day which has been translated by tom's great auntie as 'hayley can't get out of bed' and told to his grandma who now thinks i'm a lazy terrible person\", 'bbc news amazon boss jeff bezos rejects claims company acted like a drug dealer bbccouknewsavbusine', 'microsoft why do i pay for word when it functions so poorly on my samsungus chromebook', 'csgo matchmaking is so full of closet hacking its a truly awful game', 'now the president is slapping americans in the face that he really did commit an unlawful act after his acquittal from discover on google vanityfaircomnews202002t', \"hi eahelp i've had madeleine mccann in my cellar for the past 13 years and the little sneaky thing just escaped whilst i was loading up some fifa points she took my card and i'm having to use my paypal account but it isn't working can you help me resolve it please\", 'thank you eamaddennfl\\nnew te austin hooper in the orange brown\\nbrowns austinhooper18\\npictwittercomgrg4xzfkon', 'rocket league sea of thieves or rainbow six siege i love playing all three on stream but which is the best stream twitch rocketleague seaofthieves rainbowsixsiege follow', 'my ass still kneedeep in assassins creed odyssey with no way out anytime soon lmao', 'fix it jesus please fix it what in the world is going on here playstation askplaystation playstationsup treyarch callofduty negative 345 silver wolf error code pictwittercomziryhrf59q', 'the professional dota 2 scene is fucking exploding and i completely welcome it\\nget the garbage out', 'itching to assassinate\\ntccgif assassinscreedblackflag assassinscreed thecapturedcollective pictwittercomvv8mogtcjw', 'fredtjoseph hey fred comcast cut the cable and now verizon stays calling me to shut that too pictwittercomcpwsrmuedg', 'csgo wingman im silver dont bully twitchtvlprezh', 'nba2k game sucks down by 2 with 38 seconds left and my team intentionally fouls', 'congrats to the nvidia nemo team for the 100 release candidate\\nreally excited to see nemo embracing hydra as the way to take control over the configuration madness that is machine learning', \"yeah and it's fun\", 'fuck my life', 'happy birthday red dead redemption that shit changed my life what a crazy experience', 'what does that say about microsoft hardware software security the man gets hacked', 'the new callofduty for ps5 is\\noh god', 'anyone that plays a bad luck albatross deck in hearthstone is a literal cop\\nfucking fun police pictwittercomjy6trq351e', 'call of duty warzone livestream w subs warzone youtube7bhhpjomu4 via youtube please come watch this amazing call of duty warzone stream from this amazing streamer itd be really really nice to give him some views and likes as well cod callofduty warzone', 'finally played rainbow six siege for the first time i have to admit i prefer it over pulling my hair out in csgo any day', 'umm playapex when i died it said bug this pictwittercombzmhzbadof', 'gtc20 nice motivational and very accessible nvidiaai product fair related tech talks\\nnvidiacomenusgtckeyn\\ninteresting interactionsocial activities braindates dinner with strangers and free attendance for universities regrainfocuscomflownvidiagt', 'yo verizon just added a 120 fee to my account under covid19 protection without my permission and i am forced to pay it check your bills carefully', 'they might not be the last team that has to make this difficult decision update overwatchleague nyxl overwatch overwatch2 blizzard games lockdown pictwittercomdi1htl4mcv', 'best squad yetpubg pubgmobile pubgkenya instagramcompbobteaa4f', 'borderlands how do i submit a complaint your ceo isnt paying his staff their bonuses', 'watching nvidia position itself as not just a leading hardware manufacturer but also providing meaningful software to consumers is a remarkable thing of beauty what an incredibly lead company with clear focus and goals well done nvidia', \"i don't see how this looks like as xbox controller but y'all will say anything anyway this is fire\", 'johnson johnson knowingly sold baby powder containing asbestos for decades and are now tasked with producing covid19 vaccine along with corporate criminals glaxosmithkline who received the 2nd largest fine in corporate history for their various crimes trust them', 'the things i would do for a nvidia 3090 unspeakable', 'fortnite is running like ass fps drops everywhere wtf', 'great play dude what a good optic for the mk2 carbine too', 'i got the horses in the back ps4live red dead redemption 2 live at youtube9bvkh67oaei', 'this is a really disappointing move by remedy bought control day one with the season pass but will only get the ps5 upgrade if i rebuy everything again repackaged in the ultimate edition', 'just finished assassins creed odyssey through shadowofficial shadowna from the beginning to the end thanks for the amazing gaming experience on your service', 'solo q and this freak is spinning as fast as he can to lower the fps\\ni thought they took this bs out\\nrainbow6game httpstcomlvhmu4qez', \"our eldest has spent so long playing this new call of duty game i'm not convinced he even knows what day it is let alone how long lockdown has lasted i'd normally object but i think i'd rather deal with that than him being frustrated about being stuck at home\", 'the corruption and knocking up of overwatch babes is a serious mood atm pictwittercomqny4kmgblv', 'playcodmobile m2games2 i love the call of duty more unfortunately im having a lot of audio bug every time im playing the br mode of the game the audio just stops then i have to close it and open dnv the device im using is ios', 'amazon stops accepting new online grocery customers as it cuts hours at whole foods stores dailymailcouknewsarticle8 httpstcojn7omalq3n', 'not gonna lie that black ops cold war trailer was probably the best cod teaser i have ever seen', 'melusi 4k are you shocked justhoneybadger simmyster06 walkerpool mdassassin007 owahid65 rainbowsixsiege pictwittercom0acuqjtvgl', 'never popped the ice block hearthstone pictwittercombcszlhjhpf', 'you mean the same johnson johnson that suppressed reports of asbestos contamination in their talc products for decades wonder how many died and birx says randomized controlled studies show no evidence of improved outcome with hcq liar\\nyoutube77tmszubru4', \"i'm addicted to call of duty mobile\", 'this could go very wellor horribly wrong']\n",
            "The lenght of tweets_test is:  6949\n"
          ]
        }
      ]
    },
    {
      "cell_type": "code",
      "source": [
        "for df in [\"tweets_train\", \"tweets_test\"]:\n",
        "  if df == \"tweets_train\":\n",
        "    tweets_train = [[w for w in t.replace(\"\\n\", \" \").split(\" \") if len(w)>0] for t in tweets_train]\n",
        "    print(\"Tweet_train: \", tweets_train[0])\n",
        "  else:\n",
        "    tweets_test = [[w for w in r.replace(\"\\n\", \" \").split(\" \") if len(w)>0] for r in tweets_test]\n",
        "    print(\"Tweet_test: \", tweets_test[0])"
      ],
      "metadata": {
        "id": "ZK_33A2sKmpL",
        "execution": {
          "iopub.status.busy": "2022-06-02T18:59:40.857830Z",
          "iopub.execute_input": "2022-06-02T18:59:40.858219Z",
          "iopub.status.idle": "2022-06-02T18:59:41.348751Z",
          "shell.execute_reply.started": "2022-06-02T18:59:40.858181Z",
          "shell.execute_reply": "2022-06-02T18:59:41.347186Z"
        },
        "trusted": true,
        "colab": {
          "base_uri": "https://localhost:8080/"
        },
        "outputId": "9e5d4bce-c860-4652-bb62-de1c09308108"
      },
      "execution_count": null,
      "outputs": [
        {
          "output_type": "stream",
          "name": "stdout",
          "text": [
            "Tweet_train:  ['im', 'getting', 'on', 'borderlands', 'and', 'i', 'will', 'murder', 'you', 'all']\n",
            "Tweet_test:  ['i', 'mentioned', 'on', 'facebook', 'that', 'i', 'was', 'struggling', 'for', 'motivation', 'to', 'go', 'for', 'a', 'run', 'the', 'other', 'day', 'which', 'has', 'been', 'translated', 'by', \"tom's\", 'great', 'auntie', 'as', \"'hayley\", \"can't\", 'get', 'out', 'of', \"bed'\", 'and', 'told', 'to', 'his', 'grandma', 'who', 'now', 'thinks', \"i'm\", 'a', 'lazy', 'terrible', 'person']\n"
          ]
        }
      ]
    },
    {
      "cell_type": "code",
      "source": [
        "  # compute the length of each tweets in tweets_train\n",
        "tweets_lens_train = [len(r) for r in tweets_train]\n",
        "# print the lenght of the first x tweets\n",
        "tweets_lens_train[:10]"
      ],
      "metadata": {
        "id": "pWtrj22DDYpA",
        "execution": {
          "iopub.status.busy": "2022-06-02T18:59:41.349858Z",
          "iopub.execute_input": "2022-06-02T18:59:41.350220Z",
          "iopub.status.idle": "2022-06-02T18:59:41.362616Z",
          "shell.execute_reply.started": "2022-06-02T18:59:41.350180Z",
          "shell.execute_reply": "2022-06-02T18:59:41.361811Z"
        },
        "trusted": true,
        "colab": {
          "base_uri": "https://localhost:8080/"
        },
        "outputId": "e4bc0fff-8935-4b79-8086-36e6aa0fa3d6"
      },
      "execution_count": null,
      "outputs": [
        {
          "output_type": "execute_result",
          "data": {
            "text/plain": [
              "[10, 12, 10, 10, 12, 10, 51, 52, 27, 51]"
            ]
          },
          "metadata": {},
          "execution_count": 28
        }
      ]
    },
    {
      "cell_type": "code",
      "source": [
        "# print the average tweets lenght\n",
        "sum(tweets_lens_train) / len(tweets_lens_train)"
      ],
      "metadata": {
        "id": "QconGeJTDCYm",
        "execution": {
          "iopub.status.busy": "2022-06-02T18:59:41.364044Z",
          "iopub.execute_input": "2022-06-02T18:59:41.364801Z",
          "iopub.status.idle": "2022-06-02T18:59:41.371236Z",
          "shell.execute_reply.started": "2022-06-02T18:59:41.364765Z",
          "shell.execute_reply": "2022-06-02T18:59:41.370437Z"
        },
        "trusted": true,
        "colab": {
          "base_uri": "https://localhost:8080/"
        },
        "outputId": "4bc5dc5e-28ec-40aa-c0d3-52e8c0a79923"
      },
      "execution_count": null,
      "outputs": [
        {
          "output_type": "execute_result",
          "data": {
            "text/plain": [
              "18.40751245462695"
            ]
          },
          "metadata": {},
          "execution_count": 29
        }
      ]
    },
    {
      "cell_type": "code",
      "source": [
        "#Creation of a unique list of words\n",
        "final_tweets = tweets_train + tweets_test"
      ],
      "metadata": {
        "id": "D5CkRCaIvGNI",
        "execution": {
          "iopub.status.busy": "2022-06-02T18:59:41.372606Z",
          "iopub.execute_input": "2022-06-02T18:59:41.373297Z",
          "iopub.status.idle": "2022-06-02T18:59:41.426396Z",
          "shell.execute_reply.started": "2022-06-02T18:59:41.373259Z",
          "shell.execute_reply": "2022-06-02T18:59:41.425509Z"
        },
        "trusted": true
      },
      "execution_count": null,
      "outputs": []
    },
    {
      "cell_type": "code",
      "source": [
        "len(final_tweets)"
      ],
      "metadata": {
        "id": "upGaomdWN4de",
        "execution": {
          "iopub.status.busy": "2022-06-02T18:59:41.428180Z",
          "iopub.execute_input": "2022-06-02T18:59:41.428772Z",
          "iopub.status.idle": "2022-06-02T18:59:41.437979Z",
          "shell.execute_reply.started": "2022-06-02T18:59:41.428738Z",
          "shell.execute_reply": "2022-06-02T18:59:41.437192Z"
        },
        "trusted": true,
        "colab": {
          "base_uri": "https://localhost:8080/"
        },
        "outputId": "b9efe419-6dd1-47dc-f2dc-cae949851c62"
      },
      "execution_count": null,
      "outputs": [
        {
          "output_type": "execute_result",
          "data": {
            "text/plain": [
              "74996"
            ]
          },
          "metadata": {},
          "execution_count": 31
        }
      ]
    },
    {
      "cell_type": "code",
      "source": [
        "final_tweets[50]"
      ],
      "metadata": {
        "id": "pZTm1SGFvxwb",
        "execution": {
          "iopub.status.busy": "2022-06-02T18:59:41.439230Z",
          "iopub.execute_input": "2022-06-02T18:59:41.439758Z",
          "iopub.status.idle": "2022-06-02T18:59:41.447285Z",
          "shell.execute_reply.started": "2022-06-02T18:59:41.439723Z",
          "shell.execute_reply": "2022-06-02T18:59:41.446296Z"
        },
        "trusted": true,
        "colab": {
          "base_uri": "https://localhost:8080/"
        },
        "outputId": "b602027b-3ada-4a1c-8a85-dd3ad048d443"
      },
      "execution_count": null,
      "outputs": [
        {
          "output_type": "execute_result",
          "data": {
            "text/plain": [
              "['why',\n",
              " 'does',\n",
              " 'like',\n",
              " 'every',\n",
              " 'man',\n",
              " 'in',\n",
              " 'borderlands',\n",
              " 'have',\n",
              " 'slicked',\n",
              " 'back',\n",
              " 'hair',\n",
              " \"haven't\",\n",
              " 'you',\n",
              " 'heard',\n",
              " 'of',\n",
              " 'bangs',\n",
              " 'you',\n",
              " 'stupid',\n",
              " 'assholes']"
            ]
          },
          "metadata": {},
          "execution_count": 32
        }
      ]
    },
    {
      "cell_type": "code",
      "source": [
        "# build vocabulary\n",
        "words = list(set([w for r in final_tweets for w in r]))\n",
        "vocab = {words[i]: i+1 for i in range(len(words))} # we reserve i=0 for pad sequences"
      ],
      "metadata": {
        "id": "ipnktOTMvx0F",
        "execution": {
          "iopub.status.busy": "2022-06-02T18:59:41.448830Z",
          "iopub.execute_input": "2022-06-02T18:59:41.449297Z",
          "iopub.status.idle": "2022-06-02T18:59:41.610473Z",
          "shell.execute_reply.started": "2022-06-02T18:59:41.449261Z",
          "shell.execute_reply": "2022-06-02T18:59:41.609432Z"
        },
        "trusted": true
      },
      "execution_count": null,
      "outputs": []
    },
    {
      "cell_type": "code",
      "source": [
        "len(vocab)"
      ],
      "metadata": {
        "id": "1kF-Xp_vvx3D",
        "execution": {
          "iopub.status.busy": "2022-06-02T18:59:41.611845Z",
          "iopub.execute_input": "2022-06-02T18:59:41.612254Z",
          "iopub.status.idle": "2022-06-02T18:59:41.620148Z",
          "shell.execute_reply.started": "2022-06-02T18:59:41.612215Z",
          "shell.execute_reply": "2022-06-02T18:59:41.619305Z"
        },
        "trusted": true,
        "colab": {
          "base_uri": "https://localhost:8080/"
        },
        "outputId": "1b186b84-0e94-4b67-8f03-075f3550daa7"
      },
      "execution_count": null,
      "outputs": [
        {
          "output_type": "execute_result",
          "data": {
            "text/plain": [
              "41841"
            ]
          },
          "metadata": {},
          "execution_count": 34
        }
      ]
    },
    {
      "cell_type": "code",
      "source": [
        "# Convert tweets to word indexes\n",
        "for df in [\"tweets_train\", \"tweets_test\"]:\n",
        "  if df == \"tweets_train\":\n",
        "    tweets_train = [[vocab[w] for w in r] for r in tweets_train]\n",
        "    print(tweets_train[0])\n",
        "  else:\n",
        "    tweets_test = [[vocab[w] for w in r] for r in tweets_test]\n",
        "    print(tweets_test[0])"
      ],
      "metadata": {
        "id": "Bvtr6teoPBvY",
        "execution": {
          "iopub.status.busy": "2022-06-02T18:59:41.621545Z",
          "iopub.execute_input": "2022-06-02T18:59:41.622665Z",
          "iopub.status.idle": "2022-06-02T18:59:41.998280Z",
          "shell.execute_reply.started": "2022-06-02T18:59:41.622626Z",
          "shell.execute_reply": "2022-06-02T18:59:41.997459Z"
        },
        "trusted": true,
        "colab": {
          "base_uri": "https://localhost:8080/"
        },
        "outputId": "effd09a6-7914-4ef3-af18-74548f9f23dd"
      },
      "execution_count": null,
      "outputs": [
        {
          "output_type": "stream",
          "name": "stdout",
          "text": [
            "[6236, 28594, 1895, 1799, 10046, 41453, 5532, 17567, 30634, 4109]\n",
            "[41453, 37865, 1895, 25909, 10406, 41453, 31266, 5985, 28537, 36059, 6889, 16213, 28537, 2033, 24641, 14570, 10879, 20609, 16147, 6346, 31172, 33637, 7844, 19720, 1724, 29644, 38416, 3179, 13934, 313, 22973, 23732, 30001, 10046, 5735, 6889, 14201, 6719, 38644, 32766, 18310, 32709, 2033, 19665, 40117, 3244]\n"
          ]
        }
      ]
    },
    {
      "cell_type": "code",
      "source": [
        "#For example, we can print the word corrispondent to the first element of tweets_train\n",
        "words[tweets_train[0][0]-1]"
      ],
      "metadata": {
        "id": "adxI-KfCO-zk",
        "execution": {
          "iopub.status.busy": "2022-06-02T18:59:41.999407Z",
          "iopub.execute_input": "2022-06-02T18:59:42.000647Z",
          "iopub.status.idle": "2022-06-02T18:59:42.007223Z",
          "shell.execute_reply.started": "2022-06-02T18:59:42.000606Z",
          "shell.execute_reply": "2022-06-02T18:59:42.006182Z"
        },
        "trusted": true,
        "colab": {
          "base_uri": "https://localhost:8080/",
          "height": 36
        },
        "outputId": "06c71c01-1be4-4060-864d-de4d4f342865"
      },
      "execution_count": null,
      "outputs": [
        {
          "output_type": "execute_result",
          "data": {
            "text/plain": [
              "'im'"
            ],
            "application/vnd.google.colaboratory.intrinsic+json": {
              "type": "string"
            }
          },
          "metadata": {},
          "execution_count": 36
        }
      ]
    },
    {
      "cell_type": "markdown",
      "source": [
        "The reviews have different lengths, while, we want that all reviews have the same length"
      ],
      "metadata": {
        "id": "_WSubqrGQOZG"
      }
    },
    {
      "cell_type": "code",
      "source": [
        "seq_len = 15    # number of words for each sentence"
      ],
      "metadata": {
        "id": "hWp8348WAHMp",
        "execution": {
          "iopub.status.busy": "2022-06-02T19:01:26.420022Z",
          "iopub.execute_input": "2022-06-02T19:01:26.420811Z",
          "iopub.status.idle": "2022-06-02T19:01:26.425364Z",
          "shell.execute_reply.started": "2022-06-02T19:01:26.420761Z",
          "shell.execute_reply": "2022-06-02T19:01:26.424567Z"
        },
        "trusted": true
      },
      "execution_count": null,
      "outputs": []
    },
    {
      "cell_type": "code",
      "source": [
        "for df in [\"tweets_train\", \"tweets_test\"]:\n",
        "  if df == \"tweets_train\":\n",
        "    # Clip tweets to max seq_len words\n",
        "    tweets_train = [r[:seq_len] for r in tweets_train]\n",
        "    \n",
        "    # Print average tweets length now\n",
        "    tweets_lens_train = [len(r) for r in tweets_train]\n",
        "    print(\"Tweets of the train length before padding: \", sum(tweets_lens_train)/len(tweets_lens_train))\n",
        "    \n",
        "    # Pad tweets shorter than seq_len\n",
        "    # TODO test padding at the end\n",
        "    tweets_train = [[0]*(seq_len - len(r)) + r for r in tweets_train]\n",
        "    \n",
        "    # Print average tweet length now\n",
        "    tweets_lens_train = [len(r) for r in tweets_train]\n",
        "    print(\"Tweets of the train length after padding: \", sum(tweets_lens_train)/len(tweets_lens_train))\n",
        "  else:\n",
        "    tweets_test = [r[:seq_len] for r in tweets_test]\n",
        "    \n",
        "    # Print average tweet length now\n",
        "    tweets_lens_test = [len(r) for r in tweets_test]\n",
        "    print(\"Tweets of the test length before padding: \", sum(tweets_lens_test)/len(tweets_lens_test))\n",
        "    \n",
        "    # Pad tweets shorter than seq_len\n",
        "    # TODO test padding at the end\n",
        "    tweets_test = [[0]*(seq_len - len(r)) + r for r in tweets_test]\n",
        "    \n",
        "    # Print average tweet length now\n",
        "    tweets_lens_test = [len(r) for r in tweets_test]\n",
        "    print(\"Tweets of the test length after padding: \",sum(tweets_lens_test)/len(tweets_lens_test))"
      ],
      "metadata": {
        "id": "rdv3fmCoO-6f",
        "execution": {
          "iopub.status.busy": "2022-06-02T19:01:27.455987Z",
          "iopub.execute_input": "2022-06-02T19:01:27.456975Z",
          "iopub.status.idle": "2022-06-02T19:01:27.738925Z",
          "shell.execute_reply.started": "2022-06-02T19:01:27.456927Z",
          "shell.execute_reply": "2022-06-02T19:01:27.737948Z"
        },
        "trusted": true,
        "colab": {
          "base_uri": "https://localhost:8080/"
        },
        "outputId": "e7e3bde3-05e7-412f-872e-50da6f2e6250"
      },
      "execution_count": null,
      "outputs": [
        {
          "output_type": "stream",
          "name": "stdout",
          "text": [
            "Tweets of the train length before padding:  11.354975237703352\n",
            "Tweets of the train length after padding:  15.0\n",
            "Tweets of the test length before padding:  11.53633616347676\n",
            "Tweets of the test length after padding:  15.0\n"
          ]
        }
      ]
    },
    {
      "cell_type": "markdown",
      "source": [
        "Now, we can convert tweets_train and tweets_test in a Tensor:"
      ],
      "metadata": {
        "id": "W8-WPJSXCn2q"
      }
    },
    {
      "cell_type": "code",
      "source": [
        "for df in [\"tweets_train\", \"tweets_test\"]:\n",
        "  if df == \"tweets_train\":\n",
        "    # Convert tweets to tensor\n",
        "    train = torch.LongTensor(tweets_train)\n",
        "    print(\"The size of the train is: \", train.size())\n",
        "  else:\n",
        "    test_data = torch.LongTensor(tweets_test)\n",
        "    print(\"The size of the train is: \", test_data.size())\n",
        "    "
      ],
      "metadata": {
        "id": "YEctSe1_O-8d",
        "execution": {
          "iopub.status.busy": "2022-06-02T19:01:30.142966Z",
          "iopub.execute_input": "2022-06-02T19:01:30.143746Z",
          "iopub.status.idle": "2022-06-02T19:01:30.198353Z",
          "shell.execute_reply.started": "2022-06-02T19:01:30.143710Z",
          "shell.execute_reply": "2022-06-02T19:01:30.197110Z"
        },
        "trusted": true,
        "colab": {
          "base_uri": "https://localhost:8080/"
        },
        "outputId": "1d5229ea-c638-4e84-e112-15671ced8c3c"
      },
      "execution_count": null,
      "outputs": [
        {
          "output_type": "stream",
          "name": "stdout",
          "text": [
            "The size of the train is:  torch.Size([68047, 15])\n",
            "The size of the train is:  torch.Size([6949, 15])\n"
          ]
        }
      ]
    },
    {
      "cell_type": "markdown",
      "source": [
        "Processing the labels"
      ],
      "metadata": {
        "id": "ugAY76koC0If"
      }
    },
    {
      "cell_type": "code",
      "source": [
        "label_train = df_train[\"Target\"]"
      ],
      "metadata": {
        "id": "WEylRKf8_d2R",
        "execution": {
          "iopub.status.busy": "2022-06-02T19:01:34.512508Z",
          "iopub.execute_input": "2022-06-02T19:01:34.512940Z",
          "iopub.status.idle": "2022-06-02T19:01:34.517963Z",
          "shell.execute_reply.started": "2022-06-02T19:01:34.512907Z",
          "shell.execute_reply": "2022-06-02T19:01:34.517026Z"
        },
        "trusted": true
      },
      "execution_count": null,
      "outputs": []
    },
    {
      "cell_type": "code",
      "source": [
        "len(label_train)"
      ],
      "metadata": {
        "id": "BtJ1pkNUDuIh",
        "execution": {
          "iopub.status.busy": "2022-06-02T19:01:35.252224Z",
          "iopub.execute_input": "2022-06-02T19:01:35.253047Z",
          "iopub.status.idle": "2022-06-02T19:01:35.259086Z",
          "shell.execute_reply.started": "2022-06-02T19:01:35.253016Z",
          "shell.execute_reply": "2022-06-02T19:01:35.257927Z"
        },
        "trusted": true,
        "colab": {
          "base_uri": "https://localhost:8080/"
        },
        "outputId": "56a86dce-c964-47f5-c3ec-d67e3e0b387a"
      },
      "execution_count": null,
      "outputs": [
        {
          "output_type": "execute_result",
          "data": {
            "text/plain": [
              "68047"
            ]
          },
          "metadata": {},
          "execution_count": 41
        }
      ]
    },
    {
      "cell_type": "code",
      "source": [
        "label_test = df_test[\"Target\"]"
      ],
      "metadata": {
        "id": "h3K-T_PVWFlc",
        "execution": {
          "iopub.status.busy": "2022-06-02T19:01:36.385729Z",
          "iopub.execute_input": "2022-06-02T19:01:36.386215Z",
          "iopub.status.idle": "2022-06-02T19:01:36.391520Z",
          "shell.execute_reply.started": "2022-06-02T19:01:36.386183Z",
          "shell.execute_reply": "2022-06-02T19:01:36.390327Z"
        },
        "trusted": true
      },
      "execution_count": null,
      "outputs": []
    },
    {
      "cell_type": "code",
      "source": [
        "len(label_test)"
      ],
      "metadata": {
        "id": "oqBAtkt-Xfy2",
        "execution": {
          "iopub.status.busy": "2022-06-02T19:01:36.881916Z",
          "iopub.execute_input": "2022-06-02T19:01:36.882230Z",
          "iopub.status.idle": "2022-06-02T19:01:36.887830Z",
          "shell.execute_reply.started": "2022-06-02T19:01:36.882203Z",
          "shell.execute_reply": "2022-06-02T19:01:36.886958Z"
        },
        "trusted": true,
        "colab": {
          "base_uri": "https://localhost:8080/"
        },
        "outputId": "2db2bbd6-01a8-4794-d98e-9554c4740ae4"
      },
      "execution_count": null,
      "outputs": [
        {
          "output_type": "execute_result",
          "data": {
            "text/plain": [
              "6949"
            ]
          },
          "metadata": {},
          "execution_count": 43
        }
      ]
    },
    {
      "cell_type": "code",
      "source": [
        "import seaborn as sns\n",
        "sns.countplot(x=\"Target\",data=df_train).set(title='Labels for Train')"
      ],
      "metadata": {
        "id": "zl8sg1QLDFv5",
        "execution": {
          "iopub.status.busy": "2022-06-02T19:01:37.127597Z",
          "iopub.execute_input": "2022-06-02T19:01:37.128122Z",
          "iopub.status.idle": "2022-06-02T19:01:38.024231Z",
          "shell.execute_reply.started": "2022-06-02T19:01:37.128092Z",
          "shell.execute_reply": "2022-06-02T19:01:38.023483Z"
        },
        "trusted": true,
        "colab": {
          "base_uri": "https://localhost:8080/",
          "height": 313
        },
        "outputId": "8f4287a0-ce09-4d58-c21f-52b6afbb7f84"
      },
      "execution_count": null,
      "outputs": [
        {
          "output_type": "execute_result",
          "data": {
            "text/plain": [
              "[Text(0.5, 1.0, 'Labels for Train')]"
            ]
          },
          "metadata": {},
          "execution_count": 44
        },
        {
          "output_type": "display_data",
          "data": {
            "text/plain": [
              "<Figure size 432x288 with 1 Axes>"
            ],
            "image/png": "[encoded data removed]"
          },
          "metadata": {
            "needs_background": "light"
          }
        }
      ]
    },
    {
      "cell_type": "code",
      "source": [
        "label_test = df_test[\"Target\"]\n",
        "sns.countplot(x=\"Target\",data=df_test).set(title='Labels for Test')"
      ],
      "metadata": {
        "id": "KeFUmkIOLHdw",
        "execution": {
          "iopub.status.busy": "2022-06-02T19:01:38.025761Z",
          "iopub.execute_input": "2022-06-02T19:01:38.026195Z",
          "iopub.status.idle": "2022-06-02T19:01:38.206570Z",
          "shell.execute_reply.started": "2022-06-02T19:01:38.026151Z",
          "shell.execute_reply": "2022-06-02T19:01:38.205841Z"
        },
        "trusted": true,
        "colab": {
          "base_uri": "https://localhost:8080/",
          "height": 313
        },
        "outputId": "9a995a2e-88de-483e-899b-3abbbab0dcc9"
      },
      "execution_count": null,
      "outputs": [
        {
          "output_type": "execute_result",
          "data": {
            "text/plain": [
              "[Text(0.5, 1.0, 'Labels for Test')]"
            ]
          },
          "metadata": {},
          "execution_count": 45
        },
        {
          "output_type": "display_data",
          "data": {
            "text/plain": [
              "<Figure size 432x288 with 1 Axes>"
            ],
            "image/png": "[encoded data removed]"
          },
          "metadata": {
            "needs_background": "light"
          }
        }
      ]
    },
    {
      "cell_type": "code",
      "source": [
        "for labels in [\"label_train\", \"label_test\"]:\n",
        "  if labels == \"label_train\":\n",
        "    sentiments_train = []\n",
        "    for i in label_train:\n",
        "      if i == \"Positive\":\n",
        "        sentiments_train.append(2)\n",
        "      elif (i == \"Irrelevant\") or (i == \"Neutral\"):\n",
        "        sentiments_train.append(1)\n",
        "      else:\n",
        "        sentiments_train.append(0)\n",
        "    df_train[\"Sentiments\"] = sentiments_train\n",
        "  else:\n",
        "    sentiments_test = []\n",
        "    for i in label_test:\n",
        "      if i == \"Positive\":\n",
        "        sentiments_test.append(2)\n",
        "      elif (i == \"Irrelevant\") or (i == \"Neutral\"):\n",
        "        sentiments_test.append(1)\n",
        "      else:\n",
        "        sentiments_test.append(0)\n",
        "    df_test[\"Sentiments\"] = sentiments_test"
      ],
      "metadata": {
        "id": "MD0kw7WGYPER",
        "execution": {
          "iopub.status.busy": "2022-06-02T19:01:38.207740Z",
          "iopub.execute_input": "2022-06-02T19:01:38.208096Z",
          "iopub.status.idle": "2022-06-02T19:01:38.336857Z",
          "shell.execute_reply.started": "2022-06-02T19:01:38.208059Z",
          "shell.execute_reply": "2022-06-02T19:01:38.336116Z"
        },
        "trusted": true
      },
      "execution_count": null,
      "outputs": []
    },
    {
      "cell_type": "code",
      "source": [
        "df_train.head()"
      ],
      "metadata": {
        "id": "yFt3UfGdESvQ",
        "execution": {
          "iopub.status.busy": "2022-06-02T19:01:38.338538Z",
          "iopub.execute_input": "2022-06-02T19:01:38.338869Z",
          "iopub.status.idle": "2022-06-02T19:01:38.350571Z",
          "shell.execute_reply.started": "2022-06-02T19:01:38.338836Z",
          "shell.execute_reply": "2022-06-02T19:01:38.349520Z"
        },
        "trusted": true,
        "colab": {
          "base_uri": "https://localhost:8080/",
          "height": 206
        },
        "outputId": "0200877a-e2b0-4a83-bd2e-25c1f8504cea"
      },
      "execution_count": null,
      "outputs": [
        {
          "output_type": "execute_result",
          "data": {
            "text/plain": [
              "                                                Text    Target  Sentiments\n",
              "0  im getting on borderlands and i will murder yo...  Positive           2\n",
              "1  I am coming to the borders and I will kill you...  Positive           2\n",
              "2  im getting on borderlands and i will kill you ...  Positive           2\n",
              "3  im coming on borderlands and i will murder you...  Positive           2\n",
              "4  im getting on borderlands 2 and i will murder ...  Positive           2"
            ],
            "text/html": [
              "\n",
              "  <div id=\"df-80baee7d-ca97-42ce-aaf7-4ac8f9c87483\">\n",
              "    <div class=\"colab-df-container\">\n",
              "      <div>\n",
              "<style scoped>\n",
              "    .dataframe tbody tr th:only-of-type {\n",
              "        vertical-align: middle;\n",
              "    }\n",
              "\n",
              "    .dataframe tbody tr th {\n",
              "        vertical-align: top;\n",
              "    }\n",
              "\n",
              "    .dataframe thead th {\n",
              "        text-align: right;\n",
              "    }\n",
              "</style>\n",
              "<table border=\"1\" class=\"dataframe\">\n",
              "  <thead>\n",
              "    <tr style=\"text-align: right;\">\n",
              "      <th></th>\n",
              "      <th>Text</th>\n",
              "      <th>Target</th>\n",
              "      <th>Sentiments</th>\n",
              "    </tr>\n",
              "  </thead>\n",
              "  <tbody>\n",
              "    <tr>\n",
              "      <th>0</th>\n",
              "      <td>im getting on borderlands and i will murder yo...</td>\n",
              "      <td>Positive</td>\n",
              "      <td>2</td>\n",
              "    </tr>\n",
              "    <tr>\n",
              "      <th>1</th>\n",
              "      <td>I am coming to the borders and I will kill you...</td>\n",
              "      <td>Positive</td>\n",
              "      <td>2</td>\n",
              "    </tr>\n",
              "    <tr>\n",
              "      <th>2</th>\n",
              "      <td>im getting on borderlands and i will kill you ...</td>\n",
              "      <td>Positive</td>\n",
              "      <td>2</td>\n",
              "    </tr>\n",
              "    <tr>\n",
              "      <th>3</th>\n",
              "      <td>im coming on borderlands and i will murder you...</td>\n",
              "      <td>Positive</td>\n",
              "      <td>2</td>\n",
              "    </tr>\n",
              "    <tr>\n",
              "      <th>4</th>\n",
              "      <td>im getting on borderlands 2 and i will murder ...</td>\n",
              "      <td>Positive</td>\n",
              "      <td>2</td>\n",
              "    </tr>\n",
              "  </tbody>\n",
              "</table>\n",
              "</div>\n",
              "      <button class=\"colab-df-convert\" onclick=\"convertToInteractive('df-80baee7d-ca97-42ce-aaf7-4ac8f9c87483')\"\n",
              "              title=\"Convert this dataframe to an interactive table.\"\n",
              "              style=\"display:none;\">\n",
              "        \n",
              "  <svg xmlns=\"http://www.w3.org/2000/svg\" height=\"24px\"viewBox=\"0 0 24 24\"\n",
              "       width=\"24px\">\n",
              "    <path d=\"M0 0h24v24H0V0z\" fill=\"none\"/>\n",
              "    <path d=\"M18.56 5.44l.94 2.06.94-2.06 2.06-.94-2.06-.94-.94-2.06-.94 2.06-2.06.94zm-11 1L8.5 8.5l.94-2.06 2.06-.94-2.06-.94L8.5 2.5l-.94 2.06-2.06.94zm10 10l.94 2.06.94-2.06 2.06-.94-2.06-.94-.94-2.06-.94 2.06-2.06.94z\"/><path d=\"M17.41 7.96l-1.37-1.37c-.4-.4-.92-.59-1.43-.59-.52 0-1.04.2-1.43.59L10.3 9.45l-7.72 7.72c-.78.78-.78 2.05 0 2.83L4 21.41c.39.39.9.59 1.41.59.51 0 1.02-.2 1.41-.59l7.78-7.78 2.81-2.81c.8-.78.8-2.07 0-2.86zM5.41 20L4 18.59l7.72-7.72 1.47 1.35L5.41 20z\"/>\n",
              "  </svg>\n",
              "      </button>\n",
              "      \n",
              "  <style>\n",
              "    .colab-df-container {\n",
              "      display:flex;\n",
              "      flex-wrap:wrap;\n",
              "      gap: 12px;\n",
              "    }\n",
              "\n",
              "    .colab-df-convert {\n",
              "      background-color: #E8F0FE;\n",
              "      border: none;\n",
              "      border-radius: 50%;\n",
              "      cursor: pointer;\n",
              "      display: none;\n",
              "      fill: #1967D2;\n",
              "      height: 32px;\n",
              "      padding: 0 0 0 0;\n",
              "      width: 32px;\n",
              "    }\n",
              "\n",
              "    .colab-df-convert:hover {\n",
              "      background-color: #E2EBFA;\n",
              "      box-shadow: 0px 1px 2px rgba(60, 64, 67, 0.3), 0px 1px 3px 1px rgba(60, 64, 67, 0.15);\n",
              "      fill: #174EA6;\n",
              "    }\n",
              "\n",
              "    [theme=dark] .colab-df-convert {\n",
              "      background-color: #3B4455;\n",
              "      fill: #D2E3FC;\n",
              "    }\n",
              "\n",
              "    [theme=dark] .colab-df-convert:hover {\n",
              "      background-color: #434B5C;\n",
              "      box-shadow: 0px 1px 3px 1px rgba(0, 0, 0, 0.15);\n",
              "      filter: drop-shadow(0px 1px 2px rgba(0, 0, 0, 0.3));\n",
              "      fill: #FFFFFF;\n",
              "    }\n",
              "  </style>\n",
              "\n",
              "      <script>\n",
              "        const buttonEl =\n",
              "          document.querySelector('#df-80baee7d-ca97-42ce-aaf7-4ac8f9c87483 button.colab-df-convert');\n",
              "        buttonEl.style.display =\n",
              "          google.colab.kernel.accessAllowed ? 'block' : 'none';\n",
              "\n",
              "        async function convertToInteractive(key) {\n",
              "          const element = document.querySelector('#df-80baee7d-ca97-42ce-aaf7-4ac8f9c87483');\n",
              "          const dataTable =\n",
              "            await google.colab.kernel.invokeFunction('convertToInteractive',\n",
              "                                                     [key], {});\n",
              "          if (!dataTable) return;\n",
              "\n",
              "          const docLinkHtml = 'Like what you see? Visit the ' +\n",
              "            '<a target=\"_blank\" href=https://colab.research.google.com/notebooks/data_table.ipynb>data table notebook</a>'\n",
              "            + ' to learn more about interactive tables.';\n",
              "          element.innerHTML = '';\n",
              "          dataTable['output_type'] = 'display_data';\n",
              "          await google.colab.output.renderOutput(dataTable, element);\n",
              "          const docLink = document.createElement('div');\n",
              "          docLink.innerHTML = docLinkHtml;\n",
              "          element.appendChild(docLink);\n",
              "        }\n",
              "      </script>\n",
              "    </div>\n",
              "  </div>\n",
              "  "
            ]
          },
          "metadata": {},
          "execution_count": 47
        }
      ]
    },
    {
      "cell_type": "code",
      "source": [
        "sns.countplot(x=\"Sentiments\",data=df_train).set(title='Numeric labels for Train')"
      ],
      "metadata": {
        "id": "LfdWTHJoVq6E",
        "execution": {
          "iopub.status.busy": "2022-06-02T19:01:38.352083Z",
          "iopub.execute_input": "2022-06-02T19:01:38.352660Z",
          "iopub.status.idle": "2022-06-02T19:01:38.508569Z",
          "shell.execute_reply.started": "2022-06-02T19:01:38.352622Z",
          "shell.execute_reply": "2022-06-02T19:01:38.507661Z"
        },
        "trusted": true,
        "colab": {
          "base_uri": "https://localhost:8080/",
          "height": 313
        },
        "outputId": "dfc938a0-65a6-4d79-a910-4033e044d26c"
      },
      "execution_count": null,
      "outputs": [
        {
          "output_type": "execute_result",
          "data": {
            "text/plain": [
              "[Text(0.5, 1.0, 'Numeric labels for Train')]"
            ]
          },
          "metadata": {},
          "execution_count": 48
        },
        {
          "output_type": "display_data",
          "data": {
            "text/plain": [
              "<Figure size 432x288 with 1 Axes>"
            ],
            "image/png": "[encoded data removed]"
          },
          "metadata": {
            "needs_background": "light"
          }
        }
      ]
    },
    {
      "cell_type": "code",
      "source": [
        "sns.countplot(x=\"Sentiments\",data=df_test).set(title='Numeric labels for Test')"
      ],
      "metadata": {
        "id": "PhF_xzRPVq6N",
        "execution": {
          "iopub.status.busy": "2022-06-02T19:01:38.513260Z",
          "iopub.execute_input": "2022-06-02T19:01:38.515784Z",
          "iopub.status.idle": "2022-06-02T19:01:38.673519Z",
          "shell.execute_reply.started": "2022-06-02T19:01:38.515736Z",
          "shell.execute_reply": "2022-06-02T19:01:38.672616Z"
        },
        "trusted": true,
        "colab": {
          "base_uri": "https://localhost:8080/",
          "height": 313
        },
        "outputId": "3c96a893-c889-4267-d741-a0739d0f0a18"
      },
      "execution_count": null,
      "outputs": [
        {
          "output_type": "execute_result",
          "data": {
            "text/plain": [
              "[Text(0.5, 1.0, 'Numeric labels for Test')]"
            ]
          },
          "metadata": {},
          "execution_count": 49
        },
        {
          "output_type": "display_data",
          "data": {
            "text/plain": [
              "<Figure size 432x288 with 1 Axes>"
            ],
            "image/png": "[encoded data removed]"
          },
          "metadata": {
            "needs_background": "light"
          }
        }
      ]
    },
    {
      "cell_type": "code",
      "source": [
        "# Convert sentiments to tensor for train\n",
        "labels_train = torch.LongTensor(sentiments_train)\n",
        "print(\"The size of the labels_train is: \", labels_train.size())"
      ],
      "metadata": {
        "id": "_hLlPTKKE-1n",
        "execution": {
          "iopub.status.busy": "2022-06-02T19:01:38.678966Z",
          "iopub.execute_input": "2022-06-02T19:01:38.681638Z",
          "iopub.status.idle": "2022-06-02T19:01:38.691312Z",
          "shell.execute_reply.started": "2022-06-02T19:01:38.681590Z",
          "shell.execute_reply": "2022-06-02T19:01:38.690346Z"
        },
        "trusted": true,
        "colab": {
          "base_uri": "https://localhost:8080/"
        },
        "outputId": "a57bdf5c-a990-4c93-cf44-f9f3a08a552a"
      },
      "execution_count": null,
      "outputs": [
        {
          "output_type": "stream",
          "name": "stdout",
          "text": [
            "The size of the labels_train is:  torch.Size([68047])\n"
          ]
        }
      ]
    },
    {
      "cell_type": "code",
      "source": [
        "# Convert sentiments to tensor for train\n",
        "test_labels = torch.LongTensor(sentiments_test)\n",
        "print(\"The size of the labels_test is: \", test_labels.size())"
      ],
      "metadata": {
        "id": "N1-jBul3aKZG",
        "execution": {
          "iopub.status.busy": "2022-06-02T19:01:38.693380Z",
          "iopub.execute_input": "2022-06-02T19:01:38.694191Z",
          "iopub.status.idle": "2022-06-02T19:01:38.701315Z",
          "shell.execute_reply.started": "2022-06-02T19:01:38.694040Z",
          "shell.execute_reply": "2022-06-02T19:01:38.700396Z"
        },
        "trusted": true,
        "colab": {
          "base_uri": "https://localhost:8080/"
        },
        "outputId": "b0aede19-485c-4d89-edca-7ddc17436923"
      },
      "execution_count": null,
      "outputs": [
        {
          "output_type": "stream",
          "name": "stdout",
          "text": [
            "The size of the labels_test is:  torch.Size([6949])\n"
          ]
        }
      ]
    },
    {
      "cell_type": "markdown",
      "source": [
        "Defining the Datasets"
      ],
      "metadata": {
        "id": "iCjZxsjlFFdQ"
      }
    },
    {
      "cell_type": "code",
      "source": [
        "num_train = len(tweets_train)\n",
        "num_test = len(tweets_test)\n",
        "print(f\"Num. training samples: {num_train}\")\n",
        "print(f\"Num. test samples:     {num_test}\")"
      ],
      "metadata": {
        "id": "EAp507dYAcV2",
        "execution": {
          "iopub.status.busy": "2022-06-02T19:01:38.744875Z",
          "iopub.execute_input": "2022-06-02T19:01:38.745598Z",
          "iopub.status.idle": "2022-06-02T19:01:38.750531Z",
          "shell.execute_reply.started": "2022-06-02T19:01:38.745564Z",
          "shell.execute_reply": "2022-06-02T19:01:38.749697Z"
        },
        "trusted": true,
        "colab": {
          "base_uri": "https://localhost:8080/"
        },
        "outputId": "60c0c086-fa02-4f9a-af94-59d96c7b2611"
      },
      "execution_count": null,
      "outputs": [
        {
          "output_type": "stream",
          "name": "stdout",
          "text": [
            "Num. training samples: 68047\n",
            "Num. test samples:     6949\n"
          ]
        }
      ]
    },
    {
      "cell_type": "code",
      "source": [
        "#Validation set\n",
        "val_frac= 0.1 "
      ],
      "metadata": {
        "id": "tzOWtP7MC4P1",
        "execution": {
          "iopub.status.busy": "2022-06-02T19:01:38.901982Z",
          "iopub.execute_input": "2022-06-02T19:01:38.902727Z",
          "iopub.status.idle": "2022-06-02T19:01:38.908494Z",
          "shell.execute_reply.started": "2022-06-02T19:01:38.902688Z",
          "shell.execute_reply": "2022-06-02T19:01:38.907536Z"
        },
        "trusted": true
      },
      "execution_count": null,
      "outputs": []
    },
    {
      "cell_type": "code",
      "source": [
        "# shuffle dataset\n",
        "num_data = train.size(0)\n",
        "shuffle_idx = torch.randperm(num_data)\n",
        "train = train[shuffle_idx,:]\n",
        "labels_train = labels_train[shuffle_idx]"
      ],
      "metadata": {
        "id": "VbL490BlbQgD",
        "execution": {
          "iopub.status.busy": "2022-06-02T19:01:39.056273Z",
          "iopub.execute_input": "2022-06-02T19:01:39.056813Z",
          "iopub.status.idle": "2022-06-02T19:01:39.075801Z",
          "shell.execute_reply.started": "2022-06-02T19:01:39.056782Z",
          "shell.execute_reply": "2022-06-02T19:01:39.075026Z"
        },
        "trusted": true
      },
      "execution_count": null,
      "outputs": []
    },
    {
      "cell_type": "code",
      "source": [
        "# split training, validation and test\n",
        "num_val = int(num_data*val_frac)\n",
        "num_train = num_data - num_val\n",
        "train_data = train[:num_train,:]\n",
        "train_labels = labels_train[:num_train]\n",
        "val_data = train[num_train:num_train+num_val,:]\n",
        "val_labels = labels_train[num_train:num_train+num_val]"
      ],
      "metadata": {
        "id": "66zAvHKWbT2s",
        "execution": {
          "iopub.status.busy": "2022-06-02T19:01:39.219342Z",
          "iopub.execute_input": "2022-06-02T19:01:39.219984Z",
          "iopub.status.idle": "2022-06-02T19:01:39.224769Z",
          "shell.execute_reply.started": "2022-06-02T19:01:39.219949Z",
          "shell.execute_reply": "2022-06-02T19:01:39.223952Z"
        },
        "trusted": true
      },
      "execution_count": null,
      "outputs": []
    },
    {
      "cell_type": "code",
      "source": [
        "print(train_data.size())\n",
        "print(val_data.size())\n",
        "print(test_data.size())"
      ],
      "metadata": {
        "id": "2ysxrH4_bV8R",
        "execution": {
          "iopub.status.busy": "2022-06-02T19:01:39.376854Z",
          "iopub.execute_input": "2022-06-02T19:01:39.377629Z",
          "iopub.status.idle": "2022-06-02T19:01:39.385063Z",
          "shell.execute_reply.started": "2022-06-02T19:01:39.377582Z",
          "shell.execute_reply": "2022-06-02T19:01:39.384060Z"
        },
        "trusted": true,
        "colab": {
          "base_uri": "https://localhost:8080/"
        },
        "outputId": "3bed6efa-7987-4f84-d50e-1ebb579ca828"
      },
      "execution_count": null,
      "outputs": [
        {
          "output_type": "stream",
          "name": "stdout",
          "text": [
            "torch.Size([61243, 15])\n",
            "torch.Size([6804, 15])\n",
            "torch.Size([6949, 15])\n"
          ]
        }
      ]
    },
    {
      "cell_type": "code",
      "source": [
        "train_data = torch.LongTensor(train_data)\n",
        "val_data = torch.LongTensor(val_data)\n",
        "test_data = torch.LongTensor(test_data)\n",
        "\n",
        "train_labels = torch.LongTensor(train_labels)\n",
        "val_labels = torch.LongTensor(val_labels)\n",
        "test_labels = torch.LongTensor(test_labels)"
      ],
      "metadata": {
        "id": "GGSz0sfzWOQz",
        "execution": {
          "iopub.status.busy": "2022-06-02T19:01:47.358176Z",
          "iopub.execute_input": "2022-06-02T19:01:47.358534Z",
          "iopub.status.idle": "2022-06-02T19:01:47.363724Z",
          "shell.execute_reply.started": "2022-06-02T19:01:47.358505Z",
          "shell.execute_reply": "2022-06-02T19:01:47.362816Z"
        },
        "trusted": true
      },
      "execution_count": null,
      "outputs": []
    },
    {
      "cell_type": "code",
      "source": [
        "print(train_data.size())\n",
        "print(val_data.size())\n",
        "print(test_data.size())"
      ],
      "metadata": {
        "id": "GNL00kPrF8j7",
        "execution": {
          "iopub.status.busy": "2022-06-02T19:01:47.604347Z",
          "iopub.execute_input": "2022-06-02T19:01:47.604899Z",
          "iopub.status.idle": "2022-06-02T19:01:47.609252Z",
          "shell.execute_reply.started": "2022-06-02T19:01:47.604868Z",
          "shell.execute_reply": "2022-06-02T19:01:47.608438Z"
        },
        "trusted": true,
        "colab": {
          "base_uri": "https://localhost:8080/"
        },
        "outputId": "50230fb4-0f8e-4bc0-d70d-dc525c8f41e9"
      },
      "execution_count": null,
      "outputs": [
        {
          "output_type": "stream",
          "name": "stdout",
          "text": [
            "torch.Size([61243, 15])\n",
            "torch.Size([6804, 15])\n",
            "torch.Size([6949, 15])\n"
          ]
        }
      ]
    },
    {
      "cell_type": "code",
      "source": [
        "print(train_labels.size())\n",
        "print(val_labels.size())\n",
        "print(test_labels.size())"
      ],
      "metadata": {
        "id": "BqJTnUvMnys7",
        "execution": {
          "iopub.status.busy": "2022-06-02T19:01:47.768428Z",
          "iopub.execute_input": "2022-06-02T19:01:47.768948Z",
          "iopub.status.idle": "2022-06-02T19:01:47.773765Z",
          "shell.execute_reply.started": "2022-06-02T19:01:47.768919Z",
          "shell.execute_reply": "2022-06-02T19:01:47.772758Z"
        },
        "trusted": true,
        "colab": {
          "base_uri": "https://localhost:8080/"
        },
        "outputId": "215adb74-6ec1-4b35-a977-10eaebfb8df5"
      },
      "execution_count": null,
      "outputs": [
        {
          "output_type": "stream",
          "name": "stdout",
          "text": [
            "torch.Size([61243])\n",
            "torch.Size([6804])\n",
            "torch.Size([6949])\n"
          ]
        }
      ]
    },
    {
      "cell_type": "code",
      "source": [
        "# create datasets\n",
        "train_dataset = TensorDataset(train_data, train_labels)\n",
        "val_dataset = TensorDataset(val_data, val_labels)\n",
        "test_dataset = TensorDataset(test_data, test_labels)"
      ],
      "metadata": {
        "id": "P4ULrvYkF8q4",
        "execution": {
          "iopub.status.busy": "2022-06-02T19:01:47.930793Z",
          "iopub.execute_input": "2022-06-02T19:01:47.931528Z",
          "iopub.status.idle": "2022-06-02T19:01:47.937324Z",
          "shell.execute_reply.started": "2022-06-02T19:01:47.931496Z",
          "shell.execute_reply": "2022-06-02T19:01:47.936303Z"
        },
        "trusted": true
      },
      "execution_count": null,
      "outputs": []
    },
    {
      "cell_type": "code",
      "source": [
        "#Define the batch size\n",
        "batch_size = 256"
      ],
      "metadata": {
        "id": "Fa9dkyIpVq6R",
        "execution": {
          "iopub.status.busy": "2022-06-02T19:01:48.086054Z",
          "iopub.execute_input": "2022-06-02T19:01:48.087745Z",
          "iopub.status.idle": "2022-06-02T19:01:48.091489Z",
          "shell.execute_reply.started": "2022-06-02T19:01:48.087719Z",
          "shell.execute_reply": "2022-06-02T19:01:48.090750Z"
        },
        "trusted": true
      },
      "execution_count": null,
      "outputs": []
    },
    {
      "cell_type": "code",
      "source": [
        "# print the first elem of train dataset and its label\n",
        "print(train_dataset[0])"
      ],
      "metadata": {
        "id": "YKGdVyJLGEvV",
        "execution": {
          "iopub.status.busy": "2022-06-02T19:01:48.253468Z",
          "iopub.execute_input": "2022-06-02T19:01:48.253880Z",
          "iopub.status.idle": "2022-06-02T19:01:48.261269Z",
          "shell.execute_reply.started": "2022-06-02T19:01:48.253853Z",
          "shell.execute_reply": "2022-06-02T19:01:48.260289Z"
        },
        "trusted": true,
        "colab": {
          "base_uri": "https://localhost:8080/"
        },
        "outputId": "6f2d7c59-3e45-48fc-a8eb-e0bbbcc53040"
      },
      "execution_count": null,
      "outputs": [
        {
          "output_type": "stream",
          "name": "stdout",
          "text": [
            "(tensor([41335, 41335, 12123, 13487,  5532, 14530, 39790, 33558,  6097, 30090,\n",
            "        13839, 27342, 17163,  6345, 14782]), tensor(1))\n"
          ]
        }
      ]
    },
    {
      "cell_type": "code",
      "source": [
        "# Create loaders\n",
        "loaders = {\"train\": DataLoader(train_dataset, batch_size=batch_size, shuffle=True,  drop_last=True),\n",
        "           \"val\":   DataLoader(val_dataset,   batch_size=batch_size, shuffle=False, drop_last=False),\n",
        "           \"test\":  DataLoader(test_dataset,  batch_size=batch_size, shuffle=False, drop_last=False)}"
      ],
      "metadata": {
        "id": "9XxEZg0VGE4A",
        "execution": {
          "iopub.status.busy": "2022-06-02T19:01:48.421018Z",
          "iopub.execute_input": "2022-06-02T19:01:48.421290Z",
          "iopub.status.idle": "2022-06-02T19:01:48.427046Z",
          "shell.execute_reply.started": "2022-06-02T19:01:48.421267Z",
          "shell.execute_reply": "2022-06-02T19:01:48.426039Z"
        },
        "trusted": true
      },
      "execution_count": null,
      "outputs": []
    },
    {
      "cell_type": "markdown",
      "source": [
        "## Defining our RNN"
      ],
      "metadata": {
        "id": "EDdOO0e5XeBq"
      }
    },
    {
      "cell_type": "code",
      "source": [
        "# Define model\n",
        "#class Model(nn.Module):\n",
        "#    \n",
        "#    def __init__(self, num_embed, embed_size, rnn_size):\n",
        "#        # params: \n",
        "#        # num_embed: the number of the input vocabulary\n",
        "#        # embed_size: the size of the feature embedding\n",
        "#       # rnn_size: the number of neurons in the recurrent layer\n",
        "#\n",
        "#        # Call parent constructor\n",
        "#        super().__init__()\n",
        "#        # Store values\n",
        "#        self.rnn_size = rnn_size\n",
        " #       # Define modules\n",
        "#        self.embedding = nn.Embedding(len(vocab_train)+1, embed_size)\n",
        "#        self.rnn = nn.RNNCell(embed_size, rnn_size) #RNNCell represents only a single time step\n",
        "#        self.output = nn.Linear(rnn_size, 3)\n",
        "#        self.softmax = nn.Softmax(dim=1)\n",
        "#        \n",
        "#    def forward(self, x):\n",
        "#        # Embed data\n",
        "#        x = self.embedding(x)\n",
        "#        # Initialize state\n",
        "#        h = torch.zeros(x.shape[0], self.rnn_size).to(x.device.type) # the state of the cell\n",
        "#        \n",
        "#        # Input is: B x T x F\n",
        "#       # Process each time step\n",
        "#        for t in range(x.shape[1]):\n",
        "#            # Input at time t\n",
        "#            x_t = x[:,t,:]\n",
        "#            # Forward RNN and get new state\n",
        "#            h = self.rnn(x_t, h)\n",
        "#        # Classify final state\n",
        "#        x = self.output(h)\n",
        "#        x = self.softmax(x)\n",
        "#        return x"
      ],
      "metadata": {
        "id": "TEOidScNXfOf",
        "execution": {
          "iopub.status.busy": "2022-06-02T19:01:48.621180Z",
          "iopub.execute_input": "2022-06-02T19:01:48.621549Z",
          "iopub.status.idle": "2022-06-02T19:01:48.626141Z",
          "shell.execute_reply.started": "2022-06-02T19:01:48.621522Z",
          "shell.execute_reply": "2022-06-02T19:01:48.625433Z"
        },
        "trusted": true
      },
      "execution_count": null,
      "outputs": []
    },
    {
      "cell_type": "code",
      "source": [
        "# Define model\n",
        "class Model(nn.Module):\n",
        "    \n",
        "    def __init__(self, num_embed, embed_size, rnn_size):\n",
        "        # params: \n",
        "        # num_embed: the number of the input vocabulary\n",
        "        # embed_size: the size of the feature embedding\n",
        "        # rnn_size: the number of neurons in the recurrent layer\n",
        "\n",
        "        # Call parent constructor\n",
        "        super().__init__()\n",
        "        # Store values\n",
        "        self.rnn_size = rnn_size\n",
        "        # Define modules\n",
        "        self.embedding = nn.Embedding(num_embed, embed_size)\n",
        "        self.LSTM = nn.LSTMCell(embed_size, rnn_size) #LSTMCell receaves only a single time step\n",
        "        \n",
        "        self.output = nn.Linear(rnn_size, 3)\n",
        "        self.softmax = nn.Softmax(dim=1)\n",
        "        \n",
        "    def forward(self, x):\n",
        "        # Embed data\n",
        "        x = self.embedding(x)\n",
        "        # Initialize state\n",
        "        c = torch.zeros(x.shape[0], self.rnn_size).to(x.device.type) # the state of the cell\n",
        "        h = torch.zeros(x.shape[0], self.rnn_size).to(x.device.type) # the output of the cell\n",
        "        \n",
        "        # Input is: B x T x F\n",
        "        # Process each time step\n",
        "        for t in range(x.shape[1]):\n",
        "            # Input at time t\n",
        "            x_t = x[:,t,:]\n",
        "            # Forward RNN and get new state\n",
        "            h,c = self.LSTM(x_t, (h, c))  # the LSTMCell wants the input(x_t) and the previous state (h and c)\n",
        "        \n",
        "        # at the end of the loop, h is the final output of the LSTMCell after processing all the sequence\n",
        "\n",
        "        # Classify final state        \n",
        "        out= self.output(h)\n",
        "        x = self.softmax(out)\n",
        "        return x"
      ],
      "metadata": {
        "id": "o_Z7XW95Vq6T",
        "execution": {
          "iopub.status.busy": "2022-06-02T19:01:51.053913Z",
          "iopub.execute_input": "2022-06-02T19:01:51.054699Z",
          "iopub.status.idle": "2022-06-02T19:01:51.064248Z",
          "shell.execute_reply.started": "2022-06-02T19:01:51.054651Z",
          "shell.execute_reply": "2022-06-02T19:01:51.063529Z"
        },
        "trusted": true
      },
      "execution_count": null,
      "outputs": []
    },
    {
      "cell_type": "code",
      "source": [
        "# Setup device\n",
        "dev = torch.device(\"cuda\" if torch.cuda.is_available() else \"cpu\")\n",
        "#dev = \"cpu\""
      ],
      "metadata": {
        "id": "JCuvh01rXfez",
        "execution": {
          "iopub.status.busy": "2022-06-02T19:01:51.306620Z",
          "iopub.execute_input": "2022-06-02T19:01:51.307119Z",
          "iopub.status.idle": "2022-06-02T19:01:51.353126Z",
          "shell.execute_reply.started": "2022-06-02T19:01:51.307090Z",
          "shell.execute_reply": "2022-06-02T19:01:51.351984Z"
        },
        "trusted": true
      },
      "execution_count": null,
      "outputs": []
    },
    {
      "cell_type": "code",
      "source": [
        "# Model parameters\n",
        "embed_size = 1024\n",
        "rnn_size = 512"
      ],
      "metadata": {
        "id": "G7R1ipOmXfiu",
        "execution": {
          "iopub.status.busy": "2022-06-02T19:01:51.465829Z",
          "iopub.execute_input": "2022-06-02T19:01:51.466211Z",
          "iopub.status.idle": "2022-06-02T19:01:51.469834Z",
          "shell.execute_reply.started": "2022-06-02T19:01:51.466182Z",
          "shell.execute_reply": "2022-06-02T19:01:51.469065Z"
        },
        "trusted": true
      },
      "execution_count": null,
      "outputs": []
    },
    {
      "cell_type": "code",
      "source": [
        "# Create model\n",
        "model = Model((len(vocab)+1), embed_size, rnn_size).to(dev)"
      ],
      "metadata": {
        "id": "ydzKLnCJXflr",
        "execution": {
          "iopub.status.busy": "2022-06-02T19:01:51.628523Z",
          "iopub.execute_input": "2022-06-02T19:01:51.629026Z",
          "iopub.status.idle": "2022-06-02T19:01:54.514924Z",
          "shell.execute_reply.started": "2022-06-02T19:01:51.628998Z",
          "shell.execute_reply": "2022-06-02T19:01:54.514059Z"
        },
        "trusted": true
      },
      "execution_count": null,
      "outputs": []
    },
    {
      "cell_type": "code",
      "source": [
        "# Test model output\n",
        "model.eval()\n",
        "test_input = train_dataset[0][0].unsqueeze(0).to(dev)\n",
        "print(\"Test input size: \", test_input.size())\n",
        "print(\"Model output size:\", model(test_input).size())"
      ],
      "metadata": {
        "id": "Pk1Z8lAOXfrF",
        "execution": {
          "iopub.status.busy": "2022-06-02T19:01:54.516713Z",
          "iopub.execute_input": "2022-06-02T19:01:54.517068Z",
          "iopub.status.idle": "2022-06-02T19:01:55.345168Z",
          "shell.execute_reply.started": "2022-06-02T19:01:54.517033Z",
          "shell.execute_reply": "2022-06-02T19:01:55.344249Z"
        },
        "trusted": true,
        "colab": {
          "base_uri": "https://localhost:8080/"
        },
        "outputId": "5737b254-1438-4109-9041-0dd55e6a78b3"
      },
      "execution_count": null,
      "outputs": [
        {
          "output_type": "stream",
          "name": "stdout",
          "text": [
            "Test input size:  torch.Size([1, 15])\n",
            "Model output size: torch.Size([1, 3])\n"
          ]
        }
      ]
    },
    {
      "cell_type": "code",
      "source": [
        "# Create optimizer\n",
        "optimizer = torch.optim.Adam(model.parameters(), lr=0.001, weight_decay=5e-4)\n",
        "\n",
        "# Define a loss \n",
        "criterion = nn.CrossEntropyLoss()"
      ],
      "metadata": {
        "id": "JYEPK0OyXft6",
        "execution": {
          "iopub.status.busy": "2022-06-02T19:01:55.348989Z",
          "iopub.execute_input": "2022-06-02T19:01:55.351545Z",
          "iopub.status.idle": "2022-06-02T19:01:55.358686Z",
          "shell.execute_reply.started": "2022-06-02T19:01:55.351508Z",
          "shell.execute_reply": "2022-06-02T19:01:55.357797Z"
        },
        "trusted": true
      },
      "execution_count": null,
      "outputs": []
    },
    {
      "cell_type": "code",
      "source": [
        "# Start training\n",
        "from tqdm import tqdm\n",
        "for epoch in range(100):\n",
        "    # Initialize accumulators for computing average loss/accuracy\n",
        "    epoch_loss_sum = {'train': 0, 'val': 0, 'test': 0}\n",
        "    epoch_loss_cnt = {'train': 0, 'val': 0, 'test': 0}\n",
        "    epoch_accuracy_sum = {'train': 0, 'val': 0, 'test': 0}\n",
        "    epoch_accuracy_cnt = {'train': 0, 'val': 0, 'test': 0}\n",
        "    # Process each split\n",
        "    for split in [\"train\", \"val\", \"test\"]:\n",
        "        # Set network mode\n",
        "        if split == \"train\":\n",
        "            model.train()\n",
        "            torch.set_grad_enabled(True)\n",
        "        else:\n",
        "            model.eval()\n",
        "            torch.set_grad_enabled(False)\n",
        "        # Process all data in split\n",
        "        for input, target in tqdm(loaders[split]):\n",
        "            # Move to device\n",
        "            input = input.to(dev)\n",
        "            target = target.to(dev)\n",
        "            # Reset gradients\n",
        "            optimizer.zero_grad()\n",
        "            # Forward\n",
        "            output = model(input)\n",
        "            loss = criterion(output, target)\n",
        "            # Update loss sum\n",
        "            epoch_loss_sum[split] += loss.item()\n",
        "            epoch_loss_cnt[split] += 1\n",
        "            # Compute accuracy\n",
        "            _,pred = output.max(1)\n",
        "            correct = pred.eq(target).sum().item()\n",
        "            accuracy = correct/input.size(0)\n",
        "            # Update accuracy sum\n",
        "            epoch_accuracy_sum[split] += accuracy\n",
        "            epoch_accuracy_cnt[split] += 1\n",
        "            # Backward and optimize\n",
        "            if split == \"train\":\n",
        "                loss.backward()\n",
        "                optimizer.step()\n",
        "    # Compute average epoch loss/accuracy\n",
        "    avg_train_loss = epoch_loss_sum[\"train\"]/epoch_loss_cnt[\"train\"]\n",
        "    avg_train_accuracy = epoch_accuracy_sum[\"train\"]/epoch_accuracy_cnt[\"train\"]\n",
        "    avg_val_loss = epoch_loss_sum[\"val\"]/epoch_loss_cnt[\"val\"]\n",
        "    avg_val_accuracy = epoch_accuracy_sum[\"val\"]/epoch_accuracy_cnt[\"val\"]\n",
        "    avg_test_loss = epoch_loss_sum[\"test\"]/epoch_loss_cnt[\"test\"]\n",
        "    avg_test_accuracy = epoch_accuracy_sum[\"test\"]/epoch_accuracy_cnt[\"test\"]\n",
        "    print(f\"Epoch: {epoch+1}, TrL={avg_train_loss:.4f}, TrA={avg_train_accuracy:.4f},\",\n",
        "                            f\"VL={avg_val_loss:.4f}, VA={avg_val_accuracy:.4f}, \",\n",
        "                            f\"TeL={avg_test_loss:.4f}, TeA={avg_test_accuracy:.4f}\")"
      ],
      "metadata": {
        "id": "AdXRZShVbR9M",
        "execution": {
          "iopub.status.busy": "2022-06-02T19:01:55.364554Z",
          "iopub.execute_input": "2022-06-02T19:01:55.365476Z",
          "iopub.status.idle": "2022-06-02T19:31:10.103577Z",
          "shell.execute_reply.started": "2022-06-02T19:01:55.365428Z",
          "shell.execute_reply": "2022-06-02T19:31:10.102595Z"
        },
        "trusted": true,
        "colab": {
          "base_uri": "https://localhost:8080/"
        },
        "outputId": "d44187a2-a949-4670-933b-b7f78547bac2"
      },
      "execution_count": null,
      "outputs": [
        {
          "output_type": "stream",
          "name": "stderr",
          "text": [
            "100%|██████████| 239/239 [00:12<00:00, 18.64it/s]\n",
            "100%|██████████| 27/27 [00:00<00:00, 107.51it/s]\n",
            "100%|██████████| 28/28 [00:00<00:00, 109.54it/s]\n"
          ]
        },
        {
          "output_type": "stream",
          "name": "stdout",
          "text": [
            "Epoch: 1, TrL=0.9517, TrA=0.5821, VL=0.9210, VA=0.6161,  TeL=0.9098, TeA=0.6310\n"
          ]
        },
        {
          "output_type": "stream",
          "name": "stderr",
          "text": [
            "100%|██████████| 239/239 [00:11<00:00, 21.05it/s]\n",
            "100%|██████████| 27/27 [00:00<00:00, 104.61it/s]\n",
            "100%|██████████| 28/28 [00:00<00:00, 107.62it/s]\n"
          ]
        },
        {
          "output_type": "stream",
          "name": "stdout",
          "text": [
            "Epoch: 2, TrL=0.8756, TrA=0.6668, VL=0.8771, VA=0.6668,  TeL=0.8728, TeA=0.6713\n"
          ]
        },
        {
          "output_type": "stream",
          "name": "stderr",
          "text": [
            "100%|██████████| 239/239 [00:11<00:00, 20.74it/s]\n",
            "100%|██████████| 27/27 [00:00<00:00, 102.65it/s]\n",
            "100%|██████████| 28/28 [00:00<00:00, 104.52it/s]\n"
          ]
        },
        {
          "output_type": "stream",
          "name": "stdout",
          "text": [
            "Epoch: 3, TrL=0.8384, TrA=0.7075, VL=0.8658, VA=0.6735,  TeL=0.8578, TeA=0.6873\n"
          ]
        },
        {
          "output_type": "stream",
          "name": "stderr",
          "text": [
            "100%|██████████| 239/239 [00:11<00:00, 20.80it/s]\n",
            "100%|██████████| 27/27 [00:00<00:00, 103.72it/s]\n",
            "100%|██████████| 28/28 [00:00<00:00, 105.85it/s]\n"
          ]
        },
        {
          "output_type": "stream",
          "name": "stdout",
          "text": [
            "Epoch: 4, TrL=0.8113, TrA=0.7365, VL=0.8430, VA=0.7059,  TeL=0.8338, TeA=0.7134\n"
          ]
        },
        {
          "output_type": "stream",
          "name": "stderr",
          "text": [
            "100%|██████████| 239/239 [00:11<00:00, 20.66it/s]\n",
            "100%|██████████| 27/27 [00:00<00:00, 98.72it/s]\n",
            "100%|██████████| 28/28 [00:00<00:00, 102.21it/s]\n"
          ]
        },
        {
          "output_type": "stream",
          "name": "stdout",
          "text": [
            "Epoch: 5, TrL=0.7906, TrA=0.7599, VL=0.8305, VA=0.7159,  TeL=0.8270, TeA=0.7199\n"
          ]
        },
        {
          "output_type": "stream",
          "name": "stderr",
          "text": [
            "100%|██████████| 239/239 [00:11<00:00, 20.52it/s]\n",
            "100%|██████████| 27/27 [00:00<00:00, 99.43it/s]\n",
            "100%|██████████| 28/28 [00:00<00:00, 103.85it/s]\n"
          ]
        },
        {
          "output_type": "stream",
          "name": "stdout",
          "text": [
            "Epoch: 6, TrL=0.7792, TrA=0.7723, VL=0.8258, VA=0.7197,  TeL=0.8167, TeA=0.7315\n"
          ]
        },
        {
          "output_type": "stream",
          "name": "stderr",
          "text": [
            "100%|██████████| 239/239 [00:12<00:00, 19.27it/s]\n",
            "100%|██████████| 27/27 [00:00<00:00, 53.92it/s]\n",
            "100%|██████████| 28/28 [00:00<00:00, 75.34it/s]\n"
          ]
        },
        {
          "output_type": "stream",
          "name": "stdout",
          "text": [
            "Epoch: 7, TrL=0.7718, TrA=0.7804, VL=0.8199, VA=0.7276,  TeL=0.8115, TeA=0.7349\n"
          ]
        },
        {
          "output_type": "stream",
          "name": "stderr",
          "text": [
            "100%|██████████| 239/239 [00:12<00:00, 19.89it/s]\n",
            "100%|██████████| 27/27 [00:00<00:00, 96.66it/s]\n",
            "100%|██████████| 28/28 [00:00<00:00, 102.06it/s]\n"
          ]
        },
        {
          "output_type": "stream",
          "name": "stdout",
          "text": [
            "Epoch: 8, TrL=0.7687, TrA=0.7835, VL=0.8164, VA=0.7294,  TeL=0.8074, TeA=0.7403\n"
          ]
        },
        {
          "output_type": "stream",
          "name": "stderr",
          "text": [
            "100%|██████████| 239/239 [00:12<00:00, 19.75it/s]\n",
            "100%|██████████| 27/27 [00:00<00:00, 97.32it/s]\n",
            "100%|██████████| 28/28 [00:00<00:00, 100.54it/s]\n"
          ]
        },
        {
          "output_type": "stream",
          "name": "stdout",
          "text": [
            "Epoch: 9, TrL=0.7683, TrA=0.7839, VL=0.8172, VA=0.7317,  TeL=0.8044, TeA=0.7437\n"
          ]
        },
        {
          "output_type": "stream",
          "name": "stderr",
          "text": [
            "100%|██████████| 239/239 [00:12<00:00, 19.91it/s]\n",
            "100%|██████████| 27/27 [00:00<00:00, 98.09it/s]\n",
            "100%|██████████| 28/28 [00:00<00:00, 99.24it/s]\n"
          ]
        },
        {
          "output_type": "stream",
          "name": "stdout",
          "text": [
            "Epoch: 10, TrL=0.7643, TrA=0.7878, VL=0.8082, VA=0.7383,  TeL=0.7995, TeA=0.7506\n"
          ]
        },
        {
          "output_type": "stream",
          "name": "stderr",
          "text": [
            "100%|██████████| 239/239 [00:11<00:00, 20.01it/s]\n",
            "100%|██████████| 27/27 [00:00<00:00, 100.69it/s]\n",
            "100%|██████████| 28/28 [00:00<00:00, 102.50it/s]\n"
          ]
        },
        {
          "output_type": "stream",
          "name": "stdout",
          "text": [
            "Epoch: 11, TrL=0.7653, TrA=0.7868, VL=0.8011, VA=0.7479,  TeL=0.7965, TeA=0.7509\n"
          ]
        },
        {
          "output_type": "stream",
          "name": "stderr",
          "text": [
            "100%|██████████| 239/239 [00:12<00:00, 19.87it/s]\n",
            "100%|██████████| 27/27 [00:00<00:00, 96.64it/s]\n",
            "100%|██████████| 28/28 [00:00<00:00, 100.10it/s]\n"
          ]
        },
        {
          "output_type": "stream",
          "name": "stdout",
          "text": [
            "Epoch: 12, TrL=0.7649, TrA=0.7867, VL=0.8086, VA=0.7358,  TeL=0.8020, TeA=0.7463\n"
          ]
        },
        {
          "output_type": "stream",
          "name": "stderr",
          "text": [
            "100%|██████████| 239/239 [00:11<00:00, 20.00it/s]\n",
            "100%|██████████| 27/27 [00:00<00:00, 99.87it/s] \n",
            "100%|██████████| 28/28 [00:00<00:00, 103.44it/s]\n"
          ]
        },
        {
          "output_type": "stream",
          "name": "stdout",
          "text": [
            "Epoch: 13, TrL=0.7635, TrA=0.7890, VL=0.7978, VA=0.7493,  TeL=0.7960, TeA=0.7515\n"
          ]
        },
        {
          "output_type": "stream",
          "name": "stderr",
          "text": [
            "100%|██████████| 239/239 [00:11<00:00, 19.97it/s]\n",
            "100%|██████████| 27/27 [00:00<00:00, 99.69it/s]\n",
            "100%|██████████| 28/28 [00:00<00:00, 100.84it/s]\n"
          ]
        },
        {
          "output_type": "stream",
          "name": "stdout",
          "text": [
            "Epoch: 14, TrL=0.7654, TrA=0.7862, VL=0.7943, VA=0.7526,  TeL=0.7913, TeA=0.7565\n"
          ]
        },
        {
          "output_type": "stream",
          "name": "stderr",
          "text": [
            "100%|██████████| 239/239 [00:12<00:00, 19.91it/s]\n",
            "100%|██████████| 27/27 [00:00<00:00, 99.47it/s]\n",
            "100%|██████████| 28/28 [00:00<00:00, 100.19it/s]\n"
          ]
        },
        {
          "output_type": "stream",
          "name": "stdout",
          "text": [
            "Epoch: 15, TrL=0.7630, TrA=0.7882, VL=0.7974, VA=0.7493,  TeL=0.7901, TeA=0.7604\n"
          ]
        },
        {
          "output_type": "stream",
          "name": "stderr",
          "text": [
            "100%|██████████| 239/239 [00:11<00:00, 20.23it/s]\n",
            "100%|██████████| 27/27 [00:00<00:00, 96.67it/s]\n",
            "100%|██████████| 28/28 [00:00<00:00, 103.28it/s]\n"
          ]
        },
        {
          "output_type": "stream",
          "name": "stdout",
          "text": [
            "Epoch: 16, TrL=0.7593, TrA=0.7919, VL=0.7848, VA=0.7658,  TeL=0.7830, TeA=0.7686\n"
          ]
        },
        {
          "output_type": "stream",
          "name": "stderr",
          "text": [
            "100%|██████████| 239/239 [00:11<00:00, 20.04it/s]\n",
            "100%|██████████| 27/27 [00:00<00:00, 92.99it/s]\n",
            "100%|██████████| 28/28 [00:00<00:00, 100.34it/s]\n"
          ]
        },
        {
          "output_type": "stream",
          "name": "stdout",
          "text": [
            "Epoch: 17, TrL=0.7561, TrA=0.7958, VL=0.8001, VA=0.7494,  TeL=0.7914, TeA=0.7561\n"
          ]
        },
        {
          "output_type": "stream",
          "name": "stderr",
          "text": [
            "100%|██████████| 239/239 [00:11<00:00, 20.26it/s]\n",
            "100%|██████████| 27/27 [00:00<00:00, 96.85it/s]\n",
            "100%|██████████| 28/28 [00:00<00:00, 99.46it/s]\n"
          ]
        },
        {
          "output_type": "stream",
          "name": "stdout",
          "text": [
            "Epoch: 18, TrL=0.7551, TrA=0.7963, VL=0.7743, VA=0.7770,  TeL=0.7711, TeA=0.7781\n"
          ]
        },
        {
          "output_type": "stream",
          "name": "stderr",
          "text": [
            "100%|██████████| 239/239 [00:11<00:00, 20.26it/s]\n",
            "100%|██████████| 27/27 [00:00<00:00, 99.24it/s]\n",
            "100%|██████████| 28/28 [00:00<00:00, 100.55it/s]\n"
          ]
        },
        {
          "output_type": "stream",
          "name": "stdout",
          "text": [
            "Epoch: 19, TrL=0.7458, TrA=0.8057, VL=0.7714, VA=0.7793,  TeL=0.7670, TeA=0.7821\n"
          ]
        },
        {
          "output_type": "stream",
          "name": "stderr",
          "text": [
            "100%|██████████| 239/239 [00:11<00:00, 20.26it/s]\n",
            "100%|██████████| 27/27 [00:00<00:00, 96.29it/s]\n",
            "100%|██████████| 28/28 [00:00<00:00, 99.98it/s]\n"
          ]
        },
        {
          "output_type": "stream",
          "name": "stdout",
          "text": [
            "Epoch: 20, TrL=0.7423, TrA=0.8102, VL=0.7706, VA=0.7774,  TeL=0.7589, TeA=0.7924\n"
          ]
        },
        {
          "output_type": "stream",
          "name": "stderr",
          "text": [
            "100%|██████████| 239/239 [00:11<00:00, 20.25it/s]\n",
            "100%|██████████| 27/27 [00:00<00:00, 96.73it/s]\n",
            "100%|██████████| 28/28 [00:00<00:00, 100.01it/s]\n"
          ]
        },
        {
          "output_type": "stream",
          "name": "stdout",
          "text": [
            "Epoch: 21, TrL=0.7352, TrA=0.8173, VL=0.7700, VA=0.7784,  TeL=0.7591, TeA=0.7923\n"
          ]
        },
        {
          "output_type": "stream",
          "name": "stderr",
          "text": [
            "100%|██████████| 239/239 [00:11<00:00, 20.05it/s]\n",
            "100%|██████████| 27/27 [00:00<00:00, 96.13it/s]\n",
            "100%|██████████| 28/28 [00:00<00:00, 100.16it/s]\n"
          ]
        },
        {
          "output_type": "stream",
          "name": "stdout",
          "text": [
            "Epoch: 22, TrL=0.7241, TrA=0.8280, VL=0.7625, VA=0.7867,  TeL=0.7577, TeA=0.7922\n"
          ]
        },
        {
          "output_type": "stream",
          "name": "stderr",
          "text": [
            "100%|██████████| 239/239 [00:11<00:00, 20.22it/s]\n",
            "100%|██████████| 27/27 [00:00<00:00, 99.49it/s]\n",
            "100%|██████████| 28/28 [00:00<00:00, 99.74it/s]\n"
          ]
        },
        {
          "output_type": "stream",
          "name": "stdout",
          "text": [
            "Epoch: 23, TrL=0.7139, TrA=0.8392, VL=0.7546, VA=0.7971,  TeL=0.7469, TeA=0.8054\n"
          ]
        },
        {
          "output_type": "stream",
          "name": "stderr",
          "text": [
            "100%|██████████| 239/239 [00:11<00:00, 20.22it/s]\n",
            "100%|██████████| 27/27 [00:00<00:00, 99.01it/s]\n",
            "100%|██████████| 28/28 [00:00<00:00, 99.60it/s]\n"
          ]
        },
        {
          "output_type": "stream",
          "name": "stdout",
          "text": [
            "Epoch: 24, TrL=0.7079, TrA=0.8459, VL=0.7654, VA=0.7805,  TeL=0.7569, TeA=0.7905\n"
          ]
        },
        {
          "output_type": "stream",
          "name": "stderr",
          "text": [
            "100%|██████████| 239/239 [00:11<00:00, 20.22it/s]\n",
            "100%|██████████| 27/27 [00:00<00:00, 97.25it/s]\n",
            "100%|██████████| 28/28 [00:00<00:00, 101.87it/s]\n"
          ]
        },
        {
          "output_type": "stream",
          "name": "stdout",
          "text": [
            "Epoch: 25, TrL=0.6984, TrA=0.8562, VL=0.7393, VA=0.8120,  TeL=0.7347, TeA=0.8172\n"
          ]
        },
        {
          "output_type": "stream",
          "name": "stderr",
          "text": [
            "100%|██████████| 239/239 [00:11<00:00, 20.04it/s]\n",
            "100%|██████████| 27/27 [00:00<00:00, 98.76it/s]\n",
            "100%|██████████| 28/28 [00:00<00:00, 100.24it/s]\n"
          ]
        },
        {
          "output_type": "stream",
          "name": "stdout",
          "text": [
            "Epoch: 26, TrL=0.6924, TrA=0.8619, VL=0.7448, VA=0.8065,  TeL=0.7341, TeA=0.8178\n"
          ]
        },
        {
          "output_type": "stream",
          "name": "stderr",
          "text": [
            "100%|██████████| 239/239 [00:11<00:00, 20.25it/s]\n",
            "100%|██████████| 27/27 [00:00<00:00, 97.98it/s]\n",
            "100%|██████████| 28/28 [00:00<00:00, 100.76it/s]\n"
          ]
        },
        {
          "output_type": "stream",
          "name": "stdout",
          "text": [
            "Epoch: 27, TrL=0.6872, TrA=0.8681, VL=0.7501, VA=0.8018,  TeL=0.7423, TeA=0.8112\n"
          ]
        },
        {
          "output_type": "stream",
          "name": "stderr",
          "text": [
            "100%|██████████| 239/239 [00:11<00:00, 20.24it/s]\n",
            "100%|██████████| 27/27 [00:00<00:00, 99.25it/s]\n",
            "100%|██████████| 28/28 [00:00<00:00, 100.49it/s]\n"
          ]
        },
        {
          "output_type": "stream",
          "name": "stdout",
          "text": [
            "Epoch: 28, TrL=0.6812, TrA=0.8737, VL=0.7421, VA=0.8090,  TeL=0.7345, TeA=0.8148\n"
          ]
        },
        {
          "output_type": "stream",
          "name": "stderr",
          "text": [
            "100%|██████████| 239/239 [00:11<00:00, 20.25it/s]\n",
            "100%|██████████| 27/27 [00:00<00:00, 100.08it/s]\n",
            "100%|██████████| 28/28 [00:00<00:00, 103.05it/s]\n"
          ]
        },
        {
          "output_type": "stream",
          "name": "stdout",
          "text": [
            "Epoch: 29, TrL=0.6772, TrA=0.8785, VL=0.7424, VA=0.8067,  TeL=0.7381, TeA=0.8102\n"
          ]
        },
        {
          "output_type": "stream",
          "name": "stderr",
          "text": [
            "100%|██████████| 239/239 [00:11<00:00, 20.25it/s]\n",
            "100%|██████████| 27/27 [00:00<00:00, 100.14it/s]\n",
            "100%|██████████| 28/28 [00:00<00:00, 100.66it/s]\n"
          ]
        },
        {
          "output_type": "stream",
          "name": "stdout",
          "text": [
            "Epoch: 30, TrL=0.6734, TrA=0.8817, VL=0.7347, VA=0.8127,  TeL=0.7320, TeA=0.8180\n"
          ]
        },
        {
          "output_type": "stream",
          "name": "stderr",
          "text": [
            "100%|██████████| 239/239 [00:11<00:00, 20.08it/s]\n",
            "100%|██████████| 27/27 [00:00<00:00, 99.21it/s]\n",
            "100%|██████████| 28/28 [00:00<00:00, 99.86it/s]\n"
          ]
        },
        {
          "output_type": "stream",
          "name": "stdout",
          "text": [
            "Epoch: 31, TrL=0.6688, TrA=0.8864, VL=0.7305, VA=0.8191,  TeL=0.7231, TeA=0.8279\n"
          ]
        },
        {
          "output_type": "stream",
          "name": "stderr",
          "text": [
            "100%|██████████| 239/239 [00:11<00:00, 20.28it/s]\n",
            "100%|██████████| 27/27 [00:00<00:00, 100.25it/s]\n",
            "100%|██████████| 28/28 [00:00<00:00, 100.46it/s]\n"
          ]
        },
        {
          "output_type": "stream",
          "name": "stdout",
          "text": [
            "Epoch: 32, TrL=0.6648, TrA=0.8905, VL=0.7272, VA=0.8214,  TeL=0.7182, TeA=0.8337\n"
          ]
        },
        {
          "output_type": "stream",
          "name": "stderr",
          "text": [
            "100%|██████████| 239/239 [00:11<00:00, 20.27it/s]\n",
            "100%|██████████| 27/27 [00:00<00:00, 98.97it/s]\n",
            "100%|██████████| 28/28 [00:00<00:00, 102.08it/s]\n"
          ]
        },
        {
          "output_type": "stream",
          "name": "stdout",
          "text": [
            "Epoch: 33, TrL=0.6628, TrA=0.8931, VL=0.7269, VA=0.8273,  TeL=0.7227, TeA=0.8268\n"
          ]
        },
        {
          "output_type": "stream",
          "name": "stderr",
          "text": [
            "100%|██████████| 239/239 [00:11<00:00, 20.29it/s]\n",
            "100%|██████████| 27/27 [00:00<00:00, 98.37it/s]\n",
            "100%|██████████| 28/28 [00:00<00:00, 102.99it/s]\n"
          ]
        },
        {
          "output_type": "stream",
          "name": "stdout",
          "text": [
            "Epoch: 34, TrL=0.6616, TrA=0.8948, VL=0.7260, VA=0.8250,  TeL=0.7232, TeA=0.8289\n"
          ]
        },
        {
          "output_type": "stream",
          "name": "stderr",
          "text": [
            "100%|██████████| 239/239 [00:11<00:00, 20.28it/s]\n",
            "100%|██████████| 27/27 [00:00<00:00, 96.63it/s]\n",
            "100%|██████████| 28/28 [00:00<00:00, 100.42it/s]\n"
          ]
        },
        {
          "output_type": "stream",
          "name": "stdout",
          "text": [
            "Epoch: 35, TrL=0.6578, TrA=0.8985, VL=0.7248, VA=0.8276,  TeL=0.7197, TeA=0.8294\n"
          ]
        },
        {
          "output_type": "stream",
          "name": "stderr",
          "text": [
            "100%|██████████| 239/239 [00:11<00:00, 20.12it/s]\n",
            "100%|██████████| 27/27 [00:00<00:00, 99.14it/s]\n",
            "100%|██████████| 28/28 [00:00<00:00, 100.15it/s]\n"
          ]
        },
        {
          "output_type": "stream",
          "name": "stdout",
          "text": [
            "Epoch: 36, TrL=0.6579, TrA=0.8987, VL=0.7283, VA=0.8233,  TeL=0.7202, TeA=0.8335\n"
          ]
        },
        {
          "output_type": "stream",
          "name": "stderr",
          "text": [
            "100%|██████████| 239/239 [00:11<00:00, 20.29it/s]\n",
            "100%|██████████| 27/27 [00:00<00:00, 100.06it/s]\n",
            "100%|██████████| 28/28 [00:00<00:00, 103.31it/s]\n"
          ]
        },
        {
          "output_type": "stream",
          "name": "stdout",
          "text": [
            "Epoch: 37, TrL=0.6548, TrA=0.9021, VL=0.7236, VA=0.8288,  TeL=0.7175, TeA=0.8342\n"
          ]
        },
        {
          "output_type": "stream",
          "name": "stderr",
          "text": [
            "100%|██████████| 239/239 [00:11<00:00, 20.29it/s]\n",
            "100%|██████████| 27/27 [00:00<00:00, 98.54it/s]\n",
            "100%|██████████| 28/28 [00:00<00:00, 100.87it/s]\n"
          ]
        },
        {
          "output_type": "stream",
          "name": "stdout",
          "text": [
            "Epoch: 38, TrL=0.6528, TrA=0.9040, VL=0.7217, VA=0.8312,  TeL=0.7128, TeA=0.8370\n"
          ]
        },
        {
          "output_type": "stream",
          "name": "stderr",
          "text": [
            "100%|██████████| 239/239 [00:11<00:00, 20.29it/s]\n",
            "100%|██████████| 27/27 [00:00<00:00, 97.65it/s]\n",
            "100%|██████████| 28/28 [00:00<00:00, 102.69it/s]\n"
          ]
        },
        {
          "output_type": "stream",
          "name": "stdout",
          "text": [
            "Epoch: 39, TrL=0.6494, TrA=0.9072, VL=0.7264, VA=0.8240,  TeL=0.7124, TeA=0.8407\n"
          ]
        },
        {
          "output_type": "stream",
          "name": "stderr",
          "text": [
            "100%|██████████| 239/239 [00:11<00:00, 20.30it/s]\n",
            "100%|██████████| 27/27 [00:00<00:00, 97.61it/s]\n",
            "100%|██████████| 28/28 [00:00<00:00, 99.01it/s]\n"
          ]
        },
        {
          "output_type": "stream",
          "name": "stdout",
          "text": [
            "Epoch: 40, TrL=0.6504, TrA=0.9055, VL=0.7180, VA=0.8339,  TeL=0.7104, TeA=0.8407\n"
          ]
        },
        {
          "output_type": "stream",
          "name": "stderr",
          "text": [
            "100%|██████████| 239/239 [00:11<00:00, 20.11it/s]\n",
            "100%|██████████| 27/27 [00:00<00:00, 99.18it/s]\n",
            "100%|██████████| 28/28 [00:00<00:00, 103.51it/s]\n"
          ]
        },
        {
          "output_type": "stream",
          "name": "stdout",
          "text": [
            "Epoch: 41, TrL=0.6484, TrA=0.9083, VL=0.7214, VA=0.8308,  TeL=0.7117, TeA=0.8400\n"
          ]
        },
        {
          "output_type": "stream",
          "name": "stderr",
          "text": [
            "100%|██████████| 239/239 [00:11<00:00, 20.28it/s]\n",
            "100%|██████████| 27/27 [00:00<00:00, 98.86it/s]\n",
            "100%|██████████| 28/28 [00:00<00:00, 98.98it/s]\n"
          ]
        },
        {
          "output_type": "stream",
          "name": "stdout",
          "text": [
            "Epoch: 42, TrL=0.6472, TrA=0.9093, VL=0.7226, VA=0.8266,  TeL=0.7160, TeA=0.8321\n"
          ]
        },
        {
          "output_type": "stream",
          "name": "stderr",
          "text": [
            "100%|██████████| 239/239 [00:11<00:00, 20.28it/s]\n",
            "100%|██████████| 27/27 [00:00<00:00, 99.77it/s]\n",
            "100%|██████████| 28/28 [00:00<00:00, 102.54it/s]\n"
          ]
        },
        {
          "output_type": "stream",
          "name": "stdout",
          "text": [
            "Epoch: 43, TrL=0.6450, TrA=0.9117, VL=0.7182, VA=0.8331,  TeL=0.7115, TeA=0.8402\n"
          ]
        },
        {
          "output_type": "stream",
          "name": "stderr",
          "text": [
            "100%|██████████| 239/239 [00:11<00:00, 20.28it/s]\n",
            "100%|██████████| 27/27 [00:00<00:00, 97.47it/s]\n",
            "100%|██████████| 28/28 [00:00<00:00, 100.01it/s]\n"
          ]
        },
        {
          "output_type": "stream",
          "name": "stdout",
          "text": [
            "Epoch: 44, TrL=0.6457, TrA=0.9106, VL=0.7189, VA=0.8313,  TeL=0.7159, TeA=0.8340\n"
          ]
        },
        {
          "output_type": "stream",
          "name": "stderr",
          "text": [
            "100%|██████████| 239/239 [00:11<00:00, 20.28it/s]\n",
            "100%|██████████| 27/27 [00:00<00:00, 68.97it/s]\n",
            "100%|██████████| 28/28 [00:00<00:00, 100.12it/s]\n"
          ]
        },
        {
          "output_type": "stream",
          "name": "stdout",
          "text": [
            "Epoch: 45, TrL=0.6449, TrA=0.9116, VL=0.7247, VA=0.8256,  TeL=0.7179, TeA=0.8340\n"
          ]
        },
        {
          "output_type": "stream",
          "name": "stderr",
          "text": [
            "100%|██████████| 239/239 [00:11<00:00, 20.27it/s]\n",
            "100%|██████████| 27/27 [00:00<00:00, 98.86it/s]\n",
            "100%|██████████| 28/28 [00:00<00:00, 103.50it/s]\n"
          ]
        },
        {
          "output_type": "stream",
          "name": "stdout",
          "text": [
            "Epoch: 46, TrL=0.6440, TrA=0.9122, VL=0.7194, VA=0.8303,  TeL=0.7106, TeA=0.8354\n"
          ]
        },
        {
          "output_type": "stream",
          "name": "stderr",
          "text": [
            "100%|██████████| 239/239 [00:11<00:00, 20.27it/s]\n",
            "100%|██████████| 27/27 [00:00<00:00, 99.65it/s]\n",
            "100%|██████████| 28/28 [00:00<00:00, 101.91it/s]\n"
          ]
        },
        {
          "output_type": "stream",
          "name": "stdout",
          "text": [
            "Epoch: 47, TrL=0.6427, TrA=0.9138, VL=0.7255, VA=0.8241,  TeL=0.7230, TeA=0.8268\n"
          ]
        },
        {
          "output_type": "stream",
          "name": "stderr",
          "text": [
            "100%|██████████| 239/239 [00:11<00:00, 20.25it/s]\n",
            "100%|██████████| 27/27 [00:00<00:00, 99.16it/s]\n",
            "100%|██████████| 28/28 [00:00<00:00, 101.65it/s]\n"
          ]
        },
        {
          "output_type": "stream",
          "name": "stdout",
          "text": [
            "Epoch: 48, TrL=0.6410, TrA=0.9159, VL=0.7150, VA=0.8343,  TeL=0.7099, TeA=0.8386\n"
          ]
        },
        {
          "output_type": "stream",
          "name": "stderr",
          "text": [
            "100%|██████████| 239/239 [00:11<00:00, 20.28it/s]\n",
            "100%|██████████| 27/27 [00:00<00:00, 97.54it/s]\n",
            "100%|██████████| 28/28 [00:00<00:00, 98.82it/s]\n"
          ]
        },
        {
          "output_type": "stream",
          "name": "stdout",
          "text": [
            "Epoch: 49, TrL=0.6407, TrA=0.9162, VL=0.7198, VA=0.8319,  TeL=0.7123, TeA=0.8399\n"
          ]
        },
        {
          "output_type": "stream",
          "name": "stderr",
          "text": [
            "100%|██████████| 239/239 [00:11<00:00, 20.07it/s]\n",
            "100%|██████████| 27/27 [00:00<00:00, 99.52it/s] \n",
            "100%|██████████| 28/28 [00:00<00:00, 102.73it/s]\n"
          ]
        },
        {
          "output_type": "stream",
          "name": "stdout",
          "text": [
            "Epoch: 50, TrL=0.6406, TrA=0.9162, VL=0.7203, VA=0.8259,  TeL=0.7102, TeA=0.8409\n"
          ]
        },
        {
          "output_type": "stream",
          "name": "stderr",
          "text": [
            "100%|██████████| 239/239 [00:11<00:00, 20.27it/s]\n",
            "100%|██████████| 27/27 [00:00<00:00, 98.09it/s]\n",
            "100%|██████████| 28/28 [00:00<00:00, 99.68it/s]\n"
          ]
        },
        {
          "output_type": "stream",
          "name": "stdout",
          "text": [
            "Epoch: 51, TrL=0.6405, TrA=0.9159, VL=0.7232, VA=0.8285,  TeL=0.7157, TeA=0.8376\n"
          ]
        },
        {
          "output_type": "stream",
          "name": "stderr",
          "text": [
            "100%|██████████| 239/239 [00:11<00:00, 20.28it/s]\n",
            "100%|██████████| 27/27 [00:00<00:00, 96.94it/s]\n",
            "100%|██████████| 28/28 [00:00<00:00, 100.50it/s]\n"
          ]
        },
        {
          "output_type": "stream",
          "name": "stdout",
          "text": [
            "Epoch: 52, TrL=0.6401, TrA=0.9170, VL=0.7279, VA=0.8203,  TeL=0.7165, TeA=0.8347\n"
          ]
        },
        {
          "output_type": "stream",
          "name": "stderr",
          "text": [
            "100%|██████████| 239/239 [00:11<00:00, 20.30it/s]\n",
            "100%|██████████| 27/27 [00:00<00:00, 99.15it/s]\n",
            "100%|██████████| 28/28 [00:00<00:00, 98.72it/s]\n"
          ]
        },
        {
          "output_type": "stream",
          "name": "stdout",
          "text": [
            "Epoch: 53, TrL=0.6383, TrA=0.9187, VL=0.7180, VA=0.8269,  TeL=0.7063, TeA=0.8445\n"
          ]
        },
        {
          "output_type": "stream",
          "name": "stderr",
          "text": [
            "100%|██████████| 239/239 [00:11<00:00, 20.27it/s]\n",
            "100%|██████████| 27/27 [00:00<00:00, 98.52it/s]\n",
            "100%|██████████| 28/28 [00:00<00:00, 102.00it/s]\n"
          ]
        },
        {
          "output_type": "stream",
          "name": "stdout",
          "text": [
            "Epoch: 54, TrL=0.6366, TrA=0.9200, VL=0.7222, VA=0.8283,  TeL=0.7115, TeA=0.8388\n"
          ]
        },
        {
          "output_type": "stream",
          "name": "stderr",
          "text": [
            "100%|██████████| 239/239 [00:11<00:00, 20.11it/s]\n",
            "100%|██████████| 27/27 [00:00<00:00, 98.53it/s]\n",
            "100%|██████████| 28/28 [00:00<00:00, 99.57it/s]\n"
          ]
        },
        {
          "output_type": "stream",
          "name": "stdout",
          "text": [
            "Epoch: 55, TrL=0.6397, TrA=0.9175, VL=0.7214, VA=0.8302,  TeL=0.7112, TeA=0.8400\n"
          ]
        },
        {
          "output_type": "stream",
          "name": "stderr",
          "text": [
            "100%|██████████| 239/239 [00:11<00:00, 20.29it/s]\n",
            "100%|██████████| 27/27 [00:00<00:00, 97.57it/s]\n",
            "100%|██████████| 28/28 [00:00<00:00, 100.10it/s]\n"
          ]
        },
        {
          "output_type": "stream",
          "name": "stdout",
          "text": [
            "Epoch: 56, TrL=0.6382, TrA=0.9186, VL=0.7116, VA=0.8399,  TeL=0.7065, TeA=0.8456\n"
          ]
        },
        {
          "output_type": "stream",
          "name": "stderr",
          "text": [
            "100%|██████████| 239/239 [00:11<00:00, 20.28it/s]\n",
            "100%|██████████| 27/27 [00:00<00:00, 97.64it/s]\n",
            "100%|██████████| 28/28 [00:00<00:00, 100.38it/s]\n"
          ]
        },
        {
          "output_type": "stream",
          "name": "stdout",
          "text": [
            "Epoch: 57, TrL=0.6354, TrA=0.9221, VL=0.7217, VA=0.8308,  TeL=0.7110, TeA=0.8392\n"
          ]
        },
        {
          "output_type": "stream",
          "name": "stderr",
          "text": [
            "100%|██████████| 239/239 [00:11<00:00, 20.27it/s]\n",
            "100%|██████████| 27/27 [00:00<00:00, 99.86it/s]\n",
            "100%|██████████| 28/28 [00:00<00:00, 102.97it/s]\n"
          ]
        },
        {
          "output_type": "stream",
          "name": "stdout",
          "text": [
            "Epoch: 58, TrL=0.6377, TrA=0.9186, VL=0.7188, VA=0.8320,  TeL=0.7080, TeA=0.8443\n"
          ]
        },
        {
          "output_type": "stream",
          "name": "stderr",
          "text": [
            "100%|██████████| 239/239 [00:11<00:00, 20.26it/s]\n",
            "100%|██████████| 27/27 [00:00<00:00, 98.93it/s]\n",
            "100%|██████████| 28/28 [00:00<00:00, 100.87it/s]\n"
          ]
        },
        {
          "output_type": "stream",
          "name": "stdout",
          "text": [
            "Epoch: 59, TrL=0.6377, TrA=0.9196, VL=0.7198, VA=0.8309,  TeL=0.7101, TeA=0.8411\n"
          ]
        },
        {
          "output_type": "stream",
          "name": "stderr",
          "text": [
            "100%|██████████| 239/239 [00:11<00:00, 20.07it/s]\n",
            "100%|██████████| 27/27 [00:00<00:00, 99.40it/s]\n",
            "100%|██████████| 28/28 [00:00<00:00, 100.21it/s]\n"
          ]
        },
        {
          "output_type": "stream",
          "name": "stdout",
          "text": [
            "Epoch: 60, TrL=0.6353, TrA=0.9217, VL=0.7184, VA=0.8315,  TeL=0.7104, TeA=0.8392\n"
          ]
        },
        {
          "output_type": "stream",
          "name": "stderr",
          "text": [
            "100%|██████████| 239/239 [00:11<00:00, 20.26it/s]\n",
            "100%|██████████| 27/27 [00:00<00:00, 99.30it/s]\n",
            "100%|██████████| 28/28 [00:00<00:00, 102.66it/s]\n"
          ]
        },
        {
          "output_type": "stream",
          "name": "stdout",
          "text": [
            "Epoch: 61, TrL=0.6329, TrA=0.9244, VL=0.7160, VA=0.8369,  TeL=0.7098, TeA=0.8410\n"
          ]
        },
        {
          "output_type": "stream",
          "name": "stderr",
          "text": [
            "100%|██████████| 239/239 [00:11<00:00, 20.26it/s]\n",
            "100%|██████████| 27/27 [00:00<00:00, 98.17it/s]\n",
            "100%|██████████| 28/28 [00:00<00:00, 100.67it/s]\n"
          ]
        },
        {
          "output_type": "stream",
          "name": "stdout",
          "text": [
            "Epoch: 62, TrL=0.6362, TrA=0.9205, VL=0.7121, VA=0.8397,  TeL=0.7058, TeA=0.8469\n"
          ]
        },
        {
          "output_type": "stream",
          "name": "stderr",
          "text": [
            "100%|██████████| 239/239 [00:11<00:00, 20.25it/s]\n",
            "100%|██████████| 27/27 [00:00<00:00, 98.18it/s]\n",
            "100%|██████████| 28/28 [00:00<00:00, 100.06it/s]\n"
          ]
        },
        {
          "output_type": "stream",
          "name": "stdout",
          "text": [
            "Epoch: 63, TrL=0.6377, TrA=0.9195, VL=0.7214, VA=0.8297,  TeL=0.7137, TeA=0.8378\n"
          ]
        },
        {
          "output_type": "stream",
          "name": "stderr",
          "text": [
            "100%|██████████| 239/239 [00:11<00:00, 20.25it/s]\n",
            "100%|██████████| 27/27 [00:00<00:00, 69.03it/s]\n",
            "100%|██████████| 28/28 [00:00<00:00, 102.70it/s]\n"
          ]
        },
        {
          "output_type": "stream",
          "name": "stdout",
          "text": [
            "Epoch: 64, TrL=0.6355, TrA=0.9217, VL=0.7214, VA=0.8285,  TeL=0.7121, TeA=0.8392\n"
          ]
        },
        {
          "output_type": "stream",
          "name": "stderr",
          "text": [
            "100%|██████████| 239/239 [00:11<00:00, 20.25it/s]\n",
            "100%|██████████| 27/27 [00:00<00:00, 99.61it/s]\n",
            "100%|██████████| 28/28 [00:00<00:00, 98.80it/s]\n"
          ]
        },
        {
          "output_type": "stream",
          "name": "stdout",
          "text": [
            "Epoch: 65, TrL=0.6341, TrA=0.9234, VL=0.7162, VA=0.8339,  TeL=0.7106, TeA=0.8409\n"
          ]
        },
        {
          "output_type": "stream",
          "name": "stderr",
          "text": [
            "100%|██████████| 239/239 [00:11<00:00, 20.27it/s]\n",
            "100%|██████████| 27/27 [00:00<00:00, 98.74it/s]\n",
            "100%|██████████| 28/28 [00:00<00:00, 100.35it/s]\n"
          ]
        },
        {
          "output_type": "stream",
          "name": "stdout",
          "text": [
            "Epoch: 66, TrL=0.6336, TrA=0.9236, VL=0.7191, VA=0.8342,  TeL=0.7110, TeA=0.8403\n"
          ]
        },
        {
          "output_type": "stream",
          "name": "stderr",
          "text": [
            "100%|██████████| 239/239 [00:11<00:00, 20.24it/s]\n",
            "100%|██████████| 27/27 [00:00<00:00, 99.35it/s]\n",
            "100%|██████████| 28/28 [00:00<00:00, 102.15it/s]\n"
          ]
        },
        {
          "output_type": "stream",
          "name": "stdout",
          "text": [
            "Epoch: 67, TrL=0.6336, TrA=0.9238, VL=0.7128, VA=0.8407,  TeL=0.7087, TeA=0.8421\n"
          ]
        },
        {
          "output_type": "stream",
          "name": "stderr",
          "text": [
            "100%|██████████| 239/239 [00:11<00:00, 20.25it/s]\n",
            "100%|██████████| 27/27 [00:00<00:00, 97.17it/s]\n",
            "100%|██████████| 28/28 [00:00<00:00, 100.56it/s]\n"
          ]
        },
        {
          "output_type": "stream",
          "name": "stdout",
          "text": [
            "Epoch: 68, TrL=0.6326, TrA=0.9245, VL=0.7191, VA=0.8317,  TeL=0.7122, TeA=0.8388\n"
          ]
        },
        {
          "output_type": "stream",
          "name": "stderr",
          "text": [
            "100%|██████████| 239/239 [00:11<00:00, 20.06it/s]\n",
            "100%|██████████| 27/27 [00:00<00:00, 98.05it/s]\n",
            "100%|██████████| 28/28 [00:00<00:00, 99.53it/s]\n"
          ]
        },
        {
          "output_type": "stream",
          "name": "stdout",
          "text": [
            "Epoch: 69, TrL=0.6337, TrA=0.9234, VL=0.7144, VA=0.8354,  TeL=0.7069, TeA=0.8442\n"
          ]
        },
        {
          "output_type": "stream",
          "name": "stderr",
          "text": [
            "100%|██████████| 239/239 [00:11<00:00, 20.26it/s]\n",
            "100%|██████████| 27/27 [00:00<00:00, 99.46it/s]\n",
            "100%|██████████| 28/28 [00:00<00:00, 101.16it/s]\n"
          ]
        },
        {
          "output_type": "stream",
          "name": "stdout",
          "text": [
            "Epoch: 70, TrL=0.6337, TrA=0.9236, VL=0.7147, VA=0.8370,  TeL=0.7118, TeA=0.8398\n"
          ]
        },
        {
          "output_type": "stream",
          "name": "stderr",
          "text": [
            "100%|██████████| 239/239 [00:11<00:00, 20.27it/s]\n",
            "100%|██████████| 27/27 [00:00<00:00, 99.66it/s]\n",
            "100%|██████████| 28/28 [00:00<00:00, 100.75it/s]\n"
          ]
        },
        {
          "output_type": "stream",
          "name": "stdout",
          "text": [
            "Epoch: 71, TrL=0.6348, TrA=0.9227, VL=0.7152, VA=0.8355,  TeL=0.7071, TeA=0.8438\n"
          ]
        },
        {
          "output_type": "stream",
          "name": "stderr",
          "text": [
            "100%|██████████| 239/239 [00:11<00:00, 20.28it/s]\n",
            "100%|██████████| 27/27 [00:00<00:00, 101.33it/s]\n",
            "100%|██████████| 28/28 [00:00<00:00, 100.16it/s]\n"
          ]
        },
        {
          "output_type": "stream",
          "name": "stdout",
          "text": [
            "Epoch: 72, TrL=0.6349, TrA=0.9217, VL=0.7158, VA=0.8342,  TeL=0.7127, TeA=0.8389\n"
          ]
        },
        {
          "output_type": "stream",
          "name": "stderr",
          "text": [
            "100%|██████████| 239/239 [00:11<00:00, 20.26it/s]\n",
            "100%|██████████| 27/27 [00:00<00:00, 99.55it/s]\n",
            "100%|██████████| 28/28 [00:00<00:00, 100.87it/s]\n"
          ]
        },
        {
          "output_type": "stream",
          "name": "stdout",
          "text": [
            "Epoch: 73, TrL=0.6325, TrA=0.9250, VL=0.7143, VA=0.8355,  TeL=0.7114, TeA=0.8402\n"
          ]
        },
        {
          "output_type": "stream",
          "name": "stderr",
          "text": [
            "100%|██████████| 239/239 [00:11<00:00, 20.07it/s]\n",
            "100%|██████████| 27/27 [00:00<00:00, 100.12it/s]\n",
            "100%|██████████| 28/28 [00:00<00:00, 99.93it/s]\n"
          ]
        },
        {
          "output_type": "stream",
          "name": "stdout",
          "text": [
            "Epoch: 74, TrL=0.6319, TrA=0.9255, VL=0.7201, VA=0.8302,  TeL=0.7178, TeA=0.8321\n"
          ]
        },
        {
          "output_type": "stream",
          "name": "stderr",
          "text": [
            "100%|██████████| 239/239 [00:11<00:00, 20.26it/s]\n",
            "100%|██████████| 27/27 [00:00<00:00, 98.68it/s]\n",
            "100%|██████████| 28/28 [00:00<00:00, 103.90it/s]\n"
          ]
        },
        {
          "output_type": "stream",
          "name": "stdout",
          "text": [
            "Epoch: 75, TrL=0.6331, TrA=0.9243, VL=0.7127, VA=0.8400,  TeL=0.7091, TeA=0.8416\n"
          ]
        },
        {
          "output_type": "stream",
          "name": "stderr",
          "text": [
            "100%|██████████| 239/239 [00:11<00:00, 20.28it/s]\n",
            "100%|██████████| 27/27 [00:00<00:00, 96.79it/s]\n",
            "100%|██████████| 28/28 [00:00<00:00, 101.19it/s]\n"
          ]
        },
        {
          "output_type": "stream",
          "name": "stdout",
          "text": [
            "Epoch: 76, TrL=0.6331, TrA=0.9241, VL=0.7186, VA=0.8312,  TeL=0.7133, TeA=0.8367\n"
          ]
        },
        {
          "output_type": "stream",
          "name": "stderr",
          "text": [
            "100%|██████████| 239/239 [00:11<00:00, 20.27it/s]\n",
            "100%|██████████| 27/27 [00:00<00:00, 98.22it/s]\n",
            "100%|██████████| 28/28 [00:00<00:00, 100.09it/s]\n"
          ]
        },
        {
          "output_type": "stream",
          "name": "stdout",
          "text": [
            "Epoch: 77, TrL=0.6312, TrA=0.9255, VL=0.7137, VA=0.8380,  TeL=0.7111, TeA=0.8400\n"
          ]
        },
        {
          "output_type": "stream",
          "name": "stderr",
          "text": [
            "100%|██████████| 239/239 [00:11<00:00, 20.27it/s]\n",
            "100%|██████████| 27/27 [00:00<00:00, 99.85it/s]\n",
            "100%|██████████| 28/28 [00:00<00:00, 100.32it/s]\n"
          ]
        },
        {
          "output_type": "stream",
          "name": "stdout",
          "text": [
            "Epoch: 78, TrL=0.6317, TrA=0.9259, VL=0.7123, VA=0.8357,  TeL=0.7117, TeA=0.8354\n"
          ]
        },
        {
          "output_type": "stream",
          "name": "stderr",
          "text": [
            "100%|██████████| 239/239 [00:11<00:00, 20.09it/s]\n",
            "100%|██████████| 27/27 [00:00<00:00, 100.27it/s]\n",
            "100%|██████████| 28/28 [00:00<00:00, 99.77it/s]\n"
          ]
        },
        {
          "output_type": "stream",
          "name": "stdout",
          "text": [
            "Epoch: 79, TrL=0.6317, TrA=0.9260, VL=0.7146, VA=0.8358,  TeL=0.7076, TeA=0.8450\n"
          ]
        },
        {
          "output_type": "stream",
          "name": "stderr",
          "text": [
            "100%|██████████| 239/239 [00:11<00:00, 20.27it/s]\n",
            "100%|██████████| 27/27 [00:00<00:00, 99.42it/s]\n",
            "100%|██████████| 28/28 [00:00<00:00, 100.65it/s]\n"
          ]
        },
        {
          "output_type": "stream",
          "name": "stdout",
          "text": [
            "Epoch: 80, TrL=0.6313, TrA=0.9262, VL=0.7286, VA=0.8211,  TeL=0.7225, TeA=0.8272\n"
          ]
        },
        {
          "output_type": "stream",
          "name": "stderr",
          "text": [
            "100%|██████████| 239/239 [00:11<00:00, 20.25it/s]\n",
            "100%|██████████| 27/27 [00:00<00:00, 97.32it/s]\n",
            "100%|██████████| 28/28 [00:00<00:00, 99.88it/s]\n"
          ]
        },
        {
          "output_type": "stream",
          "name": "stdout",
          "text": [
            "Epoch: 81, TrL=0.6338, TrA=0.9234, VL=0.7147, VA=0.8363,  TeL=0.7110, TeA=0.8357\n"
          ]
        },
        {
          "output_type": "stream",
          "name": "stderr",
          "text": [
            "100%|██████████| 239/239 [00:11<00:00, 20.24it/s]\n",
            "100%|██████████| 27/27 [00:00<00:00, 97.46it/s]\n",
            "100%|██████████| 28/28 [00:00<00:00, 99.97it/s]\n"
          ]
        },
        {
          "output_type": "stream",
          "name": "stdout",
          "text": [
            "Epoch: 82, TrL=0.6325, TrA=0.9244, VL=0.7169, VA=0.8344,  TeL=0.7122, TeA=0.8404\n"
          ]
        },
        {
          "output_type": "stream",
          "name": "stderr",
          "text": [
            "100%|██████████| 239/239 [00:11<00:00, 20.24it/s]\n",
            "100%|██████████| 27/27 [00:00<00:00, 68.29it/s]\n",
            "100%|██████████| 28/28 [00:00<00:00, 103.54it/s]\n"
          ]
        },
        {
          "output_type": "stream",
          "name": "stdout",
          "text": [
            "Epoch: 83, TrL=0.6321, TrA=0.9251, VL=0.7152, VA=0.8361,  TeL=0.7097, TeA=0.8421\n"
          ]
        },
        {
          "output_type": "stream",
          "name": "stderr",
          "text": [
            "100%|██████████| 239/239 [00:11<00:00, 20.25it/s]\n",
            "100%|██████████| 27/27 [00:00<00:00, 99.70it/s]\n",
            "100%|██████████| 28/28 [00:00<00:00, 101.10it/s]\n"
          ]
        },
        {
          "output_type": "stream",
          "name": "stdout",
          "text": [
            "Epoch: 84, TrL=0.6293, TrA=0.9288, VL=0.7154, VA=0.8341,  TeL=0.7094, TeA=0.8422\n"
          ]
        },
        {
          "output_type": "stream",
          "name": "stderr",
          "text": [
            "100%|██████████| 239/239 [00:11<00:00, 20.26it/s]\n",
            "100%|██████████| 27/27 [00:00<00:00, 98.40it/s]\n",
            "100%|██████████| 28/28 [00:00<00:00, 99.60it/s]\n"
          ]
        },
        {
          "output_type": "stream",
          "name": "stdout",
          "text": [
            "Epoch: 85, TrL=0.6295, TrA=0.9281, VL=0.7142, VA=0.8348,  TeL=0.7067, TeA=0.8438\n"
          ]
        },
        {
          "output_type": "stream",
          "name": "stderr",
          "text": [
            "100%|██████████| 239/239 [00:11<00:00, 20.27it/s]\n",
            "100%|██████████| 27/27 [00:00<00:00, 98.60it/s]\n",
            "100%|██████████| 28/28 [00:00<00:00, 101.95it/s]\n"
          ]
        },
        {
          "output_type": "stream",
          "name": "stdout",
          "text": [
            "Epoch: 86, TrL=0.6301, TrA=0.9273, VL=0.7227, VA=0.8298,  TeL=0.7144, TeA=0.8352\n"
          ]
        },
        {
          "output_type": "stream",
          "name": "stderr",
          "text": [
            "100%|██████████| 239/239 [00:11<00:00, 20.27it/s]\n",
            "100%|██████████| 27/27 [00:00<00:00, 100.40it/s]\n",
            "100%|██████████| 28/28 [00:00<00:00, 100.07it/s]\n"
          ]
        },
        {
          "output_type": "stream",
          "name": "stdout",
          "text": [
            "Epoch: 87, TrL=0.6321, TrA=0.9253, VL=0.7172, VA=0.8321,  TeL=0.7092, TeA=0.8424\n"
          ]
        },
        {
          "output_type": "stream",
          "name": "stderr",
          "text": [
            "100%|██████████| 239/239 [00:11<00:00, 20.07it/s]\n",
            "100%|██████████| 27/27 [00:00<00:00, 98.34it/s]\n",
            "100%|██████████| 28/28 [00:00<00:00, 99.60it/s]\n"
          ]
        },
        {
          "output_type": "stream",
          "name": "stdout",
          "text": [
            "Epoch: 88, TrL=0.6306, TrA=0.9266, VL=0.7126, VA=0.8396,  TeL=0.7095, TeA=0.8399\n"
          ]
        },
        {
          "output_type": "stream",
          "name": "stderr",
          "text": [
            "100%|██████████| 239/239 [00:11<00:00, 20.26it/s]\n",
            "100%|██████████| 27/27 [00:00<00:00, 100.22it/s]\n",
            "100%|██████████| 28/28 [00:00<00:00, 102.13it/s]\n"
          ]
        },
        {
          "output_type": "stream",
          "name": "stdout",
          "text": [
            "Epoch: 89, TrL=0.6303, TrA=0.9271, VL=0.7140, VA=0.8349,  TeL=0.7096, TeA=0.8404\n"
          ]
        },
        {
          "output_type": "stream",
          "name": "stderr",
          "text": [
            "100%|██████████| 239/239 [00:11<00:00, 20.25it/s]\n",
            "100%|██████████| 27/27 [00:00<00:00, 95.56it/s]\n",
            "100%|██████████| 28/28 [00:00<00:00, 99.81it/s]\n"
          ]
        },
        {
          "output_type": "stream",
          "name": "stdout",
          "text": [
            "Epoch: 90, TrL=0.6304, TrA=0.9271, VL=0.7198, VA=0.8286,  TeL=0.7090, TeA=0.8408\n"
          ]
        },
        {
          "output_type": "stream",
          "name": "stderr",
          "text": [
            "100%|██████████| 239/239 [00:11<00:00, 20.27it/s]\n",
            "100%|██████████| 27/27 [00:00<00:00, 96.87it/s]\n",
            "100%|██████████| 28/28 [00:00<00:00, 99.85it/s]\n"
          ]
        },
        {
          "output_type": "stream",
          "name": "stdout",
          "text": [
            "Epoch: 91, TrL=0.6306, TrA=0.9270, VL=0.7159, VA=0.8355,  TeL=0.7086, TeA=0.8423\n"
          ]
        },
        {
          "output_type": "stream",
          "name": "stderr",
          "text": [
            "100%|██████████| 239/239 [00:11<00:00, 20.27it/s]\n",
            "100%|██████████| 27/27 [00:00<00:00, 99.49it/s]\n",
            "100%|██████████| 28/28 [00:00<00:00, 101.02it/s]\n"
          ]
        },
        {
          "output_type": "stream",
          "name": "stdout",
          "text": [
            "Epoch: 92, TrL=0.6292, TrA=0.9287, VL=0.7162, VA=0.8345,  TeL=0.7133, TeA=0.8367\n"
          ]
        },
        {
          "output_type": "stream",
          "name": "stderr",
          "text": [
            "100%|██████████| 239/239 [00:11<00:00, 20.09it/s]\n",
            "100%|██████████| 27/27 [00:00<00:00, 98.27it/s]\n",
            "100%|██████████| 28/28 [00:00<00:00, 103.06it/s]\n"
          ]
        },
        {
          "output_type": "stream",
          "name": "stdout",
          "text": [
            "Epoch: 93, TrL=0.6303, TrA=0.9268, VL=0.7251, VA=0.8243,  TeL=0.7145, TeA=0.8344\n"
          ]
        },
        {
          "output_type": "stream",
          "name": "stderr",
          "text": [
            "100%|██████████| 239/239 [00:11<00:00, 20.28it/s]\n",
            "100%|██████████| 27/27 [00:00<00:00, 97.26it/s]\n",
            "100%|██████████| 28/28 [00:00<00:00, 100.62it/s]\n"
          ]
        },
        {
          "output_type": "stream",
          "name": "stdout",
          "text": [
            "Epoch: 94, TrL=0.6327, TrA=0.9248, VL=0.7157, VA=0.8347,  TeL=0.7056, TeA=0.8467\n"
          ]
        },
        {
          "output_type": "stream",
          "name": "stderr",
          "text": [
            "100%|██████████| 239/239 [00:11<00:00, 20.27it/s]\n",
            "100%|██████████| 27/27 [00:00<00:00, 100.81it/s]\n",
            "100%|██████████| 28/28 [00:00<00:00, 101.85it/s]\n"
          ]
        },
        {
          "output_type": "stream",
          "name": "stdout",
          "text": [
            "Epoch: 95, TrL=0.6305, TrA=0.9266, VL=0.7152, VA=0.8340,  TeL=0.7073, TeA=0.8414\n"
          ]
        },
        {
          "output_type": "stream",
          "name": "stderr",
          "text": [
            "100%|██████████| 239/239 [00:11<00:00, 20.27it/s]\n",
            "100%|██████████| 27/27 [00:00<00:00, 97.86it/s]\n",
            "100%|██████████| 28/28 [00:00<00:00, 103.55it/s]\n"
          ]
        },
        {
          "output_type": "stream",
          "name": "stdout",
          "text": [
            "Epoch: 96, TrL=0.6301, TrA=0.9266, VL=0.7143, VA=0.8347,  TeL=0.7108, TeA=0.8373\n"
          ]
        },
        {
          "output_type": "stream",
          "name": "stderr",
          "text": [
            "100%|██████████| 239/239 [00:11<00:00, 20.27it/s]\n",
            "100%|██████████| 27/27 [00:00<00:00, 98.19it/s]\n",
            "100%|██████████| 28/28 [00:00<00:00, 102.89it/s]\n"
          ]
        },
        {
          "output_type": "stream",
          "name": "stdout",
          "text": [
            "Epoch: 97, TrL=0.6305, TrA=0.9271, VL=0.7144, VA=0.8362,  TeL=0.7067, TeA=0.8457\n"
          ]
        },
        {
          "output_type": "stream",
          "name": "stderr",
          "text": [
            "100%|██████████| 239/239 [00:11<00:00, 20.10it/s]\n",
            "100%|██████████| 27/27 [00:00<00:00, 99.27it/s]\n",
            "100%|██████████| 28/28 [00:00<00:00, 104.32it/s]\n"
          ]
        },
        {
          "output_type": "stream",
          "name": "stdout",
          "text": [
            "Epoch: 98, TrL=0.6289, TrA=0.9278, VL=0.7201, VA=0.8299,  TeL=0.7078, TeA=0.8432\n"
          ]
        },
        {
          "output_type": "stream",
          "name": "stderr",
          "text": [
            "100%|██████████| 239/239 [00:11<00:00, 20.24it/s]\n",
            "100%|██████████| 27/27 [00:00<00:00, 100.24it/s]\n",
            "100%|██████████| 28/28 [00:00<00:00, 99.69it/s]\n"
          ]
        },
        {
          "output_type": "stream",
          "name": "stdout",
          "text": [
            "Epoch: 99, TrL=0.6317, TrA=0.9258, VL=0.7136, VA=0.8379,  TeL=0.7063, TeA=0.8449\n"
          ]
        },
        {
          "output_type": "stream",
          "name": "stderr",
          "text": [
            "100%|██████████| 239/239 [00:11<00:00, 20.27it/s]\n",
            "100%|██████████| 27/27 [00:00<00:00, 97.64it/s]\n",
            "100%|██████████| 28/28 [00:00<00:00, 100.61it/s]"
          ]
        },
        {
          "output_type": "stream",
          "name": "stdout",
          "text": [
            "Epoch: 100, TrL=0.6288, TrA=0.9284, VL=0.7152, VA=0.8354,  TeL=0.7115, TeA=0.8389\n"
          ]
        },
        {
          "output_type": "stream",
          "name": "stderr",
          "text": [
            "\n"
          ]
        }
      ]
    },
    {
      "cell_type": "code",
      "source": [
        "#CONFUSION MATRIX\n",
        "#function that perform inference\n",
        "def predict(net, loader,dev):\n",
        "  net.to(dev)\n",
        "  predictions_list = []\n",
        "  with torch.no_grad():\n",
        "    for (input, labels) in loader:\n",
        "      # Move to CUDA\n",
        "      input = input.to(dev)\n",
        "      pred = net(input)\n",
        "      _,pred_labels = pred.max(1)\n",
        "      pred_labels.tolist()\n",
        "      for lab in pred_labels:\n",
        "        lab = lab.item()\n",
        "        predictions_list.append(str(lab))\n",
        "  return predictions_list          "
      ],
      "metadata": {
        "id": "0qpYURFaVq6Y",
        "execution": {
          "iopub.status.busy": "2022-06-02T19:31:10.105619Z",
          "iopub.execute_input": "2022-06-02T19:31:10.106022Z",
          "iopub.status.idle": "2022-06-02T19:31:10.113994Z",
          "shell.execute_reply.started": "2022-06-02T19:31:10.105982Z",
          "shell.execute_reply": "2022-06-02T19:31:10.112832Z"
        },
        "trusted": true
      },
      "execution_count": null,
      "outputs": []
    },
    {
      "cell_type": "code",
      "source": [
        "#inference on test set\n",
        "predicted_labels = predict(model, loaders[\"test\"], dev=dev)"
      ],
      "metadata": {
        "id": "kNvhR__QVq6Z",
        "execution": {
          "iopub.status.busy": "2022-06-02T19:31:10.115723Z",
          "iopub.execute_input": "2022-06-02T19:31:10.116192Z",
          "iopub.status.idle": "2022-06-02T19:31:10.450066Z",
          "shell.execute_reply.started": "2022-06-02T19:31:10.116149Z",
          "shell.execute_reply": "2022-06-02T19:31:10.449092Z"
        },
        "trusted": true
      },
      "execution_count": null,
      "outputs": []
    },
    {
      "cell_type": "code",
      "source": [
        "#extracting ground truth labels\n",
        "true_labels = []\n",
        "for _ ,label in loaders[\"test\"]:\n",
        "  for lab in label:\n",
        "    lab = lab.item()\n",
        "    true_labels.append(str(lab))"
      ],
      "metadata": {
        "id": "Wx3r7LPgVq6Z",
        "execution": {
          "iopub.status.busy": "2022-06-02T19:31:10.452196Z",
          "iopub.execute_input": "2022-06-02T19:31:10.452596Z",
          "iopub.status.idle": "2022-06-02T19:31:10.516521Z",
          "shell.execute_reply.started": "2022-06-02T19:31:10.452559Z",
          "shell.execute_reply": "2022-06-02T19:31:10.515751Z"
        },
        "trusted": true
      },
      "execution_count": null,
      "outputs": []
    },
    {
      "cell_type": "code",
      "source": [
        "classes = [0, 1, 2]"
      ],
      "metadata": {
        "id": "0wl-1RqqVq6Z",
        "execution": {
          "iopub.status.busy": "2022-06-02T19:31:10.517786Z",
          "iopub.execute_input": "2022-06-02T19:31:10.518166Z",
          "iopub.status.idle": "2022-06-02T19:31:10.524753Z",
          "shell.execute_reply.started": "2022-06-02T19:31:10.518113Z",
          "shell.execute_reply": "2022-06-02T19:31:10.523876Z"
        },
        "trusted": true
      },
      "execution_count": null,
      "outputs": []
    },
    {
      "cell_type": "code",
      "source": [
        "labels = [str(x) for x in classes]\n",
        "print (labels)"
      ],
      "metadata": {
        "id": "m4rk5gcDVq6Z",
        "execution": {
          "iopub.status.busy": "2022-06-02T19:31:10.526225Z",
          "iopub.execute_input": "2022-06-02T19:31:10.526756Z",
          "iopub.status.idle": "2022-06-02T19:31:10.534466Z",
          "shell.execute_reply.started": "2022-06-02T19:31:10.526705Z",
          "shell.execute_reply": "2022-06-02T19:31:10.533393Z"
        },
        "trusted": true,
        "colab": {
          "base_uri": "https://localhost:8080/"
        },
        "outputId": "f93bfb33-15af-4c98-8cf0-ee7d80489b2e"
      },
      "execution_count": null,
      "outputs": [
        {
          "output_type": "stream",
          "name": "stdout",
          "text": [
            "['0', '1', '2']\n"
          ]
        }
      ]
    },
    {
      "cell_type": "code",
      "source": [
        "#confusion matrix\n",
        "from sklearn.metrics import confusion_matrix, ConfusionMatrixDisplay\n",
        "\n",
        "cm = confusion_matrix(y_true=true_labels, y_pred=predicted_labels, labels=labels)\n",
        "cm"
      ],
      "metadata": {
        "id": "mc_FSsnSVq6a",
        "execution": {
          "iopub.status.busy": "2022-06-02T19:31:10.535594Z",
          "iopub.execute_input": "2022-06-02T19:31:10.536418Z",
          "iopub.status.idle": "2022-06-02T19:31:10.687674Z",
          "shell.execute_reply.started": "2022-06-02T19:31:10.536336Z",
          "shell.execute_reply": "2022-06-02T19:31:10.686745Z"
        },
        "trusted": true,
        "colab": {
          "base_uri": "https://localhost:8080/"
        },
        "outputId": "06e07369-0b3a-45b5-b36f-73e4cab60c03"
      },
      "execution_count": null,
      "outputs": [
        {
          "output_type": "execute_result",
          "data": {
            "text/plain": [
              "array([[1771,  167,  112],\n",
              "       [ 239, 2484,  218],\n",
              "       [ 142,  253, 1563]])"
            ]
          },
          "metadata": {},
          "execution_count": 77
        }
      ]
    },
    {
      "cell_type": "code",
      "source": [
        "import seaborn as sns\n",
        "import numpy as np\n",
        "from matplotlib import pyplot as plt\n",
        "\n",
        "cmn = cm.astype('float') / cm.sum(axis=1)[:, np.newaxis]\n",
        "fig, ax = plt.subplots(figsize=(10,10))\n",
        "sns.heatmap(cmn, annot=True, fmt='.2f', xticklabels=classes, yticklabels=classes)\n",
        "plt.ylabel('Actual')\n",
        "plt.xlabel('Predicted')\n",
        "plt.show(block=False)"
      ],
      "metadata": {
        "id": "-cQ2HVsRVq6a",
        "execution": {
          "iopub.status.busy": "2022-06-02T19:31:10.689018Z",
          "iopub.execute_input": "2022-06-02T19:31:10.689473Z",
          "iopub.status.idle": "2022-06-02T19:31:11.094950Z",
          "shell.execute_reply.started": "2022-06-02T19:31:10.689436Z",
          "shell.execute_reply": "2022-06-02T19:31:11.094201Z"
        },
        "trusted": true,
        "colab": {
          "base_uri": "https://localhost:8080/",
          "height": 606
        },
        "outputId": "4f58c750-ef40-4cbc-faf1-c837a591e115"
      },
      "execution_count": null,
      "outputs": [
        {
          "output_type": "display_data",
          "data": {
            "text/plain": [
              "<Figure size 720x720 with 2 Axes>"
            ],
            "image/png": "[encoded data removed]"
          },
          "metadata": {
            "needs_background": "light"
          }
        }
      ]
    },
    {
      "cell_type": "code",
      "source": [
        ""
      ],
      "metadata": {
        "id": "SXy8zMY69sez"
      },
      "execution_count": null,
      "outputs": []
    },
    {
      "cell_type": "code",
      "source": [
        ""
      ],
      "metadata": {
        "id": "iHbYIGVF9sez"
      },
      "execution_count": null,
      "outputs": []
    },
    {
      "cell_type": "code",
      "source": [
        ""
      ],
      "metadata": {
        "id": "lJTt_2v49sez"
      },
      "execution_count": null,
      "outputs": []
    },
    {
      "cell_type": "code",
      "source": [
        ""
      ],
      "metadata": {
        "id": "rSHKveOF9sez"
      },
      "execution_count": null,
      "outputs": []
    },
    {
      "cell_type": "code",
      "source": [
        ""
      ],
      "metadata": {
        "id": "dMepLSPj9sez"
      },
      "execution_count": null,
      "outputs": []
    },
    {
      "cell_type": "code",
      "source": [
        ""
      ],
      "metadata": {
        "id": "z8X3W8PJ9sez"
      },
      "execution_count": null,
      "outputs": []
    },
    {
      "cell_type": "code",
      "source": [
        ""
      ],
      "metadata": {
        "id": "S2bT18Wy9sez"
      },
      "execution_count": null,
      "outputs": []
    },
    {
      "cell_type": "code",
      "source": [
        ""
      ],
      "metadata": {
        "id": "9KSqcEah9se0"
      },
      "execution_count": null,
      "outputs": []
    },
    {
      "cell_type": "code",
      "source": [
        ""
      ],
      "metadata": {
        "id": "pub0LRq19se0"
      },
      "execution_count": null,
      "outputs": []
    },
    {
      "cell_type": "code",
      "source": [
        ""
      ],
      "metadata": {
        "id": "1-RyrYng9se0"
      },
      "execution_count": null,
      "outputs": []
    },
    {
      "cell_type": "code",
      "source": [
        ""
      ],
      "metadata": {
        "id": "AiflyiPs9se0"
      },
      "execution_count": null,
      "outputs": []
    }
  ]
}